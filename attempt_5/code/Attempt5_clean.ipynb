{
 "cells": [
  {
   "cell_type": "code",
   "execution_count": 602,
   "metadata": {},
   "outputs": [],
   "source": [
    "import pandas as pd\n",
    "import numpy as np\n",
    "import missingno as msno\n",
    "import seaborn as sns\n",
    "import matplotlib.pyplot as plt"
   ]
  },
  {
   "cell_type": "markdown",
   "metadata": {},
   "source": [
    "# Data Cleaning Compendium of Actions\n",
    "\n",
    "### Combine sf columns and delete columns that overlap in purpose\n",
    "### Combine bathrooms and drop overlapping columns\n",
    "### Drop totrmsabvgrnd because it is redundant with count of bedrooms and kitchens\n",
    "\n",
    "\n",
    "### Rank Ordinals Numerically\n",
    "* Ordinals were subjectively ranked based on domain knowledge. Most were just ordered by rank from worst to best with worst being 1 and best being a higher value at step 1 depending on n length of ordinal values. Some were subjectively decided to have higher than step 1 to achieve a greater magnitude of influence. I tried to do this sparingly but in some cases I thought this would make sense. Ordinals with NA were replaced with 0\n",
    "\n",
    "### Square Feet and Sale Price Analysis\n",
    "* There appear to be three identifiable outliers above 6000sf. \n",
    "* some of these very large homes do not seem to be selling for what they should selling for on a price per square feet basis. (possible sales to family members for values less than market price, fraud, or error in recording). \n",
    "* [X] I will remove these values.  \n",
    "\n",
    "### Mean, Min., Max, and Standard Deviation for all Columns\n",
    "* [X] Noticed that ms_subclass is a numerical column when it should be categorical. Change to string object. \n",
    "* [X] pid column is also included in the dataframe and is just a reference column used for externally access to individual records. I will remove this column. \n",
    "\n",
    "### Examining lot_area\n",
    "* [X] seems to be a few large outliers in lot area. 471 has 159,000 and 694 has 115,149. The mean is only 10,000. I will run a box plot on this to further examine.\n",
    "* The largest lot area home at 159,000sf was built in 1958 but remodeled 1 year before sale in 2006. It has large square footage and lot area in relation to sale price but I cannot rule out that other factors affect price. I will not remove this outlier. \n",
    "* The second largest lot area also seems legit and not unusual. larger square footage from home that was built in 1971 but remodeled in 2002 before sale in 2007. I will not remove this outlier either. \n",
    "\n",
    "\n",
    "### Examining mas_vnr_area\n",
    "* [X] seems to be some large values in mas_vnr_area. mean is 98 and the five largest values are above 1000. Probably not that unusual for expensive homes but worth examing further. \n",
    "* Nothing out of the ordinary with 1600 value. \n",
    "* The lower values seem normal as well. I will leave this columns alone. \n",
    "\n",
    "### Examining garage_yr_blt\n",
    "* [X] garage year built has a value pf 2207 which must be wrong. I am going to examine that record to see if there is housing year built or upgrade year data to confirm my suspicion that this is actually meant to say 2007. \n",
    "* [X] identified that the house was built in 2006 and year remodeled was 2007 so I am assuming garage year built was 2007 and the 2207 was actually a misprint. Changed the value. \n",
    "\n",
    "### Examining misc_val\n",
    "* [X] largest value is significantly higher than all the rest and much higher than the mean. This is a column where there are also not very many values. I may consider deleting this column or perhaps eliminating the outlier. Need to examine further.\n",
    "* [X] I have decided to eliminate the misc_val column due to large number of zero values. \n",
    "\n",
    "### Examining ttl_bath\n",
    "* [X] I am deciding to do nothing with the outliers in ttl_bath. I do not think they are not too far, all things considered. \n",
    "\n",
    "### Examing saleprice \n",
    "* [X] Examine Sale Price. There doesn't seem to exist any unacounted for reasons for larger salesprices. All of the 52 homes that sold for saleprices that were 3 standard deviations above the mean had characteristics that would justify such a sale. There were no homes that sold for less than 3 standard deviations away from the mean. \n",
    "\n",
    "### Evaluating Year Sold\n",
    "* [X] Evaluating year sold. There doesn't appear to be any outliers in year sold.\n",
    "* NOTE: There is not a full year of data for 2010\n",
    "\n",
    "### Fill Nulls in Ordinals with value of 1\n",
    "* I chose 1 because I didn't want a value of zero to ruin any calculations in complex modeling. \n",
    "\n",
    "### Add 'saleprice' column to ordinals_df\n",
    "* adding saleprice to ordinals because I am going to future analysis on just ordinals before dropping saleprice column and concatenating ordinals with other dfs to reform original dataframe\n"
   ]
  },
  {
   "cell_type": "markdown",
   "metadata": {},
   "source": [
    "# INITIAL OUTLIER ANALYSIS\n",
    "* The first outliers I will be targeting will be outliers regardins square footage. In the data dictionary the author mentioned 5 values that may want to be removed because of their outsized effect on the data. He mentioned a simple analysis between sale price and above ground living space would identify them. I have already combined all square footage columns including above ground living space so I will analyze total square feet and sale price. \n",
    "* I will then go through value counts, minimum and maximums, standard deviations and nlargest to find initially glaring outliers. There will some use of charts to further elucidate findings. \n",
    "\n",
    "### Compendium of Findings and Actions Performed During Outlier Analysis (below)\n",
    "\n",
    "##### Square Feet and Sale Price Analysis\n",
    "* There appear to be three identifiable outliers above 6000sf. \n",
    "* some of these very large homes do not seem to be selling for what they should selling for on a price per square feet basis. (possible sales to family members for values less than market price, fraud, or error in recording). \n",
    "* [X] I will remove these values.\n",
    "\n",
    "##### Mean, Min., Max, and Standard Deviation for all Columns\n",
    "* [X] Noticed that ms_subclass is a numerical column when it should be categorical. Change to string object. \n",
    "* [X] pid column is also included in the dataframe and is just a reference column used for externally access to individual records. I will remove this column.\n",
    "\n",
    "##### Examining lot_area\n",
    "* [X] seems to be a few large outliers in lot area. 471 has 159,000 and 694 has 115,149. The mean is only 10,000. I will run a box plot on this to further examine.\n",
    "* The largest lot area home at 159,000sf was built in 1958 but remodeled 1 year before sale in 2006. It has large square footage and lot area in relation to sale price but I cannot rule out that other factors affect price. I will not remove this outlier. \n",
    "* The second largest lot area also seems legit and not unusual. larger square footage from home that was built in 1971 but remodeled in 2002 before sale in 2007. I will not remove this outlier either. \n",
    "\n",
    "##### Examining mas_vnr_area\n",
    "* [X] seems to be some large values in mas_vnr_area. mean is 98 and the five largest values are above 1000. Probably not that unusual for expensive homes but worth examing further. \n",
    "* Nothing out of the ordinary with 1600 value. \n",
    "* The lower values seem normal as well. I will leave this columns alone. \n",
    "\n",
    "##### Examining garage_yr_blt\n",
    "* [X] garage year built has a value pf 2207 which must be wrong. I am going to examine that record to see if there is housing year built or upgrade year data to confirm my suspicion that this is actually meant to say 2007. \n",
    "* [X] identified that the house was built in 2006 and year remodeled was 2007 so I am assuming garage year built was 2007 and the 2207 was actually a misprint. Changed the value. \n",
    "\n",
    "##### Examining misc_val\n",
    "* [X] largest value is significantly higher than all the rest and much higher than the mean. This is a column where there are also not very many values. I may consider deleting this column or perhaps eliminating the outlier. Need to examine further.\n",
    "* [X] I have decided to eliminate the misc_val column due to large number of zero values. \n",
    "\n",
    "##### Examining ttl_bath\n",
    "* [X] I am deciding to do nothing with the outliers in ttl_bath. I do not think they are not too far, all things considered. \n",
    "\n",
    "##### Examing saleprice \n",
    "* [X] Examine Sale Price. There doesn't seem to exist any unacounted for reasons for larger salesprices. All of the 52 homes that sold for saleprices that were 3 standard deviations above the mean had characteristics that would justify such a sale. There were no homes that sold for less than 3 standard deviations away from the mean. \n",
    "\n",
    "##### Evaluating Year Sold\n",
    "* [X] Evaluating year sold. There doesn't appear to be any outliers in year sold.\n",
    "* NOTE: There is not a full year of data for 2010\n"
   ]
  },
  {
   "cell_type": "markdown",
   "metadata": {},
   "source": [
    "### Read in Training Data"
   ]
  },
  {
   "cell_type": "code",
   "execution_count": 603,
   "metadata": {},
   "outputs": [],
   "source": [
    "ames = pd.read_csv('/Users/jamesopacich/Documents/dsi/projects/project_2/starter_data/train.csv')"
   ]
  },
  {
   "cell_type": "code",
   "execution_count": 604,
   "metadata": {},
   "outputs": [
    {
     "data": {
      "text/html": [
       "<div>\n",
       "<style scoped>\n",
       "    .dataframe tbody tr th:only-of-type {\n",
       "        vertical-align: middle;\n",
       "    }\n",
       "\n",
       "    .dataframe tbody tr th {\n",
       "        vertical-align: top;\n",
       "    }\n",
       "\n",
       "    .dataframe thead th {\n",
       "        text-align: right;\n",
       "    }\n",
       "</style>\n",
       "<table border=\"1\" class=\"dataframe\">\n",
       "  <thead>\n",
       "    <tr style=\"text-align: right;\">\n",
       "      <th></th>\n",
       "      <th>Id</th>\n",
       "      <th>PID</th>\n",
       "      <th>MS SubClass</th>\n",
       "      <th>MS Zoning</th>\n",
       "      <th>Lot Frontage</th>\n",
       "      <th>Lot Area</th>\n",
       "      <th>Street</th>\n",
       "      <th>Alley</th>\n",
       "      <th>Lot Shape</th>\n",
       "      <th>Land Contour</th>\n",
       "      <th>...</th>\n",
       "      <th>Screen Porch</th>\n",
       "      <th>Pool Area</th>\n",
       "      <th>Pool QC</th>\n",
       "      <th>Fence</th>\n",
       "      <th>Misc Feature</th>\n",
       "      <th>Misc Val</th>\n",
       "      <th>Mo Sold</th>\n",
       "      <th>Yr Sold</th>\n",
       "      <th>Sale Type</th>\n",
       "      <th>SalePrice</th>\n",
       "    </tr>\n",
       "  </thead>\n",
       "  <tbody>\n",
       "    <tr>\n",
       "      <th>0</th>\n",
       "      <td>109</td>\n",
       "      <td>533352170</td>\n",
       "      <td>60</td>\n",
       "      <td>RL</td>\n",
       "      <td>NaN</td>\n",
       "      <td>13517</td>\n",
       "      <td>Pave</td>\n",
       "      <td>NaN</td>\n",
       "      <td>IR1</td>\n",
       "      <td>Lvl</td>\n",
       "      <td>...</td>\n",
       "      <td>0</td>\n",
       "      <td>0</td>\n",
       "      <td>NaN</td>\n",
       "      <td>NaN</td>\n",
       "      <td>NaN</td>\n",
       "      <td>0</td>\n",
       "      <td>3</td>\n",
       "      <td>2010</td>\n",
       "      <td>WD</td>\n",
       "      <td>130500</td>\n",
       "    </tr>\n",
       "    <tr>\n",
       "      <th>1</th>\n",
       "      <td>544</td>\n",
       "      <td>531379050</td>\n",
       "      <td>60</td>\n",
       "      <td>RL</td>\n",
       "      <td>43.0</td>\n",
       "      <td>11492</td>\n",
       "      <td>Pave</td>\n",
       "      <td>NaN</td>\n",
       "      <td>IR1</td>\n",
       "      <td>Lvl</td>\n",
       "      <td>...</td>\n",
       "      <td>0</td>\n",
       "      <td>0</td>\n",
       "      <td>NaN</td>\n",
       "      <td>NaN</td>\n",
       "      <td>NaN</td>\n",
       "      <td>0</td>\n",
       "      <td>4</td>\n",
       "      <td>2009</td>\n",
       "      <td>WD</td>\n",
       "      <td>220000</td>\n",
       "    </tr>\n",
       "    <tr>\n",
       "      <th>2</th>\n",
       "      <td>153</td>\n",
       "      <td>535304180</td>\n",
       "      <td>20</td>\n",
       "      <td>RL</td>\n",
       "      <td>68.0</td>\n",
       "      <td>7922</td>\n",
       "      <td>Pave</td>\n",
       "      <td>NaN</td>\n",
       "      <td>Reg</td>\n",
       "      <td>Lvl</td>\n",
       "      <td>...</td>\n",
       "      <td>0</td>\n",
       "      <td>0</td>\n",
       "      <td>NaN</td>\n",
       "      <td>NaN</td>\n",
       "      <td>NaN</td>\n",
       "      <td>0</td>\n",
       "      <td>1</td>\n",
       "      <td>2010</td>\n",
       "      <td>WD</td>\n",
       "      <td>109000</td>\n",
       "    </tr>\n",
       "    <tr>\n",
       "      <th>3</th>\n",
       "      <td>318</td>\n",
       "      <td>916386060</td>\n",
       "      <td>60</td>\n",
       "      <td>RL</td>\n",
       "      <td>73.0</td>\n",
       "      <td>9802</td>\n",
       "      <td>Pave</td>\n",
       "      <td>NaN</td>\n",
       "      <td>Reg</td>\n",
       "      <td>Lvl</td>\n",
       "      <td>...</td>\n",
       "      <td>0</td>\n",
       "      <td>0</td>\n",
       "      <td>NaN</td>\n",
       "      <td>NaN</td>\n",
       "      <td>NaN</td>\n",
       "      <td>0</td>\n",
       "      <td>4</td>\n",
       "      <td>2010</td>\n",
       "      <td>WD</td>\n",
       "      <td>174000</td>\n",
       "    </tr>\n",
       "    <tr>\n",
       "      <th>4</th>\n",
       "      <td>255</td>\n",
       "      <td>906425045</td>\n",
       "      <td>50</td>\n",
       "      <td>RL</td>\n",
       "      <td>82.0</td>\n",
       "      <td>14235</td>\n",
       "      <td>Pave</td>\n",
       "      <td>NaN</td>\n",
       "      <td>IR1</td>\n",
       "      <td>Lvl</td>\n",
       "      <td>...</td>\n",
       "      <td>0</td>\n",
       "      <td>0</td>\n",
       "      <td>NaN</td>\n",
       "      <td>NaN</td>\n",
       "      <td>NaN</td>\n",
       "      <td>0</td>\n",
       "      <td>3</td>\n",
       "      <td>2010</td>\n",
       "      <td>WD</td>\n",
       "      <td>138500</td>\n",
       "    </tr>\n",
       "  </tbody>\n",
       "</table>\n",
       "<p>5 rows × 81 columns</p>\n",
       "</div>"
      ],
      "text/plain": [
       "    Id        PID  MS SubClass MS Zoning  Lot Frontage  Lot Area Street Alley  \\\n",
       "0  109  533352170           60        RL           NaN     13517   Pave   NaN   \n",
       "1  544  531379050           60        RL          43.0     11492   Pave   NaN   \n",
       "2  153  535304180           20        RL          68.0      7922   Pave   NaN   \n",
       "3  318  916386060           60        RL          73.0      9802   Pave   NaN   \n",
       "4  255  906425045           50        RL          82.0     14235   Pave   NaN   \n",
       "\n",
       "  Lot Shape Land Contour  ... Screen Porch Pool Area Pool QC Fence  \\\n",
       "0       IR1          Lvl  ...            0         0     NaN   NaN   \n",
       "1       IR1          Lvl  ...            0         0     NaN   NaN   \n",
       "2       Reg          Lvl  ...            0         0     NaN   NaN   \n",
       "3       Reg          Lvl  ...            0         0     NaN   NaN   \n",
       "4       IR1          Lvl  ...            0         0     NaN   NaN   \n",
       "\n",
       "  Misc Feature Misc Val Mo Sold Yr Sold  Sale Type  SalePrice  \n",
       "0          NaN        0       3    2010        WD      130500  \n",
       "1          NaN        0       4    2009        WD      220000  \n",
       "2          NaN        0       1    2010        WD      109000  \n",
       "3          NaN        0       4    2010        WD      174000  \n",
       "4          NaN        0       3    2010        WD      138500  \n",
       "\n",
       "[5 rows x 81 columns]"
      ]
     },
     "execution_count": 604,
     "metadata": {},
     "output_type": "execute_result"
    }
   ],
   "source": [
    "ames.head()"
   ]
  },
  {
   "cell_type": "code",
   "execution_count": 605,
   "metadata": {},
   "outputs": [
    {
     "data": {
      "text/plain": [
       "(2051, 81)"
      ]
     },
     "execution_count": 605,
     "metadata": {},
     "output_type": "execute_result"
    }
   ],
   "source": [
    "ames.shape"
   ]
  },
  {
   "cell_type": "code",
   "execution_count": 606,
   "metadata": {},
   "outputs": [
    {
     "name": "stdout",
     "output_type": "stream",
     "text": [
      "<class 'pandas.core.frame.DataFrame'>\n",
      "RangeIndex: 2051 entries, 0 to 2050\n",
      "Data columns (total 81 columns):\n",
      " #   Column           Non-Null Count  Dtype  \n",
      "---  ------           --------------  -----  \n",
      " 0   Id               2051 non-null   int64  \n",
      " 1   PID              2051 non-null   int64  \n",
      " 2   MS SubClass      2051 non-null   int64  \n",
      " 3   MS Zoning        2051 non-null   object \n",
      " 4   Lot Frontage     1721 non-null   float64\n",
      " 5   Lot Area         2051 non-null   int64  \n",
      " 6   Street           2051 non-null   object \n",
      " 7   Alley            140 non-null    object \n",
      " 8   Lot Shape        2051 non-null   object \n",
      " 9   Land Contour     2051 non-null   object \n",
      " 10  Utilities        2051 non-null   object \n",
      " 11  Lot Config       2051 non-null   object \n",
      " 12  Land Slope       2051 non-null   object \n",
      " 13  Neighborhood     2051 non-null   object \n",
      " 14  Condition 1      2051 non-null   object \n",
      " 15  Condition 2      2051 non-null   object \n",
      " 16  Bldg Type        2051 non-null   object \n",
      " 17  House Style      2051 non-null   object \n",
      " 18  Overall Qual     2051 non-null   int64  \n",
      " 19  Overall Cond     2051 non-null   int64  \n",
      " 20  Year Built       2051 non-null   int64  \n",
      " 21  Year Remod/Add   2051 non-null   int64  \n",
      " 22  Roof Style       2051 non-null   object \n",
      " 23  Roof Matl        2051 non-null   object \n",
      " 24  Exterior 1st     2051 non-null   object \n",
      " 25  Exterior 2nd     2051 non-null   object \n",
      " 26  Mas Vnr Type     2029 non-null   object \n",
      " 27  Mas Vnr Area     2029 non-null   float64\n",
      " 28  Exter Qual       2051 non-null   object \n",
      " 29  Exter Cond       2051 non-null   object \n",
      " 30  Foundation       2051 non-null   object \n",
      " 31  Bsmt Qual        1996 non-null   object \n",
      " 32  Bsmt Cond        1996 non-null   object \n",
      " 33  Bsmt Exposure    1993 non-null   object \n",
      " 34  BsmtFin Type 1   1996 non-null   object \n",
      " 35  BsmtFin SF 1     2050 non-null   float64\n",
      " 36  BsmtFin Type 2   1995 non-null   object \n",
      " 37  BsmtFin SF 2     2050 non-null   float64\n",
      " 38  Bsmt Unf SF      2050 non-null   float64\n",
      " 39  Total Bsmt SF    2050 non-null   float64\n",
      " 40  Heating          2051 non-null   object \n",
      " 41  Heating QC       2051 non-null   object \n",
      " 42  Central Air      2051 non-null   object \n",
      " 43  Electrical       2051 non-null   object \n",
      " 44  1st Flr SF       2051 non-null   int64  \n",
      " 45  2nd Flr SF       2051 non-null   int64  \n",
      " 46  Low Qual Fin SF  2051 non-null   int64  \n",
      " 47  Gr Liv Area      2051 non-null   int64  \n",
      " 48  Bsmt Full Bath   2049 non-null   float64\n",
      " 49  Bsmt Half Bath   2049 non-null   float64\n",
      " 50  Full Bath        2051 non-null   int64  \n",
      " 51  Half Bath        2051 non-null   int64  \n",
      " 52  Bedroom AbvGr    2051 non-null   int64  \n",
      " 53  Kitchen AbvGr    2051 non-null   int64  \n",
      " 54  Kitchen Qual     2051 non-null   object \n",
      " 55  TotRms AbvGrd    2051 non-null   int64  \n",
      " 56  Functional       2051 non-null   object \n",
      " 57  Fireplaces       2051 non-null   int64  \n",
      " 58  Fireplace Qu     1051 non-null   object \n",
      " 59  Garage Type      1938 non-null   object \n",
      " 60  Garage Yr Blt    1937 non-null   float64\n",
      " 61  Garage Finish    1937 non-null   object \n",
      " 62  Garage Cars      2050 non-null   float64\n",
      " 63  Garage Area      2050 non-null   float64\n",
      " 64  Garage Qual      1937 non-null   object \n",
      " 65  Garage Cond      1937 non-null   object \n",
      " 66  Paved Drive      2051 non-null   object \n",
      " 67  Wood Deck SF     2051 non-null   int64  \n",
      " 68  Open Porch SF    2051 non-null   int64  \n",
      " 69  Enclosed Porch   2051 non-null   int64  \n",
      " 70  3Ssn Porch       2051 non-null   int64  \n",
      " 71  Screen Porch     2051 non-null   int64  \n",
      " 72  Pool Area        2051 non-null   int64  \n",
      " 73  Pool QC          9 non-null      object \n",
      " 74  Fence            400 non-null    object \n",
      " 75  Misc Feature     65 non-null     object \n",
      " 76  Misc Val         2051 non-null   int64  \n",
      " 77  Mo Sold          2051 non-null   int64  \n",
      " 78  Yr Sold          2051 non-null   int64  \n",
      " 79  Sale Type        2051 non-null   object \n",
      " 80  SalePrice        2051 non-null   int64  \n",
      "dtypes: float64(11), int64(28), object(42)\n",
      "memory usage: 1.3+ MB\n"
     ]
    }
   ],
   "source": [
    "ames.info()"
   ]
  },
  {
   "cell_type": "markdown",
   "metadata": {},
   "source": [
    "### Read in Test Data"
   ]
  },
  {
   "cell_type": "code",
   "execution_count": 607,
   "metadata": {},
   "outputs": [],
   "source": [
    "test = pd.read_csv('/Users/jamesopacich/Documents/dsi/projects/project_2/starter_data/test.csv')"
   ]
  },
  {
   "cell_type": "code",
   "execution_count": 608,
   "metadata": {},
   "outputs": [
    {
     "data": {
      "text/html": [
       "<div>\n",
       "<style scoped>\n",
       "    .dataframe tbody tr th:only-of-type {\n",
       "        vertical-align: middle;\n",
       "    }\n",
       "\n",
       "    .dataframe tbody tr th {\n",
       "        vertical-align: top;\n",
       "    }\n",
       "\n",
       "    .dataframe thead th {\n",
       "        text-align: right;\n",
       "    }\n",
       "</style>\n",
       "<table border=\"1\" class=\"dataframe\">\n",
       "  <thead>\n",
       "    <tr style=\"text-align: right;\">\n",
       "      <th></th>\n",
       "      <th>Id</th>\n",
       "      <th>PID</th>\n",
       "      <th>MS SubClass</th>\n",
       "      <th>MS Zoning</th>\n",
       "      <th>Lot Frontage</th>\n",
       "      <th>Lot Area</th>\n",
       "      <th>Street</th>\n",
       "      <th>Alley</th>\n",
       "      <th>Lot Shape</th>\n",
       "      <th>Land Contour</th>\n",
       "      <th>...</th>\n",
       "      <th>Screen Porch</th>\n",
       "      <th>Pool Area</th>\n",
       "      <th>Pool QC</th>\n",
       "      <th>Fence</th>\n",
       "      <th>Misc Feature</th>\n",
       "      <th>Misc Val</th>\n",
       "      <th>Mo Sold</th>\n",
       "      <th>Yr Sold</th>\n",
       "      <th>Sale Type</th>\n",
       "      <th>SalePrice</th>\n",
       "    </tr>\n",
       "  </thead>\n",
       "  <tbody>\n",
       "    <tr>\n",
       "      <th>0</th>\n",
       "      <td>109</td>\n",
       "      <td>533352170</td>\n",
       "      <td>60</td>\n",
       "      <td>RL</td>\n",
       "      <td>NaN</td>\n",
       "      <td>13517</td>\n",
       "      <td>Pave</td>\n",
       "      <td>NaN</td>\n",
       "      <td>IR1</td>\n",
       "      <td>Lvl</td>\n",
       "      <td>...</td>\n",
       "      <td>0</td>\n",
       "      <td>0</td>\n",
       "      <td>NaN</td>\n",
       "      <td>NaN</td>\n",
       "      <td>NaN</td>\n",
       "      <td>0</td>\n",
       "      <td>3</td>\n",
       "      <td>2010</td>\n",
       "      <td>WD</td>\n",
       "      <td>130500</td>\n",
       "    </tr>\n",
       "    <tr>\n",
       "      <th>1</th>\n",
       "      <td>544</td>\n",
       "      <td>531379050</td>\n",
       "      <td>60</td>\n",
       "      <td>RL</td>\n",
       "      <td>43.0</td>\n",
       "      <td>11492</td>\n",
       "      <td>Pave</td>\n",
       "      <td>NaN</td>\n",
       "      <td>IR1</td>\n",
       "      <td>Lvl</td>\n",
       "      <td>...</td>\n",
       "      <td>0</td>\n",
       "      <td>0</td>\n",
       "      <td>NaN</td>\n",
       "      <td>NaN</td>\n",
       "      <td>NaN</td>\n",
       "      <td>0</td>\n",
       "      <td>4</td>\n",
       "      <td>2009</td>\n",
       "      <td>WD</td>\n",
       "      <td>220000</td>\n",
       "    </tr>\n",
       "    <tr>\n",
       "      <th>2</th>\n",
       "      <td>153</td>\n",
       "      <td>535304180</td>\n",
       "      <td>20</td>\n",
       "      <td>RL</td>\n",
       "      <td>68.0</td>\n",
       "      <td>7922</td>\n",
       "      <td>Pave</td>\n",
       "      <td>NaN</td>\n",
       "      <td>Reg</td>\n",
       "      <td>Lvl</td>\n",
       "      <td>...</td>\n",
       "      <td>0</td>\n",
       "      <td>0</td>\n",
       "      <td>NaN</td>\n",
       "      <td>NaN</td>\n",
       "      <td>NaN</td>\n",
       "      <td>0</td>\n",
       "      <td>1</td>\n",
       "      <td>2010</td>\n",
       "      <td>WD</td>\n",
       "      <td>109000</td>\n",
       "    </tr>\n",
       "    <tr>\n",
       "      <th>3</th>\n",
       "      <td>318</td>\n",
       "      <td>916386060</td>\n",
       "      <td>60</td>\n",
       "      <td>RL</td>\n",
       "      <td>73.0</td>\n",
       "      <td>9802</td>\n",
       "      <td>Pave</td>\n",
       "      <td>NaN</td>\n",
       "      <td>Reg</td>\n",
       "      <td>Lvl</td>\n",
       "      <td>...</td>\n",
       "      <td>0</td>\n",
       "      <td>0</td>\n",
       "      <td>NaN</td>\n",
       "      <td>NaN</td>\n",
       "      <td>NaN</td>\n",
       "      <td>0</td>\n",
       "      <td>4</td>\n",
       "      <td>2010</td>\n",
       "      <td>WD</td>\n",
       "      <td>174000</td>\n",
       "    </tr>\n",
       "    <tr>\n",
       "      <th>4</th>\n",
       "      <td>255</td>\n",
       "      <td>906425045</td>\n",
       "      <td>50</td>\n",
       "      <td>RL</td>\n",
       "      <td>82.0</td>\n",
       "      <td>14235</td>\n",
       "      <td>Pave</td>\n",
       "      <td>NaN</td>\n",
       "      <td>IR1</td>\n",
       "      <td>Lvl</td>\n",
       "      <td>...</td>\n",
       "      <td>0</td>\n",
       "      <td>0</td>\n",
       "      <td>NaN</td>\n",
       "      <td>NaN</td>\n",
       "      <td>NaN</td>\n",
       "      <td>0</td>\n",
       "      <td>3</td>\n",
       "      <td>2010</td>\n",
       "      <td>WD</td>\n",
       "      <td>138500</td>\n",
       "    </tr>\n",
       "  </tbody>\n",
       "</table>\n",
       "<p>5 rows × 81 columns</p>\n",
       "</div>"
      ],
      "text/plain": [
       "    Id        PID  MS SubClass MS Zoning  Lot Frontage  Lot Area Street Alley  \\\n",
       "0  109  533352170           60        RL           NaN     13517   Pave   NaN   \n",
       "1  544  531379050           60        RL          43.0     11492   Pave   NaN   \n",
       "2  153  535304180           20        RL          68.0      7922   Pave   NaN   \n",
       "3  318  916386060           60        RL          73.0      9802   Pave   NaN   \n",
       "4  255  906425045           50        RL          82.0     14235   Pave   NaN   \n",
       "\n",
       "  Lot Shape Land Contour  ... Screen Porch Pool Area Pool QC Fence  \\\n",
       "0       IR1          Lvl  ...            0         0     NaN   NaN   \n",
       "1       IR1          Lvl  ...            0         0     NaN   NaN   \n",
       "2       Reg          Lvl  ...            0         0     NaN   NaN   \n",
       "3       Reg          Lvl  ...            0         0     NaN   NaN   \n",
       "4       IR1          Lvl  ...            0         0     NaN   NaN   \n",
       "\n",
       "  Misc Feature Misc Val Mo Sold Yr Sold  Sale Type  SalePrice  \n",
       "0          NaN        0       3    2010        WD      130500  \n",
       "1          NaN        0       4    2009        WD      220000  \n",
       "2          NaN        0       1    2010        WD      109000  \n",
       "3          NaN        0       4    2010        WD      174000  \n",
       "4          NaN        0       3    2010        WD      138500  \n",
       "\n",
       "[5 rows x 81 columns]"
      ]
     },
     "execution_count": 608,
     "metadata": {},
     "output_type": "execute_result"
    }
   ],
   "source": [
    "ames.head()"
   ]
  },
  {
   "cell_type": "code",
   "execution_count": 609,
   "metadata": {
    "scrolled": true
   },
   "outputs": [
    {
     "data": {
      "text/plain": [
       "(2051, 81)"
      ]
     },
     "execution_count": 609,
     "metadata": {},
     "output_type": "execute_result"
    }
   ],
   "source": [
    "ames.shape"
   ]
  },
  {
   "cell_type": "code",
   "execution_count": 610,
   "metadata": {},
   "outputs": [
    {
     "name": "stdout",
     "output_type": "stream",
     "text": [
      "<class 'pandas.core.frame.DataFrame'>\n",
      "RangeIndex: 878 entries, 0 to 877\n",
      "Data columns (total 80 columns):\n",
      " #   Column           Non-Null Count  Dtype  \n",
      "---  ------           --------------  -----  \n",
      " 0   Id               878 non-null    int64  \n",
      " 1   PID              878 non-null    int64  \n",
      " 2   MS SubClass      878 non-null    int64  \n",
      " 3   MS Zoning        878 non-null    object \n",
      " 4   Lot Frontage     718 non-null    float64\n",
      " 5   Lot Area         878 non-null    int64  \n",
      " 6   Street           878 non-null    object \n",
      " 7   Alley            58 non-null     object \n",
      " 8   Lot Shape        878 non-null    object \n",
      " 9   Land Contour     878 non-null    object \n",
      " 10  Utilities        878 non-null    object \n",
      " 11  Lot Config       878 non-null    object \n",
      " 12  Land Slope       878 non-null    object \n",
      " 13  Neighborhood     878 non-null    object \n",
      " 14  Condition 1      878 non-null    object \n",
      " 15  Condition 2      878 non-null    object \n",
      " 16  Bldg Type        878 non-null    object \n",
      " 17  House Style      878 non-null    object \n",
      " 18  Overall Qual     878 non-null    int64  \n",
      " 19  Overall Cond     878 non-null    int64  \n",
      " 20  Year Built       878 non-null    int64  \n",
      " 21  Year Remod/Add   878 non-null    int64  \n",
      " 22  Roof Style       878 non-null    object \n",
      " 23  Roof Matl        878 non-null    object \n",
      " 24  Exterior 1st     878 non-null    object \n",
      " 25  Exterior 2nd     878 non-null    object \n",
      " 26  Mas Vnr Type     877 non-null    object \n",
      " 27  Mas Vnr Area     877 non-null    float64\n",
      " 28  Exter Qual       878 non-null    object \n",
      " 29  Exter Cond       878 non-null    object \n",
      " 30  Foundation       878 non-null    object \n",
      " 31  Bsmt Qual        853 non-null    object \n",
      " 32  Bsmt Cond        853 non-null    object \n",
      " 33  Bsmt Exposure    853 non-null    object \n",
      " 34  BsmtFin Type 1   853 non-null    object \n",
      " 35  BsmtFin SF 1     878 non-null    int64  \n",
      " 36  BsmtFin Type 2   853 non-null    object \n",
      " 37  BsmtFin SF 2     878 non-null    int64  \n",
      " 38  Bsmt Unf SF      878 non-null    int64  \n",
      " 39  Total Bsmt SF    878 non-null    int64  \n",
      " 40  Heating          878 non-null    object \n",
      " 41  Heating QC       878 non-null    object \n",
      " 42  Central Air      878 non-null    object \n",
      " 43  Electrical       877 non-null    object \n",
      " 44  1st Flr SF       878 non-null    int64  \n",
      " 45  2nd Flr SF       878 non-null    int64  \n",
      " 46  Low Qual Fin SF  878 non-null    int64  \n",
      " 47  Gr Liv Area      878 non-null    int64  \n",
      " 48  Bsmt Full Bath   878 non-null    int64  \n",
      " 49  Bsmt Half Bath   878 non-null    int64  \n",
      " 50  Full Bath        878 non-null    int64  \n",
      " 51  Half Bath        878 non-null    int64  \n",
      " 52  Bedroom AbvGr    878 non-null    int64  \n",
      " 53  Kitchen AbvGr    878 non-null    int64  \n",
      " 54  Kitchen Qual     878 non-null    object \n",
      " 55  TotRms AbvGrd    878 non-null    int64  \n",
      " 56  Functional       878 non-null    object \n",
      " 57  Fireplaces       878 non-null    int64  \n",
      " 58  Fireplace Qu     456 non-null    object \n",
      " 59  Garage Type      834 non-null    object \n",
      " 60  Garage Yr Blt    833 non-null    float64\n",
      " 61  Garage Finish    833 non-null    object \n",
      " 62  Garage Cars      878 non-null    int64  \n",
      " 63  Garage Area      878 non-null    int64  \n",
      " 64  Garage Qual      833 non-null    object \n",
      " 65  Garage Cond      833 non-null    object \n",
      " 66  Paved Drive      878 non-null    object \n",
      " 67  Wood Deck SF     878 non-null    int64  \n",
      " 68  Open Porch SF    878 non-null    int64  \n",
      " 69  Enclosed Porch   878 non-null    int64  \n",
      " 70  3Ssn Porch       878 non-null    int64  \n",
      " 71  Screen Porch     878 non-null    int64  \n",
      " 72  Pool Area        878 non-null    int64  \n",
      " 73  Pool QC          4 non-null      object \n",
      " 74  Fence            172 non-null    object \n",
      " 75  Misc Feature     41 non-null     object \n",
      " 76  Misc Val         878 non-null    int64  \n",
      " 77  Mo Sold          878 non-null    int64  \n",
      " 78  Yr Sold          878 non-null    int64  \n",
      " 79  Sale Type        878 non-null    object \n",
      "dtypes: float64(3), int64(35), object(42)\n",
      "memory usage: 548.9+ KB\n"
     ]
    }
   ],
   "source": [
    "test.info()"
   ]
  },
  {
   "cell_type": "markdown",
   "metadata": {},
   "source": [
    "##### Change column names to lower and _"
   ]
  },
  {
   "cell_type": "markdown",
   "metadata": {},
   "source": [
    "Training"
   ]
  },
  {
   "cell_type": "code",
   "execution_count": 611,
   "metadata": {},
   "outputs": [],
   "source": [
    "ames.columns = ames.columns.str.lower().str.replace(' ', '_')"
   ]
  },
  {
   "cell_type": "code",
   "execution_count": 612,
   "metadata": {},
   "outputs": [],
   "source": [
    "ames.columns;"
   ]
  },
  {
   "cell_type": "code",
   "execution_count": 613,
   "metadata": {},
   "outputs": [
    {
     "data": {
      "text/plain": [
       "(878, 80)"
      ]
     },
     "execution_count": 613,
     "metadata": {},
     "output_type": "execute_result"
    }
   ],
   "source": [
    "test.shape"
   ]
  },
  {
   "cell_type": "markdown",
   "metadata": {},
   "source": [
    "Test"
   ]
  },
  {
   "cell_type": "code",
   "execution_count": 614,
   "metadata": {},
   "outputs": [],
   "source": [
    "test.columns = test.columns.str.lower().str.replace(' ', '_')"
   ]
  },
  {
   "cell_type": "code",
   "execution_count": 615,
   "metadata": {},
   "outputs": [],
   "source": [
    "test.columns;"
   ]
  },
  {
   "cell_type": "code",
   "execution_count": 616,
   "metadata": {},
   "outputs": [
    {
     "data": {
      "text/plain": [
       "(878, 80)"
      ]
     },
     "execution_count": 616,
     "metadata": {},
     "output_type": "execute_result"
    }
   ],
   "source": [
    "test.shape"
   ]
  },
  {
   "cell_type": "markdown",
   "metadata": {},
   "source": [
    "# Initial Combining and Dropping of Columns"
   ]
  },
  {
   "cell_type": "markdown",
   "metadata": {},
   "source": [
    "### Combine sf columns and delete columns that overlap in purpose"
   ]
  },
  {
   "cell_type": "markdown",
   "metadata": {},
   "source": [
    "Train"
   ]
  },
  {
   "cell_type": "code",
   "execution_count": 617,
   "metadata": {},
   "outputs": [],
   "source": [
    "ames['ttl_sf'] = ames['total_bsmt_sf'] + ames['gr_liv_area']"
   ]
  },
  {
   "cell_type": "code",
   "execution_count": 618,
   "metadata": {},
   "outputs": [
    {
     "data": {
      "text/plain": [
       "2557.612195121951"
      ]
     },
     "execution_count": 618,
     "metadata": {},
     "output_type": "execute_result"
    }
   ],
   "source": [
    "ames['ttl_sf'].mean()"
   ]
  },
  {
   "cell_type": "code",
   "execution_count": 619,
   "metadata": {},
   "outputs": [],
   "source": [
    "overlap_sf = ['bsmtfin_sf_2', 'bsmt_unf_sf', 'total_bsmt_sf', 'bsmtfin_sf_1', 'total_bsmt_sf', '1st_flr_sf',\n",
    "       '2nd_flr_sf', 'low_qual_fin_sf', 'gr_liv_area']"
   ]
  },
  {
   "cell_type": "code",
   "execution_count": 620,
   "metadata": {},
   "outputs": [],
   "source": [
    "ames.drop(columns = overlap_sf, inplace = True)"
   ]
  },
  {
   "cell_type": "code",
   "execution_count": 621,
   "metadata": {},
   "outputs": [
    {
     "data": {
      "text/plain": [
       "(2051, 74)"
      ]
     },
     "execution_count": 621,
     "metadata": {},
     "output_type": "execute_result"
    }
   ],
   "source": [
    "ames.shape"
   ]
  },
  {
   "cell_type": "markdown",
   "metadata": {},
   "source": [
    "Test"
   ]
  },
  {
   "cell_type": "code",
   "execution_count": 622,
   "metadata": {},
   "outputs": [],
   "source": [
    "test['ttl_sf'] = test['total_bsmt_sf'] + test['gr_liv_area']"
   ]
  },
  {
   "cell_type": "code",
   "execution_count": 623,
   "metadata": {},
   "outputs": [
    {
     "data": {
      "text/plain": [
       "2531.2722095671984"
      ]
     },
     "execution_count": 623,
     "metadata": {},
     "output_type": "execute_result"
    }
   ],
   "source": [
    "test['ttl_sf'].mean()"
   ]
  },
  {
   "cell_type": "code",
   "execution_count": 624,
   "metadata": {},
   "outputs": [],
   "source": [
    "test.drop(columns = overlap_sf, inplace = True)"
   ]
  },
  {
   "cell_type": "code",
   "execution_count": 625,
   "metadata": {},
   "outputs": [
    {
     "data": {
      "text/plain": [
       "(878, 73)"
      ]
     },
     "execution_count": 625,
     "metadata": {},
     "output_type": "execute_result"
    }
   ],
   "source": [
    "test.shape"
   ]
  },
  {
   "cell_type": "markdown",
   "metadata": {},
   "source": [
    "### Combine bathrooms and drop overlapping columns"
   ]
  },
  {
   "cell_type": "markdown",
   "metadata": {},
   "source": [
    "Train"
   ]
  },
  {
   "cell_type": "code",
   "execution_count": 626,
   "metadata": {},
   "outputs": [],
   "source": [
    "ames['ttl_bath'] = ames['full_bath'] + (.5 * ames['half_bath']) + ames['bsmt_full_bath'] + (.5 * ames['bsmt_half_bath'])"
   ]
  },
  {
   "cell_type": "code",
   "execution_count": 627,
   "metadata": {},
   "outputs": [
    {
     "data": {
      "text/plain": [
       "0    2.5\n",
       "1    3.5\n",
       "2    2.0\n",
       "3    2.5\n",
       "4    2.0\n",
       "Name: ttl_bath, dtype: float64"
      ]
     },
     "execution_count": 627,
     "metadata": {},
     "output_type": "execute_result"
    }
   ],
   "source": [
    "ames['ttl_bath'].head()"
   ]
  },
  {
   "cell_type": "code",
   "execution_count": 628,
   "metadata": {},
   "outputs": [],
   "source": [
    "ames.drop(columns = ['full_bath', 'half_bath', 'bsmt_full_bath', 'bsmt_half_bath'], inplace = True)"
   ]
  },
  {
   "cell_type": "code",
   "execution_count": 629,
   "metadata": {},
   "outputs": [
    {
     "data": {
      "text/plain": [
       "(2051, 71)"
      ]
     },
     "execution_count": 629,
     "metadata": {},
     "output_type": "execute_result"
    }
   ],
   "source": [
    "ames.shape"
   ]
  },
  {
   "cell_type": "markdown",
   "metadata": {},
   "source": [
    "Test"
   ]
  },
  {
   "cell_type": "code",
   "execution_count": 630,
   "metadata": {},
   "outputs": [],
   "source": [
    "test['ttl_bath'] = test['full_bath'] + (.5 * test['half_bath']) + test['bsmt_full_bath'] + (.5 * test['bsmt_half_bath'])"
   ]
  },
  {
   "cell_type": "code",
   "execution_count": 631,
   "metadata": {},
   "outputs": [],
   "source": [
    "test.drop(columns = ['full_bath', 'half_bath', 'bsmt_full_bath', 'bsmt_half_bath'], inplace = True)"
   ]
  },
  {
   "cell_type": "code",
   "execution_count": 632,
   "metadata": {},
   "outputs": [
    {
     "data": {
      "text/plain": [
       "(878, 70)"
      ]
     },
     "execution_count": 632,
     "metadata": {},
     "output_type": "execute_result"
    }
   ],
   "source": [
    "test.shape"
   ]
  },
  {
   "cell_type": "markdown",
   "metadata": {},
   "source": [
    "### Drop totrmsabvgrnd because it is redundant with count of bedrooms and kitchens"
   ]
  },
  {
   "cell_type": "markdown",
   "metadata": {},
   "source": [
    "Train"
   ]
  },
  {
   "cell_type": "code",
   "execution_count": 633,
   "metadata": {},
   "outputs": [],
   "source": [
    "ames.drop(columns = ['totrms_abvgrd'], axis = 1, inplace = True)"
   ]
  },
  {
   "cell_type": "code",
   "execution_count": 634,
   "metadata": {},
   "outputs": [
    {
     "data": {
      "text/plain": [
       "(2051, 70)"
      ]
     },
     "execution_count": 634,
     "metadata": {},
     "output_type": "execute_result"
    }
   ],
   "source": [
    "ames.shape"
   ]
  },
  {
   "cell_type": "markdown",
   "metadata": {},
   "source": [
    "Test"
   ]
  },
  {
   "cell_type": "code",
   "execution_count": 635,
   "metadata": {},
   "outputs": [],
   "source": [
    "test.drop(columns = ['totrms_abvgrd'], axis = 1, inplace = True)"
   ]
  },
  {
   "cell_type": "code",
   "execution_count": 636,
   "metadata": {},
   "outputs": [
    {
     "data": {
      "text/plain": [
       "(878, 69)"
      ]
     },
     "execution_count": 636,
     "metadata": {},
     "output_type": "execute_result"
    }
   ],
   "source": [
    "test.shape"
   ]
  },
  {
   "cell_type": "code",
   "execution_count": 637,
   "metadata": {},
   "outputs": [],
   "source": [
    "test.columns;"
   ]
  },
  {
   "cell_type": "code",
   "execution_count": 638,
   "metadata": {},
   "outputs": [],
   "source": [
    "def find_dtypes(df):\n",
    "    #takes in a dataframe returns lists of columns with corresponding data types\n",
    "    flt_list = []\n",
    "    int_list = []\n",
    "    str_list = []\n",
    "    \n",
    "    for item in df.columns:\n",
    "        if df[item].dtypes == float:\n",
    "            flt_list.append(item)\n",
    "        if df[item].dtypes == int:\n",
    "            int_list.append(item)\n",
    "        if df[item].dtypes == object:\n",
    "            str_list.append(item)\n",
    "    print( f'FLOATS:',  flt_list)\n",
    "    print( f'INTEGERS:',  int_list)\n",
    "    print( f'STRINGS:',  str_list)"
   ]
  },
  {
   "cell_type": "code",
   "execution_count": 639,
   "metadata": {},
   "outputs": [
    {
     "name": "stdout",
     "output_type": "stream",
     "text": [
      "FLOATS: ['lot_frontage', 'mas_vnr_area', 'garage_yr_blt', 'garage_cars', 'garage_area', 'ttl_sf', 'ttl_bath']\n",
      "INTEGERS: ['id', 'pid', 'ms_subclass', 'lot_area', 'overall_qual', 'overall_cond', 'year_built', 'year_remod/add', 'bedroom_abvgr', 'kitchen_abvgr', 'fireplaces', 'wood_deck_sf', 'open_porch_sf', 'enclosed_porch', '3ssn_porch', 'screen_porch', 'pool_area', 'misc_val', 'mo_sold', 'yr_sold', 'saleprice']\n",
      "STRINGS: ['ms_zoning', 'street', 'alley', 'lot_shape', 'land_contour', 'utilities', 'lot_config', 'land_slope', 'neighborhood', 'condition_1', 'condition_2', 'bldg_type', 'house_style', 'roof_style', 'roof_matl', 'exterior_1st', 'exterior_2nd', 'mas_vnr_type', 'exter_qual', 'exter_cond', 'foundation', 'bsmt_qual', 'bsmt_cond', 'bsmt_exposure', 'bsmtfin_type_1', 'bsmtfin_type_2', 'heating', 'heating_qc', 'central_air', 'electrical', 'kitchen_qual', 'functional', 'fireplace_qu', 'garage_type', 'garage_finish', 'garage_qual', 'garage_cond', 'paved_drive', 'pool_qc', 'fence', 'misc_feature', 'sale_type']\n"
     ]
    }
   ],
   "source": [
    "#calling function to return all datatypes for all columns\n",
    "find_dtypes(ames)"
   ]
  },
  {
   "cell_type": "markdown",
   "metadata": {},
   "source": [
    "# Rank Ordinals Numerically"
   ]
  },
  {
   "cell_type": "markdown",
   "metadata": {},
   "source": [
    "##### Ordinals were subjectively ranked based on domain knowledge. Most were just ordered by rank from worst to best with worst being 1 and best being a higher value at step 1 depending on n length of ordinal values. Some were subjectively decided to have higher than step 1 to achieve a greater magnitude of influence. I tried to do this sparingly but in some cases I thought this would make sense. Ordinals with NA were replaced with 0"
   ]
  },
  {
   "cell_type": "code",
   "execution_count": 640,
   "metadata": {},
   "outputs": [],
   "source": [
    "ordinals_test = {\n",
    "            'lot_shape' : {'Reg' : 1, 'IR1': 2, 'IR2': 3, 'IR3': 4},\n",
    "            'utilities' : {'AllPub' : 10 , 'NoSewr' : 5 , 'NoSeWa' : 2, 'ELO' :  1},\n",
    "            'land_slope' : {'Gtl' : 3 , 'Mod' : 2 , 'Sev': 1 },\n",
    "            'exter_qual' : {'Ex' : 5, 'Gd' : 4, 'TA' : 3, 'Fa' : 2, 'Po' : 1 },\n",
    "            'exter_cond' : {'Ex' : 5, 'Gd' : 4, 'TA' : 3, 'Fa' : 2, 'Po' : 1 },\n",
    "            'bsmt_qual'  : {'Ex' : 6, 'Gd' : 5, 'TA' : 4, 'Fa' : 3, 'Po' : 2, 'NA' : 0},\n",
    "            'bsmt_cond'  : {'Ex' : 6, 'Gd' : 5, 'TA' : 4, 'Fa' : 3, 'Po' : 2, 'NA' : 0}, \n",
    "            'bsmt_exposure' : {'Gd': 5, 'Av': 4, 'Mn': 3, 'No': 2, 'NA': 0},\n",
    "            'bsmtfin_type_1' : {'GLQ': 8, 'ALQ': 6, 'BLQ': 4, 'Rec': 3, 'LwQ': 2, 'Unf': 2 , 'NA': 0},\n",
    "            'bsmtfin_type_2' : {'GLQ': 8, 'ALQ': 6, 'BLQ': 4, 'Rec': 3, 'LwQ': 2, 'Unf': 2 , 'NA': 0},\n",
    "            'heating_qc' : {'Ex' : 5, 'Gd' : 4, 'TA' : 3, 'Fa' : 2, 'Po' : 1 }, \n",
    "            'electrical' : {'SBrkr' : 5, 'FuseA': 4, 'FuseF': 3, 'FuseP': 2, 'Mix': 1},\n",
    "            'kitchen_qual' : {'Ex' : 5, 'Gd' : 4, 'TA' : 3, 'Fa' : 2, 'Po' : 1 },\n",
    "            'functional' : {'Typ': 10, 'Min1': 7, 'Min2': 6, 'Mod': 5, 'Maj1': 4, 'Maj2': 3, 'Sev': 2, 'Sal': 1},\n",
    "            'fireplace_qu' : {'Ex' : 6, 'Gd': 5 , 'TA': 4, 'Fa': 3, 'Po' : 2, 'NA' : 0},\n",
    "            'garage_finish' : {'Fin' : 5, 'RFn' : 3, 'Unf': 2, 'NA': 0},\n",
    "            'garage_qual' : {'Ex' : 5, 'Gd' : 4, 'TA' : 3, 'Fa' : 2, 'Po' : 1 },\n",
    "            'garage_cond' : {'Ex' : 5, 'Gd' : 4, 'TA' : 3, 'Fa' : 2, 'Po' : 1 },\n",
    "            'paved_drive' : {'Y' : 5, 'P' : 2, 'N' : 1},\n",
    "            'pool_qc' : {'Ex' : 5, 'Gd': 4 , 'TA': 3, 'Fa': 2, 'NA' : 0},\n",
    "            'fence' : {'GdPrv' : 6, 'MnPrv' : 4, 'GdWo' : 3, 'MnWw' : 2, 'NA' : 0}\n",
    "           }"
   ]
  },
  {
   "cell_type": "markdown",
   "metadata": {},
   "source": [
    "_____________________________"
   ]
  },
  {
   "cell_type": "markdown",
   "metadata": {},
   "source": [
    "### Square Feet and Sale Price Analysis\n",
    "* There appear to be three identifiable outliers above 6000sf. \n",
    "* some of these very large homes do not seem to be selling for what they should selling for on a price per square feet basis. (possible sales to family members for values less than market price, fraud, or error in recording). \n",
    "* [X] I will remove these values.  "
   ]
  },
  {
   "cell_type": "code",
   "execution_count": 641,
   "metadata": {},
   "outputs": [
    {
     "data": {
      "image/png": "[encoded data removed]",
      "text/plain": [
       "<Figure size 432x288 with 1 Axes>"
      ]
     },
     "metadata": {
      "needs_background": "light"
     },
     "output_type": "display_data"
    }
   ],
   "source": [
    "sns.regplot(data = ames,\n",
    "            x = 'ttl_sf',\n",
    "            y = 'saleprice',\n",
    "            scatter = True,\n",
    "            color = 'lightblue',\n",
    "            x_jitter = 1,\n",
    "            y_jitter = 1).set_title('Total Square Feet and Sale Price')\n",
    "\n",
    "plt.xlabel('Square Feet of Home')\n",
    "plt.ylabel('Sale Price of Home');"
   ]
  },
  {
   "cell_type": "code",
   "execution_count": 642,
   "metadata": {},
   "outputs": [
    {
     "data": {
      "text/plain": [
       "181469.70160897123"
      ]
     },
     "execution_count": 642,
     "metadata": {},
     "output_type": "execute_result"
    }
   ],
   "source": [
    "ames['saleprice'].mean()"
   ]
  },
  {
   "cell_type": "code",
   "execution_count": 643,
   "metadata": {},
   "outputs": [
    {
     "data": {
      "text/plain": [
       "2557.612195121951"
      ]
     },
     "execution_count": 643,
     "metadata": {},
     "output_type": "execute_result"
    }
   ],
   "source": [
    "ames['ttl_sf'].mean()"
   ]
  },
  {
   "cell_type": "code",
   "execution_count": 644,
   "metadata": {
    "scrolled": true
   },
   "outputs": [
    {
     "data": {
      "text/plain": [
       "960     11752.0\n",
       "1885    10190.0\n",
       "328      6428.0\n",
       "1227     5542.0\n",
       "1897     5508.0\n",
       "1164     5496.0\n",
       "1389     5271.0\n",
       "1117     5266.0\n",
       "1692     5233.0\n",
       "1700     5066.0\n",
       "Name: ttl_sf, dtype: float64"
      ]
     },
     "execution_count": 644,
     "metadata": {},
     "output_type": "execute_result"
    }
   ],
   "source": [
    "ames['ttl_sf'].nlargest(10)"
   ]
  },
  {
   "cell_type": "markdown",
   "metadata": {},
   "source": [
    "##### Removing top three square footage values"
   ]
  },
  {
   "cell_type": "code",
   "execution_count": 645,
   "metadata": {},
   "outputs": [
    {
     "data": {
      "text/plain": [
       "id                   1499\n",
       "pid             908154235\n",
       "ms_subclass            60\n",
       "ms_zoning              RL\n",
       "lot_frontage          313\n",
       "                  ...    \n",
       "yr_sold              2008\n",
       "sale_type             New\n",
       "saleprice          160000\n",
       "ttl_sf              11752\n",
       "ttl_bath              4.5\n",
       "Name: 960, Length: 70, dtype: object"
      ]
     },
     "execution_count": 645,
     "metadata": {},
     "output_type": "execute_result"
    }
   ],
   "source": [
    "ames.iloc[960, :]"
   ]
  },
  {
   "cell_type": "code",
   "execution_count": 646,
   "metadata": {},
   "outputs": [],
   "source": [
    "ames.drop([960, 1885, 328], inplace = True)\n",
    "ames.reset_index(inplace = True);"
   ]
  },
  {
   "cell_type": "code",
   "execution_count": 647,
   "metadata": {},
   "outputs": [
    {
     "data": {
      "text/plain": [
       "1225    5542.0\n",
       "1894    5508.0\n",
       "1162    5496.0\n",
       "1387    5271.0\n",
       "1115    5266.0\n",
       "Name: ttl_sf, dtype: float64"
      ]
     },
     "execution_count": 647,
     "metadata": {},
     "output_type": "execute_result"
    }
   ],
   "source": [
    "ames['ttl_sf'].nlargest(5)"
   ]
  },
  {
   "cell_type": "code",
   "execution_count": 648,
   "metadata": {},
   "outputs": [],
   "source": [
    "def mass_value(df):\n",
    "    # function that takes in a dataframe and returns value_counts for all columns. \n",
    "    value_list = []\n",
    "    for item in df.columns:\n",
    "        value_list.append(item.upper())\n",
    "        value_list.append(df[item].value_counts())\n",
    "    return value_list"
   ]
  },
  {
   "cell_type": "markdown",
   "metadata": {},
   "source": [
    "### Mean, Min., Max, and Standard Deviation for all Columns\n",
    "* [X] Noticed that ms_subclass is a numerical column when it should be categorical. Change to string object. \n",
    "* [X] pid column is also included in the dataframe and is just a reference column used for externally access to individual records. I will remove this column. \n"
   ]
  },
  {
   "cell_type": "code",
   "execution_count": 649,
   "metadata": {},
   "outputs": [],
   "source": [
    "def mean_min_max_std(df):\n",
    "    # function that takes in a dataframe and returns value_counts for all columns. \n",
    "    value_list = []\n",
    "    for item in df.columns:\n",
    "        if df[item].dtypes == float or df[item].dtypes == int:\n",
    "            value_list.append((f'{item.upper()}',\n",
    "                              f' mean: {df[item].mean()}',\n",
    "                              f' min: {df[item].min()}',\n",
    "                              f' max: {df[item].max()}',\n",
    "                              f' std_dev: {df[item].std()}'))\n",
    "    return value_list\n",
    "    "
   ]
  },
  {
   "cell_type": "code",
   "execution_count": 650,
   "metadata": {},
   "outputs": [
    {
     "data": {
      "text/plain": [
       "[('INDEX',\n",
       "  ' mean: 1024.9521484375',\n",
       "  ' min: 0',\n",
       "  ' max: 2050',\n",
       "  ' std_dev: 592.1438166647833'),\n",
       " ('ID',\n",
       "  ' mean: 1473.5302734375',\n",
       "  ' min: 1',\n",
       "  ' max: 2930',\n",
       "  ' std_dev: 844.4283260944197'),\n",
       " ('PID',\n",
       "  ' mean: 713490443.3662109',\n",
       "  ' min: 526301100',\n",
       "  ' max: 924152030',\n",
       "  ' std_dev: 188687663.30113894'),\n",
       " ('MS_SUBCLASS',\n",
       "  ' mean: 57.04345703125',\n",
       "  ' min: 20',\n",
       "  ' max: 190',\n",
       "  ' std_dev: 42.83991133381938'),\n",
       " ('LOT_FRONTAGE',\n",
       "  ' mean: 68.87899941826643',\n",
       "  ' min: 21.0',\n",
       "  ' max: 313.0',\n",
       "  ' std_dev: 22.472112220176488'),\n",
       " ('LOT_AREA',\n",
       "  ' mean: 10023.37548828125',\n",
       "  ' min: 1300',\n",
       "  ' max: 159000',\n",
       "  ' std_dev: 6609.86271085122'),\n",
       " ('OVERALL_QUAL',\n",
       "  ' mean: 6.107421875',\n",
       "  ' min: 1',\n",
       "  ' max: 10',\n",
       "  ' std_dev: 1.4215122965809082'),\n",
       " ('OVERALL_COND',\n",
       "  ' mean: 5.56298828125',\n",
       "  ' min: 1',\n",
       "  ' max: 9',\n",
       "  ' std_dev: 1.1050964478813847'),\n",
       " ('YEAR_BUILT',\n",
       "  ' mean: 1971.66357421875',\n",
       "  ' min: 1872',\n",
       "  ' max: 2010',\n",
       "  ' std_dev: 30.175315801996653'),\n",
       " ('YEAR_REMOD/ADD',\n",
       "  ' mean: 1984.162109375',\n",
       "  ' min: 1950',\n",
       "  ' max: 2010',\n",
       "  ' std_dev: 21.037015551077754'),\n",
       " ('MAS_VNR_AREA',\n",
       "  ' mean: 98.84649555774926',\n",
       "  ' min: 0.0',\n",
       "  ' max: 1600.0',\n",
       "  ' std_dev: 172.59247835651286'),\n",
       " ('BEDROOM_ABVGR',\n",
       "  ' mean: 2.84326171875',\n",
       "  ' min: 0',\n",
       "  ' max: 8',\n",
       "  ' std_dev: 0.8266113223993979'),\n",
       " ('KITCHEN_ABVGR',\n",
       "  ' mean: 1.04296875',\n",
       "  ' min: 0',\n",
       "  ' max: 3',\n",
       "  ' std_dev: 0.20993723909205933'),\n",
       " ('FIREPLACES',\n",
       "  ' mean: 0.5888671875',\n",
       "  ' min: 0',\n",
       "  ' max: 4',\n",
       "  ' std_dev: 0.6359319645561238'),\n",
       " ('GARAGE_YR_BLT',\n",
       "  ' mean: 1978.6706308169596',\n",
       "  ' min: 1895.0',\n",
       "  ' max: 2207.0',\n",
       "  ' std_dev: 25.441565395685277'),\n",
       " ('GARAGE_CARS',\n",
       "  ' mean: 1.7757694186614559',\n",
       "  ' min: 0.0',\n",
       "  ' max: 5.0',\n",
       "  ' std_dev: 0.764587099441429'),\n",
       " ('GARAGE_AREA',\n",
       "  ' mean: 472.8426966292135',\n",
       "  ' min: 0.0',\n",
       "  ' max: 1356.0',\n",
       "  ' std_dev: 214.5478632036143'),\n",
       " ('WOOD_DECK_SF',\n",
       "  ' mean: 93.47119140625',\n",
       "  ' min: 0',\n",
       "  ' max: 1424',\n",
       "  ' std_dev: 128.1716002515265'),\n",
       " ('OPEN_PORCH_SF',\n",
       "  ' mean: 47.2109375',\n",
       "  ' min: 0',\n",
       "  ' max: 547',\n",
       "  ' std_dev: 65.87101901123813'),\n",
       " ('ENCLOSED_PORCH',\n",
       "  ' mean: 22.462890625',\n",
       "  ' min: 0',\n",
       "  ' max: 432',\n",
       "  ' std_dev: 59.590071646468225'),\n",
       " ('3SSN_PORCH',\n",
       "  ' mean: 2.59521484375',\n",
       "  ' min: 0',\n",
       "  ' max: 508',\n",
       "  ' std_dev: 25.247900686192278'),\n",
       " ('SCREEN_PORCH',\n",
       "  ' mean: 16.53564453125',\n",
       "  ' min: 0',\n",
       "  ' max: 490',\n",
       "  ' std_dev: 57.41274638917594'),\n",
       " ('POOL_AREA',\n",
       "  ' mean: 2.1669921875',\n",
       "  ' min: 0',\n",
       "  ' max: 800',\n",
       "  ' std_dev: 36.30595769402119'),\n",
       " ('MISC_VAL',\n",
       "  ' mean: 43.34912109375',\n",
       "  ' min: 0',\n",
       "  ' max: 12500',\n",
       "  ' std_dev: 434.5864001756101'),\n",
       " ('MO_SOLD',\n",
       "  ' mean: 6.22119140625',\n",
       "  ' min: 1',\n",
       "  ' max: 12',\n",
       "  ' std_dev: 2.742917360902258'),\n",
       " ('YR_SOLD',\n",
       "  ' mean: 2007.7763671875',\n",
       "  ' min: 2006',\n",
       "  ' max: 2010',\n",
       "  ' std_dev: 1.3127416932650702'),\n",
       " ('SALEPRICE',\n",
       "  ' mean: 181357.669921875',\n",
       "  ' min: 12789',\n",
       "  ' max: 611657',\n",
       "  ' std_dev: 79124.7532134175'),\n",
       " ('TTL_SF',\n",
       "  ' mean: 2547.5012212994625',\n",
       "  ' min: 334.0',\n",
       "  ' max: 5542.0',\n",
       "  ' std_dev: 761.668854338344'),\n",
       " ('TTL_BATH',\n",
       "  ' mean: 2.2187194525904204',\n",
       "  ' min: 1.0',\n",
       "  ' max: 7.0',\n",
       "  ' std_dev: 0.8038334331485136')]"
      ]
     },
     "execution_count": 650,
     "metadata": {},
     "output_type": "execute_result"
    }
   ],
   "source": [
    "# Call function that produces mean, min, max and std deviation for all columns\n",
    "mean_min_max_std(ames)"
   ]
  },
  {
   "cell_type": "markdown",
   "metadata": {},
   "source": [
    "##### Changing ms_subclass to string object"
   ]
  },
  {
   "cell_type": "code",
   "execution_count": 651,
   "metadata": {},
   "outputs": [],
   "source": [
    "ames['ms_subclass'] = ames['ms_subclass'].astype(str)"
   ]
  },
  {
   "cell_type": "code",
   "execution_count": 652,
   "metadata": {},
   "outputs": [
    {
     "data": {
      "text/plain": [
       "index            int64\n",
       "id               int64\n",
       "pid              int64\n",
       "ms_subclass     object\n",
       "ms_zoning       object\n",
       "                ...   \n",
       "yr_sold          int64\n",
       "sale_type       object\n",
       "saleprice        int64\n",
       "ttl_sf         float64\n",
       "ttl_bath       float64\n",
       "Length: 71, dtype: object"
      ]
     },
     "execution_count": 652,
     "metadata": {},
     "output_type": "execute_result"
    }
   ],
   "source": [
    "ames.dtypes"
   ]
  },
  {
   "cell_type": "markdown",
   "metadata": {},
   "source": [
    "##### nlargest() for all columns"
   ]
  },
  {
   "cell_type": "code",
   "execution_count": 653,
   "metadata": {},
   "outputs": [],
   "source": [
    "def mass_largest(df):\n",
    "    # function that takes in a dataframe and returns largest values for all columns. \n",
    "    value_list = []\n",
    "    for item in df.columns:\n",
    "        if df[item].dtypes == float or df[item].dtypes == int:\n",
    "            value_list.append(item.upper())\n",
    "            value_list.append(df[item].nlargest(5))\n",
    "    return value_list"
   ]
  },
  {
   "cell_type": "code",
   "execution_count": 654,
   "metadata": {
    "scrolled": true
   },
   "outputs": [
    {
     "data": {
      "text/plain": [
       "['INDEX',\n",
       " 2047    2050\n",
       " 2046    2049\n",
       " 2045    2048\n",
       " 2044    2047\n",
       " 2043    2046\n",
       " Name: index, dtype: int64,\n",
       " 'ID',\n",
       " 521     2930\n",
       " 650     2929\n",
       " 415     2927\n",
       " 1476    2926\n",
       " 1011    2924\n",
       " Name: id, dtype: int64,\n",
       " 'PID',\n",
       " 1031    924152030\n",
       " 521     924151050\n",
       " 1322    924151040\n",
       " 650     924100070\n",
       " 506     924100060\n",
       " Name: pid, dtype: int64,\n",
       " 'LOT_FRONTAGE',\n",
       " 1333    313.0\n",
       " 1873    200.0\n",
       " 440     195.0\n",
       " 1261    174.0\n",
       " 1222    160.0\n",
       " Name: lot_frontage, dtype: float64,\n",
       " 'LOT_AREA',\n",
       " 470     159000\n",
       " 693     115149\n",
       " 1852     70761\n",
       " 744      57200\n",
       " 822      53504\n",
       " Name: lot_area, dtype: int64,\n",
       " 'OVERALL_QUAL',\n",
       " 41     10\n",
       " 138    10\n",
       " 199    10\n",
       " 201    10\n",
       " 331    10\n",
       " Name: overall_qual, dtype: int64,\n",
       " 'OVERALL_COND',\n",
       " 102    9\n",
       " 345    9\n",
       " 350    9\n",
       " 356    9\n",
       " 373    9\n",
       " Name: overall_cond, dtype: int64,\n",
       " 'YEAR_BUILT',\n",
       " 144    2010\n",
       " 19     2009\n",
       " 70     2009\n",
       " 172    2009\n",
       " 368    2009\n",
       " Name: year_built, dtype: int64,\n",
       " 'YEAR_REMOD/ADD',\n",
       " 70     2010\n",
       " 142    2010\n",
       " 144    2010\n",
       " 172    2010\n",
       " 368    2010\n",
       " Name: year_remod/add, dtype: int64,\n",
       " 'MAS_VNR_AREA',\n",
       " 1407    1600.0\n",
       " 1149    1129.0\n",
       " 377     1115.0\n",
       " 488     1110.0\n",
       " 1225    1095.0\n",
       " Name: mas_vnr_area, dtype: float64,\n",
       " 'BEDROOM_ABVGR',\n",
       " 857    8\n",
       " 194    6\n",
       " 529    6\n",
       " 533    6\n",
       " 821    6\n",
       " Name: bedroom_abvgr, dtype: int64,\n",
       " 'KITCHEN_ABVGR',\n",
       " 1357    3\n",
       " 28      2\n",
       " 78      2\n",
       " 93      2\n",
       " 162     2\n",
       " Name: kitchen_abvgr, dtype: int64,\n",
       " 'FIREPLACES',\n",
       " 760     4\n",
       " 998     3\n",
       " 1302    3\n",
       " 1570    3\n",
       " 1727    3\n",
       " Name: fireplaces, dtype: int64,\n",
       " 'GARAGE_YR_BLT',\n",
       " 1697    2207.0\n",
       " 144     2010.0\n",
       " 1239    2010.0\n",
       " 19      2009.0\n",
       " 70      2009.0\n",
       " Name: garage_yr_blt, dtype: float64,\n",
       " 'GARAGE_CARS',\n",
       " 924    5.0\n",
       " 194    4.0\n",
       " 289    4.0\n",
       " 331    4.0\n",
       " 336    4.0\n",
       " Name: garage_cars, dtype: float64,\n",
       " 'GARAGE_AREA',\n",
       " 336     1356.0\n",
       " 1156    1348.0\n",
       " 1291    1314.0\n",
       " 1555    1231.0\n",
       " 681     1220.0\n",
       " Name: garage_area, dtype: float64,\n",
       " 'WOOD_DECK_SF',\n",
       " 964     1424\n",
       " 1690     870\n",
       " 1569     857\n",
       " 40       736\n",
       " 1129     728\n",
       " Name: wood_deck_sf, dtype: int64,\n",
       " 'OPEN_PORCH_SF',\n",
       " 972     547\n",
       " 1307    523\n",
       " 1139    502\n",
       " 609     444\n",
       " 1172    418\n",
       " Name: open_porch_sf, dtype: int64,\n",
       " 'ENCLOSED_PORCH',\n",
       " 827    432\n",
       " 506    368\n",
       " 149    364\n",
       " 830    330\n",
       " 241    324\n",
       " Name: enclosed_porch, dtype: int64,\n",
       " '3SSN_PORCH',\n",
       " 1217    508\n",
       " 891     407\n",
       " 1575    323\n",
       " 2042    304\n",
       " 2025    290\n",
       " Name: 3ssn_porch, dtype: int64,\n",
       " 'SCREEN_PORCH',\n",
       " 1355    490\n",
       " 972     480\n",
       " 52      440\n",
       " 1033    410\n",
       " 1944    396\n",
       " Name: screen_porch, dtype: int64,\n",
       " 'POOL_AREA',\n",
       " 760     800\n",
       " 1247    738\n",
       " 1128    648\n",
       " 656     576\n",
       " 1873    561\n",
       " Name: pool_area, dtype: int64,\n",
       " 'MISC_VAL',\n",
       " 304     12500\n",
       " 764      8300\n",
       " 1223     6500\n",
       " 379      4500\n",
       " 1784     4500\n",
       " Name: misc_val, dtype: int64,\n",
       " 'MO_SOLD',\n",
       " 13     12\n",
       " 51     12\n",
       " 65     12\n",
       " 118    12\n",
       " 175    12\n",
       " Name: mo_sold, dtype: int64,\n",
       " 'YR_SOLD',\n",
       " 0    2010\n",
       " 2    2010\n",
       " 3    2010\n",
       " 4    2010\n",
       " 5    2010\n",
       " Name: yr_sold, dtype: int64,\n",
       " 'SALEPRICE',\n",
       " 1669    611657\n",
       " 1961    591587\n",
       " 1690    584500\n",
       " 1794    582933\n",
       " 151     556581\n",
       " Name: saleprice, dtype: int64,\n",
       " 'TTL_SF',\n",
       " 1225    5542.0\n",
       " 1894    5508.0\n",
       " 1162    5496.0\n",
       " 1387    5271.0\n",
       " 1115    5266.0\n",
       " Name: ttl_sf, dtype: float64,\n",
       " 'TTL_BATH',\n",
       " 1564    7.0\n",
       " 1603    7.0\n",
       " 790     6.0\n",
       " 1582    6.0\n",
       " 1323    5.0\n",
       " Name: ttl_bath, dtype: float64]"
      ]
     },
     "execution_count": 654,
     "metadata": {},
     "output_type": "execute_result"
    }
   ],
   "source": [
    "# call function that produces nlargest for all columns\n",
    "mass_largest(ames)"
   ]
  },
  {
   "cell_type": "markdown",
   "metadata": {},
   "source": [
    "### Examining lot_area\n",
    "* [X] seems to be a few large outliers in lot area. 471 has 159,000 and 694 has 115,149. The mean is only 10,000. I will run a box plot on this to further examine.\n",
    "* The largest lot area home at 159,000sf was built in 1958 but remodeled 1 year before sale in 2006. It has large square footage and lot area in relation to sale price but I cannot rule out that other factors affect price. I will not remove this outlier. \n",
    "* The second largest lot area also seems legit and not unusual. larger square footage from home that was built in 1971 but remodeled in 2002 before sale in 2007. I will not remove this outlier either. "
   ]
  },
  {
   "cell_type": "code",
   "execution_count": 655,
   "metadata": {},
   "outputs": [
    {
     "data": {
      "text/plain": [
       "10023.37548828125"
      ]
     },
     "execution_count": 655,
     "metadata": {},
     "output_type": "execute_result"
    }
   ],
   "source": [
    "ames['lot_area'].mean()"
   ]
  },
  {
   "cell_type": "code",
   "execution_count": 656,
   "metadata": {},
   "outputs": [
    {
     "data": {
      "text/plain": [
       "470     159000\n",
       "693     115149\n",
       "1852     70761\n",
       "744      57200\n",
       "822      53504\n",
       "Name: lot_area, dtype: int64"
      ]
     },
     "execution_count": 656,
     "metadata": {},
     "output_type": "execute_result"
    }
   ],
   "source": [
    "ames['lot_area'].nlargest()"
   ]
  },
  {
   "cell_type": "code",
   "execution_count": 657,
   "metadata": {},
   "outputs": [
    {
     "data": {
      "image/png": "[encoded data removed]",
      "text/plain": [
       "<Figure size 432x288 with 1 Axes>"
      ]
     },
     "metadata": {
      "needs_background": "light"
     },
     "output_type": "display_data"
    }
   ],
   "source": [
    "sns.regplot(data = ames,\n",
    "            x = 'ttl_sf',\n",
    "            y = 'saleprice',\n",
    "            scatter = True,\n",
    "            color = 'lightblue',\n",
    "            x_jitter = 1,\n",
    "            y_jitter = 1).set_title('Lot Area and Total Square Feet')\n",
    "\n",
    "plt.xlabel('Lot Area')\n",
    "plt.ylabel('Square Feet of Home');"
   ]
  },
  {
   "cell_type": "code",
   "execution_count": 658,
   "metadata": {},
   "outputs": [],
   "source": [
    "ames.iloc[470, -60:];"
   ]
  },
  {
   "cell_type": "markdown",
   "metadata": {},
   "source": [
    "ames.iloc[693, -60:];"
   ]
  },
  {
   "cell_type": "markdown",
   "metadata": {},
   "source": [
    "### Examining mas_vnr_area\n",
    "* [X] seems to be some large values in mas_vnr_area. mean is 98 and the five largest values are above 1000. Probably not that unusual for expensive homes but worth examing further. \n",
    "* Nothing out of the ordinary with 1600 value. \n",
    "* The lower values seem normal as well. I will leave this columns alone. "
   ]
  },
  {
   "cell_type": "code",
   "execution_count": 659,
   "metadata": {},
   "outputs": [
    {
     "data": {
      "text/plain": [
       "98.84649555774926"
      ]
     },
     "execution_count": 659,
     "metadata": {},
     "output_type": "execute_result"
    }
   ],
   "source": [
    "ames['mas_vnr_area'].mean()"
   ]
  },
  {
   "cell_type": "code",
   "execution_count": 660,
   "metadata": {},
   "outputs": [
    {
     "data": {
      "text/plain": [
       "1407    1600.0\n",
       "1149    1129.0\n",
       "377     1115.0\n",
       "488     1110.0\n",
       "1225    1095.0\n",
       "Name: mas_vnr_area, dtype: float64"
      ]
     },
     "execution_count": 660,
     "metadata": {},
     "output_type": "execute_result"
    }
   ],
   "source": [
    "ames['mas_vnr_area'].nlargest()"
   ]
  },
  {
   "cell_type": "code",
   "execution_count": 661,
   "metadata": {},
   "outputs": [],
   "source": [
    "ames.iloc[1407, -60:];"
   ]
  },
  {
   "cell_type": "code",
   "execution_count": 662,
   "metadata": {},
   "outputs": [],
   "source": [
    "ames.iloc[1149, -60:];"
   ]
  },
  {
   "cell_type": "code",
   "execution_count": 663,
   "metadata": {},
   "outputs": [],
   "source": [
    "ames.iloc[377, -60:];"
   ]
  },
  {
   "cell_type": "markdown",
   "metadata": {},
   "source": [
    "### Examining garage_yr_blt\n",
    "* [X] garage year built has a value pf 2207 which must be wrong. I am going to examine that record to see if there is housing year built or upgrade year data to confirm my suspicion that this is actually meant to say 2007. \n",
    "* [X] identified that the house was built in 2006 and year remodeled was 2007 so I am assuming garage year built was 2007 and the 2207 was actually a misprint. Changed the value. "
   ]
  },
  {
   "cell_type": "code",
   "execution_count": 664,
   "metadata": {
    "scrolled": true
   },
   "outputs": [
    {
     "data": {
      "text/plain": [
       "1697    2207.0\n",
       "144     2010.0\n",
       "1239    2010.0\n",
       "19      2009.0\n",
       "70      2009.0\n",
       "Name: garage_yr_blt, dtype: float64"
      ]
     },
     "execution_count": 664,
     "metadata": {},
     "output_type": "execute_result"
    }
   ],
   "source": [
    "ames['garage_yr_blt'].nlargest()"
   ]
  },
  {
   "cell_type": "code",
   "execution_count": 665,
   "metadata": {},
   "outputs": [],
   "source": [
    "ames['garage_yr_blt'].replace(2207, 2007, inplace = True)"
   ]
  },
  {
   "cell_type": "code",
   "execution_count": 666,
   "metadata": {},
   "outputs": [
    {
     "data": {
      "text/plain": [
       "2010.0"
      ]
     },
     "execution_count": 666,
     "metadata": {},
     "output_type": "execute_result"
    }
   ],
   "source": [
    "ames['garage_yr_blt'].max()"
   ]
  },
  {
   "cell_type": "markdown",
   "metadata": {},
   "source": [
    "### Examining misc_val\n",
    "* [X] largest value is significantly higher than all the rest and much higher than the mean. This is a column where there are also not very many values. I may consider deleting this column or perhaps eliminating the outlier. Need to examine further.\n",
    "* [X] I have decided to eliminate the misc_val column due to large number of zero values. "
   ]
  },
  {
   "cell_type": "code",
   "execution_count": 667,
   "metadata": {},
   "outputs": [
    {
     "data": {
      "text/plain": [
       "1387.171875"
      ]
     },
     "execution_count": 667,
     "metadata": {},
     "output_type": "execute_result"
    }
   ],
   "source": [
    "ames['misc_val'][ames['misc_val'] > 0].mean()"
   ]
  },
  {
   "cell_type": "markdown",
   "metadata": {},
   "source": [
    "##### Dropping misc_vals"
   ]
  },
  {
   "cell_type": "code",
   "execution_count": 668,
   "metadata": {},
   "outputs": [],
   "source": [
    "ames.drop(columns = ['misc_val'], inplace = True)"
   ]
  },
  {
   "cell_type": "code",
   "execution_count": 669,
   "metadata": {},
   "outputs": [],
   "source": [
    "ames.columns;"
   ]
  },
  {
   "cell_type": "markdown",
   "metadata": {},
   "source": [
    "### Examining ttl_bath\n",
    "* [X] I am deciding to do nothing with the outliers in ttl_bath. I do not think they are not too far, all things considered. "
   ]
  },
  {
   "cell_type": "code",
   "execution_count": 670,
   "metadata": {
    "scrolled": true
   },
   "outputs": [
    {
     "data": {
      "text/plain": [
       "2.2187194525904204"
      ]
     },
     "execution_count": 670,
     "metadata": {},
     "output_type": "execute_result"
    }
   ],
   "source": [
    "ames['ttl_bath'].mean()"
   ]
  },
  {
   "cell_type": "code",
   "execution_count": 671,
   "metadata": {},
   "outputs": [
    {
     "data": {
      "text/plain": [
       "1564    7.0\n",
       "1603    7.0\n",
       "790     6.0\n",
       "1582    6.0\n",
       "1323    5.0\n",
       "Name: ttl_bath, dtype: float64"
      ]
     },
     "execution_count": 671,
     "metadata": {},
     "output_type": "execute_result"
    }
   ],
   "source": [
    "ames['ttl_bath'].nlargest()"
   ]
  },
  {
   "cell_type": "code",
   "execution_count": 672,
   "metadata": {},
   "outputs": [
    {
     "data": {
      "image/png": "[encoded data removed]",
      "text/plain": [
       "<Figure size 432x288 with 1 Axes>"
      ]
     },
     "metadata": {
      "needs_background": "light"
     },
     "output_type": "display_data"
    }
   ],
   "source": [
    "sns.regplot(data = ames,\n",
    "            x = 'ttl_bath',\n",
    "            y = 'ttl_sf',\n",
    "            scatter = True,\n",
    "            color = 'lightblue',\n",
    "            x_jitter = 1,\n",
    "            y_jitter = 1).set_title('Total Bathrooms and Sale Price')\n",
    "\n",
    "plt.xlabel('Total Bathrooms in Home')\n",
    "plt.ylabel('Sale Price of Home');"
   ]
  },
  {
   "cell_type": "code",
   "execution_count": 673,
   "metadata": {},
   "outputs": [
    {
     "data": {
      "image/png": "[encoded data removed]",
      "text/plain": [
       "<Figure size 432x288 with 1 Axes>"
      ]
     },
     "metadata": {
      "needs_background": "light"
     },
     "output_type": "display_data"
    }
   ],
   "source": [
    "sns.regplot(data = ames,\n",
    "            x = 'ttl_bath',\n",
    "            y = 'saleprice',\n",
    "            scatter = True,\n",
    "            color = 'lightblue',\n",
    "            x_jitter = 1,\n",
    "            y_jitter = 1).set_title('Total Bathrooms and Sale Price')\n",
    "\n",
    "plt.xlabel('Total Bathrooms in Home')\n",
    "plt.ylabel('Sale Price of Home');"
   ]
  },
  {
   "cell_type": "code",
   "execution_count": 674,
   "metadata": {
    "scrolled": true
   },
   "outputs": [
    {
     "data": {
      "text/html": [
       "<div>\n",
       "<style scoped>\n",
       "    .dataframe tbody tr th:only-of-type {\n",
       "        vertical-align: middle;\n",
       "    }\n",
       "\n",
       "    .dataframe tbody tr th {\n",
       "        vertical-align: top;\n",
       "    }\n",
       "\n",
       "    .dataframe thead th {\n",
       "        text-align: right;\n",
       "    }\n",
       "</style>\n",
       "<table border=\"1\" class=\"dataframe\">\n",
       "  <thead>\n",
       "    <tr style=\"text-align: right;\">\n",
       "      <th></th>\n",
       "      <th>index</th>\n",
       "      <th>id</th>\n",
       "      <th>pid</th>\n",
       "      <th>ms_subclass</th>\n",
       "      <th>ms_zoning</th>\n",
       "      <th>lot_frontage</th>\n",
       "      <th>lot_area</th>\n",
       "      <th>street</th>\n",
       "      <th>alley</th>\n",
       "      <th>lot_shape</th>\n",
       "      <th>...</th>\n",
       "      <th>pool_area</th>\n",
       "      <th>pool_qc</th>\n",
       "      <th>fence</th>\n",
       "      <th>misc_feature</th>\n",
       "      <th>mo_sold</th>\n",
       "      <th>yr_sold</th>\n",
       "      <th>sale_type</th>\n",
       "      <th>saleprice</th>\n",
       "      <th>ttl_sf</th>\n",
       "      <th>ttl_bath</th>\n",
       "    </tr>\n",
       "  </thead>\n",
       "  <tbody>\n",
       "    <tr>\n",
       "      <th>790</th>\n",
       "      <td>791</td>\n",
       "      <td>763</td>\n",
       "      <td>904301060</td>\n",
       "      <td>90</td>\n",
       "      <td>RL</td>\n",
       "      <td>60.0</td>\n",
       "      <td>10800</td>\n",
       "      <td>Pave</td>\n",
       "      <td>NaN</td>\n",
       "      <td>Reg</td>\n",
       "      <td>...</td>\n",
       "      <td>0</td>\n",
       "      <td>NaN</td>\n",
       "      <td>NaN</td>\n",
       "      <td>NaN</td>\n",
       "      <td>3</td>\n",
       "      <td>2009</td>\n",
       "      <td>WD</td>\n",
       "      <td>179000</td>\n",
       "      <td>2400.0</td>\n",
       "      <td>6.0</td>\n",
       "    </tr>\n",
       "    <tr>\n",
       "      <th>1564</th>\n",
       "      <td>1566</td>\n",
       "      <td>816</td>\n",
       "      <td>906230010</td>\n",
       "      <td>90</td>\n",
       "      <td>RL</td>\n",
       "      <td>NaN</td>\n",
       "      <td>11855</td>\n",
       "      <td>Pave</td>\n",
       "      <td>NaN</td>\n",
       "      <td>Reg</td>\n",
       "      <td>...</td>\n",
       "      <td>0</td>\n",
       "      <td>NaN</td>\n",
       "      <td>NaN</td>\n",
       "      <td>NaN</td>\n",
       "      <td>10</td>\n",
       "      <td>2009</td>\n",
       "      <td>WD</td>\n",
       "      <td>269500</td>\n",
       "      <td>3955.0</td>\n",
       "      <td>7.0</td>\n",
       "    </tr>\n",
       "    <tr>\n",
       "      <th>1582</th>\n",
       "      <td>1584</td>\n",
       "      <td>764</td>\n",
       "      <td>904301070</td>\n",
       "      <td>90</td>\n",
       "      <td>RL</td>\n",
       "      <td>60.0</td>\n",
       "      <td>10800</td>\n",
       "      <td>Pave</td>\n",
       "      <td>NaN</td>\n",
       "      <td>Reg</td>\n",
       "      <td>...</td>\n",
       "      <td>0</td>\n",
       "      <td>NaN</td>\n",
       "      <td>NaN</td>\n",
       "      <td>NaN</td>\n",
       "      <td>3</td>\n",
       "      <td>2009</td>\n",
       "      <td>WD</td>\n",
       "      <td>179000</td>\n",
       "      <td>2400.0</td>\n",
       "      <td>6.0</td>\n",
       "    </tr>\n",
       "    <tr>\n",
       "      <th>1603</th>\n",
       "      <td>1605</td>\n",
       "      <td>817</td>\n",
       "      <td>906230020</td>\n",
       "      <td>90</td>\n",
       "      <td>RL</td>\n",
       "      <td>NaN</td>\n",
       "      <td>7939</td>\n",
       "      <td>Pave</td>\n",
       "      <td>NaN</td>\n",
       "      <td>Reg</td>\n",
       "      <td>...</td>\n",
       "      <td>0</td>\n",
       "      <td>NaN</td>\n",
       "      <td>NaN</td>\n",
       "      <td>NaN</td>\n",
       "      <td>10</td>\n",
       "      <td>2009</td>\n",
       "      <td>WD</td>\n",
       "      <td>269500</td>\n",
       "      <td>3955.0</td>\n",
       "      <td>7.0</td>\n",
       "    </tr>\n",
       "  </tbody>\n",
       "</table>\n",
       "<p>4 rows × 70 columns</p>\n",
       "</div>"
      ],
      "text/plain": [
       "      index   id        pid ms_subclass ms_zoning  lot_frontage  lot_area  \\\n",
       "790     791  763  904301060          90        RL          60.0     10800   \n",
       "1564   1566  816  906230010          90        RL           NaN     11855   \n",
       "1582   1584  764  904301070          90        RL          60.0     10800   \n",
       "1603   1605  817  906230020          90        RL           NaN      7939   \n",
       "\n",
       "     street alley lot_shape  ... pool_area pool_qc fence misc_feature mo_sold  \\\n",
       "790    Pave   NaN       Reg  ...         0     NaN   NaN          NaN       3   \n",
       "1564   Pave   NaN       Reg  ...         0     NaN   NaN          NaN      10   \n",
       "1582   Pave   NaN       Reg  ...         0     NaN   NaN          NaN       3   \n",
       "1603   Pave   NaN       Reg  ...         0     NaN   NaN          NaN      10   \n",
       "\n",
       "     yr_sold sale_type saleprice  ttl_sf  ttl_bath  \n",
       "790     2009       WD     179000  2400.0       6.0  \n",
       "1564    2009       WD     269500  3955.0       7.0  \n",
       "1582    2009       WD     179000  2400.0       6.0  \n",
       "1603    2009       WD     269500  3955.0       7.0  \n",
       "\n",
       "[4 rows x 70 columns]"
      ]
     },
     "execution_count": 674,
     "metadata": {},
     "output_type": "execute_result"
    }
   ],
   "source": [
    "ames[ames['ttl_bath'] > 5]"
   ]
  },
  {
   "cell_type": "markdown",
   "metadata": {},
   "source": [
    "### Examing saleprice \n",
    "* [X] Examine Sale Price. There doesn't seem to exist any unacounted for reasons for larger salesprices. All of the 52 homes that sold for saleprices that were 3 standard deviations above the mean had characteristics that would justify such a sale. There were no homes that sold for less than 3 standard deviations away from the mean. "
   ]
  },
  {
   "cell_type": "code",
   "execution_count": 675,
   "metadata": {},
   "outputs": [
    {
     "data": {
      "text/plain": [
       "237374.2596402525"
      ]
     },
     "execution_count": 675,
     "metadata": {},
     "output_type": "execute_result"
    }
   ],
   "source": [
    "# 3 standard deviations away from the mean is 237374\n",
    "std3_saleprice = ames['saleprice'].std() *3\n",
    "std3_saleprice"
   ]
  },
  {
   "cell_type": "code",
   "execution_count": 676,
   "metadata": {},
   "outputs": [],
   "source": [
    "sale_mean = ames['saleprice'].mean()"
   ]
  },
  {
   "cell_type": "markdown",
   "metadata": {},
   "source": [
    "##### List of homes that are 3 standard deviations above the mean"
   ]
  },
  {
   "cell_type": "code",
   "execution_count": 677,
   "metadata": {},
   "outputs": [],
   "source": [
    "ames[ames['saleprice'] > (sale_mean + std3_saleprice)];"
   ]
  },
  {
   "cell_type": "markdown",
   "metadata": {},
   "source": [
    "##### List of homes that are 3 standard deviations below the mean"
   ]
  },
  {
   "cell_type": "code",
   "execution_count": 678,
   "metadata": {},
   "outputs": [
    {
     "data": {
      "text/html": [
       "<div>\n",
       "<style scoped>\n",
       "    .dataframe tbody tr th:only-of-type {\n",
       "        vertical-align: middle;\n",
       "    }\n",
       "\n",
       "    .dataframe tbody tr th {\n",
       "        vertical-align: top;\n",
       "    }\n",
       "\n",
       "    .dataframe thead th {\n",
       "        text-align: right;\n",
       "    }\n",
       "</style>\n",
       "<table border=\"1\" class=\"dataframe\">\n",
       "  <thead>\n",
       "    <tr style=\"text-align: right;\">\n",
       "      <th></th>\n",
       "      <th>index</th>\n",
       "      <th>id</th>\n",
       "      <th>pid</th>\n",
       "      <th>ms_subclass</th>\n",
       "      <th>ms_zoning</th>\n",
       "      <th>lot_frontage</th>\n",
       "      <th>lot_area</th>\n",
       "      <th>street</th>\n",
       "      <th>alley</th>\n",
       "      <th>lot_shape</th>\n",
       "      <th>...</th>\n",
       "      <th>pool_area</th>\n",
       "      <th>pool_qc</th>\n",
       "      <th>fence</th>\n",
       "      <th>misc_feature</th>\n",
       "      <th>mo_sold</th>\n",
       "      <th>yr_sold</th>\n",
       "      <th>sale_type</th>\n",
       "      <th>saleprice</th>\n",
       "      <th>ttl_sf</th>\n",
       "      <th>ttl_bath</th>\n",
       "    </tr>\n",
       "  </thead>\n",
       "  <tbody>\n",
       "  </tbody>\n",
       "</table>\n",
       "<p>0 rows × 70 columns</p>\n",
       "</div>"
      ],
      "text/plain": [
       "Empty DataFrame\n",
       "Columns: [index, id, pid, ms_subclass, ms_zoning, lot_frontage, lot_area, street, alley, lot_shape, land_contour, utilities, lot_config, land_slope, neighborhood, condition_1, condition_2, bldg_type, house_style, overall_qual, overall_cond, year_built, year_remod/add, roof_style, roof_matl, exterior_1st, exterior_2nd, mas_vnr_type, mas_vnr_area, exter_qual, exter_cond, foundation, bsmt_qual, bsmt_cond, bsmt_exposure, bsmtfin_type_1, bsmtfin_type_2, heating, heating_qc, central_air, electrical, bedroom_abvgr, kitchen_abvgr, kitchen_qual, functional, fireplaces, fireplace_qu, garage_type, garage_yr_blt, garage_finish, garage_cars, garage_area, garage_qual, garage_cond, paved_drive, wood_deck_sf, open_porch_sf, enclosed_porch, 3ssn_porch, screen_porch, pool_area, pool_qc, fence, misc_feature, mo_sold, yr_sold, sale_type, saleprice, ttl_sf, ttl_bath]\n",
       "Index: []\n",
       "\n",
       "[0 rows x 70 columns]"
      ]
     },
     "execution_count": 678,
     "metadata": {},
     "output_type": "execute_result"
    }
   ],
   "source": [
    "ames[ames['saleprice'] < (sale_mean - std3_saleprice)]"
   ]
  },
  {
   "cell_type": "markdown",
   "metadata": {},
   "source": [
    "##### value_counts() for all columns"
   ]
  },
  {
   "cell_type": "code",
   "execution_count": 679,
   "metadata": {},
   "outputs": [
    {
     "data": {
      "text/plain": [
       "['INDEX',\n",
       " 2047    1\n",
       " 2045    1\n",
       " 1348    1\n",
       " 1350    1\n",
       " 1352    1\n",
       "        ..\n",
       " 691     1\n",
       " 693     1\n",
       " 695     1\n",
       " 697     1\n",
       " 0       1\n",
       " Name: index, Length: 2048, dtype: int64,\n",
       " 'ID',\n",
       " 2047    1\n",
       " 2045    1\n",
       " 1058    1\n",
       " 1060    1\n",
       " 1062    1\n",
       "        ..\n",
       " 2548    1\n",
       " 2550    1\n",
       " 2552    1\n",
       " 505     1\n",
       " 2049    1\n",
       " Name: id, Length: 2048, dtype: int64,\n",
       " 'PID',\n",
       " 532351060    1\n",
       " 905101310    1\n",
       " 916475110    1\n",
       " 527451540    1\n",
       " 908227040    1\n",
       "             ..\n",
       " 528344020    1\n",
       " 908102320    1\n",
       " 533215020    1\n",
       " 902301130    1\n",
       " 533250050    1\n",
       " Name: pid, Length: 2048, dtype: int64,\n",
       " 'MS_SUBCLASS',\n",
       " 20     768\n",
       " 60     393\n",
       " 50     198\n",
       " 120    132\n",
       " 30     101\n",
       " 70      90\n",
       " 160     88\n",
       " 80      86\n",
       " 90      75\n",
       " 190     46\n",
       " 85      28\n",
       " 75      16\n",
       " 180     11\n",
       " 45      11\n",
       " 40       4\n",
       " 150      1\n",
       " Name: ms_subclass, dtype: int64,\n",
       " 'MS_ZONING',\n",
       " RL         1595\n",
       " RM          316\n",
       " FV          101\n",
       " C (all)      19\n",
       " RH           14\n",
       " A (agr)       2\n",
       " I (all)       1\n",
       " Name: ms_zoning, dtype: int64,\n",
       " 'LOT_FRONTAGE',\n",
       " 60.0     179\n",
       " 70.0      96\n",
       " 80.0      94\n",
       " 50.0      90\n",
       " 65.0      71\n",
       "         ... \n",
       " 141.0      1\n",
       " 135.0      1\n",
       " 22.0       1\n",
       " 313.0      1\n",
       " 137.0      1\n",
       " Name: lot_frontage, Length: 118, dtype: int64,\n",
       " 'LOT_AREA',\n",
       " 9600     34\n",
       " 7200     27\n",
       " 6000     26\n",
       " 10800    19\n",
       " 9000     18\n",
       "          ..\n",
       " 13450     1\n",
       " 6012      1\n",
       " 7308      1\n",
       " 33120     1\n",
       " 8190      1\n",
       " Name: lot_area, Length: 1473, dtype: int64,\n",
       " 'STREET',\n",
       " Pave    2041\n",
       " Grvl       7\n",
       " Name: street, dtype: int64,\n",
       " 'ALLEY',\n",
       " Grvl    85\n",
       " Pave    55\n",
       " Name: alley, dtype: int64,\n",
       " 'LOT_SHAPE',\n",
       " Reg    1295\n",
       " IR1     690\n",
       " IR2      55\n",
       " IR3       8\n",
       " Name: lot_shape, dtype: int64,\n",
       " 'LAND_CONTOUR',\n",
       " Lvl    1842\n",
       " HLS      85\n",
       " Bnk      78\n",
       " Low      43\n",
       " Name: land_contour, dtype: int64,\n",
       " 'UTILITIES',\n",
       " AllPub    2046\n",
       " NoSewr       1\n",
       " NoSeWa       1\n",
       " Name: utilities, dtype: int64,\n",
       " 'LOT_CONFIG',\n",
       " Inside     1501\n",
       " Corner      347\n",
       " CulDSac     131\n",
       " FR2          60\n",
       " FR3           9\n",
       " Name: lot_config, dtype: int64,\n",
       " 'LAND_SLOPE',\n",
       " Gtl    1950\n",
       " Mod      88\n",
       " Sev      10\n",
       " Name: land_slope, dtype: int64,\n",
       " 'NEIGHBORHOOD',\n",
       " NAmes      310\n",
       " CollgCr    180\n",
       " OldTown    163\n",
       " Edwards    141\n",
       " Somerst    130\n",
       " NridgHt    122\n",
       " Gilbert    116\n",
       " Sawyer     111\n",
       " NWAmes      87\n",
       " SawyerW     87\n",
       " Mitchel     82\n",
       " BrkSide     76\n",
       " Crawfor     71\n",
       " IDOTRR      69\n",
       " Timber      48\n",
       " NoRidge     47\n",
       " StoneBr     38\n",
       " SWISU       32\n",
       " ClearCr     27\n",
       " MeadowV     24\n",
       " Blmngtn     22\n",
       " BrDale      19\n",
       " NPkVill     17\n",
       " Veenker     17\n",
       " Blueste      6\n",
       " Greens       3\n",
       " GrnHill      2\n",
       " Landmrk      1\n",
       " Name: neighborhood, dtype: int64,\n",
       " 'CONDITION_1',\n",
       " Norm      1765\n",
       " Feedr      108\n",
       " Artery      70\n",
       " RRAn        36\n",
       " PosN        27\n",
       " RRAe        21\n",
       " PosA        12\n",
       " RRNn         6\n",
       " RRNe         3\n",
       " Name: condition_1, dtype: int64,\n",
       " 'CONDITION_2',\n",
       " Norm      2022\n",
       " Feedr       11\n",
       " Artery       5\n",
       " PosA         3\n",
       " PosN         3\n",
       " RRNn         2\n",
       " RRAn         1\n",
       " RRAe         1\n",
       " Name: condition_2, dtype: int64,\n",
       " 'BLDG_TYPE',\n",
       " 1Fam      1697\n",
       " TwnhsE     161\n",
       " Duplex      75\n",
       " Twnhs       69\n",
       " 2fmCon      46\n",
       " Name: bldg_type, dtype: int64,\n",
       " 'HOUSE_STYLE',\n",
       " 1Story    1057\n",
       " 2Story     597\n",
       " 1.5Fin     218\n",
       " SLvl        94\n",
       " SFoyer      50\n",
       " 2.5Unf      14\n",
       " 1.5Unf      12\n",
       " 2.5Fin       6\n",
       " Name: house_style, dtype: int64,\n",
       " 'OVERALL_QUAL',\n",
       " 5     563\n",
       " 6     506\n",
       " 7     431\n",
       " 8     249\n",
       " 4     159\n",
       " 9      77\n",
       " 3      29\n",
       " 10     21\n",
       " 2       9\n",
       " 1       4\n",
       " Name: overall_qual, dtype: int64,\n",
       " 'OVERALL_COND',\n",
       " 5    1165\n",
       " 6     368\n",
       " 7     270\n",
       " 8     101\n",
       " 4      70\n",
       " 3      35\n",
       " 9      29\n",
       " 2       6\n",
       " 1       4\n",
       " Name: overall_cond, dtype: int64,\n",
       " 'YEAR_BUILT',\n",
       " 2005    102\n",
       " 2006     99\n",
       " 2007     78\n",
       " 2004     72\n",
       " 2003     64\n",
       "        ... \n",
       " 1898      1\n",
       " 1908      1\n",
       " 1911      1\n",
       " 1913      1\n",
       " 1872      1\n",
       " Name: year_built, Length: 113, dtype: int64,\n",
       " 'YEAR_REMOD/ADD',\n",
       " 1950    262\n",
       " 2006    139\n",
       " 2007    123\n",
       " 2005    100\n",
       " 2004     83\n",
       "        ... \n",
       " 1952      9\n",
       " 2010      8\n",
       " 1983      7\n",
       " 1981      6\n",
       " 1982      3\n",
       " Name: year_remod/add, Length: 61, dtype: int64,\n",
       " 'ROOF_STYLE',\n",
       " Gable      1619\n",
       " Hip         394\n",
       " Flat         13\n",
       " Gambrel      12\n",
       " Mansard       7\n",
       " Shed          3\n",
       " Name: roof_style, dtype: int64,\n",
       " 'ROOF_MATL',\n",
       " CompShg    2023\n",
       " Tar&Grv      15\n",
       " WdShngl       5\n",
       " WdShake       4\n",
       " Membran       1\n",
       " Name: roof_matl, dtype: int64,\n",
       " 'EXTERIOR_1ST',\n",
       " VinylSd    724\n",
       " MetalSd    331\n",
       " HdBoard    300\n",
       " Wd Sdng    276\n",
       " Plywood    152\n",
       " CemntBd     89\n",
       " BrkFace     63\n",
       " WdShing     45\n",
       " AsbShng     33\n",
       " Stucco      26\n",
       " BrkComm      3\n",
       " CBlock       2\n",
       " Stone        2\n",
       " ImStucc      1\n",
       " AsphShn      1\n",
       " Name: exterior_1st, dtype: int64,\n",
       " 'EXTERIOR_2ND',\n",
       " VinylSd    721\n",
       " MetalSd    324\n",
       " HdBoard    275\n",
       " Wd Sdng    262\n",
       " Plywood    185\n",
       " CmentBd     89\n",
       " Wd Shng     63\n",
       " BrkFace     33\n",
       " Stucco      29\n",
       " AsbShng     28\n",
       " Brk Cmn     17\n",
       " ImStucc     11\n",
       " Stone        6\n",
       " AsphShn      3\n",
       " CBlock       2\n",
       " Name: exterior_2nd, dtype: int64,\n",
       " 'MAS_VNR_TYPE',\n",
       " None       1217\n",
       " BrkFace     630\n",
       " Stone       166\n",
       " BrkCmn       13\n",
       " Name: mas_vnr_type, dtype: int64,\n",
       " 'MAS_VNR_AREA',\n",
       " 0.0       1215\n",
       " 120.0       11\n",
       " 176.0       10\n",
       " 200.0       10\n",
       " 180.0        9\n",
       "           ... \n",
       " 361.0        1\n",
       " 121.0        1\n",
       " 156.0        1\n",
       " 66.0         1\n",
       " 1031.0       1\n",
       " Name: mas_vnr_area, Length: 371, dtype: int64,\n",
       " 'EXTER_QUAL',\n",
       " TA    1247\n",
       " Gd     696\n",
       " Ex      79\n",
       " Fa      26\n",
       " Name: exter_qual, dtype: int64,\n",
       " 'EXTER_COND',\n",
       " TA    1775\n",
       " Gd     215\n",
       " Fa      49\n",
       " Ex       7\n",
       " Po       2\n",
       " Name: exter_cond, dtype: int64,\n",
       " 'FOUNDATION',\n",
       " PConc     923\n",
       " CBlock    863\n",
       " BrkTil    221\n",
       " Slab       34\n",
       " Stone       5\n",
       " Wood        2\n",
       " Name: foundation, dtype: int64,\n",
       " 'BSMT_QUAL',\n",
       " TA    887\n",
       " Gd    863\n",
       " Ex    182\n",
       " Fa     60\n",
       " Po      1\n",
       " Name: bsmt_qual, dtype: int64,\n",
       " 'BSMT_COND',\n",
       " TA    1831\n",
       " Gd      89\n",
       " Fa      65\n",
       " Po       5\n",
       " Ex       3\n",
       " Name: bsmt_cond, dtype: int64,\n",
       " 'BSMT_EXPOSURE',\n",
       " No    1338\n",
       " Av     288\n",
       " Gd     201\n",
       " Mn     163\n",
       " Name: bsmt_exposure, dtype: int64,\n",
       " 'BSMTFIN_TYPE_1',\n",
       " GLQ    612\n",
       " Unf    603\n",
       " ALQ    293\n",
       " BLQ    200\n",
       " Rec    183\n",
       " LwQ    102\n",
       " Name: bsmtfin_type_1, dtype: int64,\n",
       " 'BSMTFIN_TYPE_2',\n",
       " Unf    1746\n",
       " Rec      80\n",
       " LwQ      60\n",
       " BLQ      48\n",
       " ALQ      35\n",
       " GLQ      23\n",
       " Name: bsmtfin_type_2, dtype: int64,\n",
       " 'HEATING',\n",
       " GasA    2015\n",
       " GasW      20\n",
       " Wall       6\n",
       " Grav       5\n",
       " OthW       2\n",
       " Name: heating, dtype: int64,\n",
       " 'HEATING_QC',\n",
       " Ex    1062\n",
       " TA     597\n",
       " Gd     319\n",
       " Fa      67\n",
       " Po       3\n",
       " Name: heating_qc, dtype: int64,\n",
       " 'CENTRAL_AIR',\n",
       " Y    1907\n",
       " N     141\n",
       " Name: central_air, dtype: int64,\n",
       " 'ELECTRICAL',\n",
       " SBrkr    1865\n",
       " FuseA     140\n",
       " FuseF      35\n",
       " FuseP       7\n",
       " Mix         1\n",
       " Name: electrical, dtype: int64,\n",
       " 'BEDROOM_ABVGR',\n",
       " 3    1107\n",
       " 2     543\n",
       " 4     264\n",
       " 1      75\n",
       " 5      41\n",
       " 6      12\n",
       " 0       5\n",
       " 8       1\n",
       " Name: bedroom_abvgr, dtype: int64,\n",
       " 'KITCHEN_ABVGR',\n",
       " 1    1957\n",
       " 2      88\n",
       " 0       2\n",
       " 3       1\n",
       " Name: kitchen_abvgr, dtype: int64,\n",
       " 'KITCHEN_QUAL',\n",
       " TA    1047\n",
       " Gd     805\n",
       " Ex     149\n",
       " Fa      47\n",
       " Name: kitchen_qual, dtype: int64,\n",
       " 'FUNCTIONAL',\n",
       " Typ     1912\n",
       " Min2      42\n",
       " Min1      42\n",
       " Mod       29\n",
       " Maj1      12\n",
       " Maj2       7\n",
       " Sev        2\n",
       " Sal        2\n",
       " Name: functional, dtype: int64,\n",
       " 'FIREPLACES',\n",
       " 0    1000\n",
       " 1     897\n",
       " 2     145\n",
       " 3       5\n",
       " 4       1\n",
       " Name: fireplaces, dtype: int64,\n",
       " 'FIREPLACE_QU',\n",
       " Gd    520\n",
       " TA    407\n",
       " Fa     59\n",
       " Ex     31\n",
       " Po     31\n",
       " Name: fireplace_qu, dtype: int64,\n",
       " 'GARAGE_TYPE',\n",
       " Attchd     1210\n",
       " Detchd      536\n",
       " BuiltIn     132\n",
       " Basment      27\n",
       " 2Types       19\n",
       " CarPort      11\n",
       " Name: garage_type, dtype: int64,\n",
       " 'GARAGE_YR_BLT',\n",
       " 2005.0    105\n",
       " 2007.0     85\n",
       " 2006.0     80\n",
       " 2004.0     72\n",
       " 2003.0     66\n",
       "          ... \n",
       " 1918.0      1\n",
       " 1919.0      1\n",
       " 1895.0      1\n",
       " 1896.0      1\n",
       " 1933.0      1\n",
       " Name: garage_yr_blt, Length: 99, dtype: int64,\n",
       " 'GARAGE_FINISH',\n",
       " Unf    849\n",
       " RFn    578\n",
       " Fin    507\n",
       " Name: garage_finish, dtype: int64,\n",
       " 'GARAGE_CARS',\n",
       " 2.0    1134\n",
       " 1.0     524\n",
       " 3.0     262\n",
       " 0.0     113\n",
       " 4.0      13\n",
       " 5.0       1\n",
       " Name: garage_cars, dtype: int64,\n",
       " 'GARAGE_AREA',\n",
       " 0.0      113\n",
       " 440.0     70\n",
       " 576.0     69\n",
       " 484.0     52\n",
       " 528.0     46\n",
       "         ... \n",
       " 356.0      1\n",
       " 162.0      1\n",
       " 412.0      1\n",
       " 324.0      1\n",
       " 475.0      1\n",
       " Name: garage_area, Length: 512, dtype: int64,\n",
       " 'GARAGE_QUAL',\n",
       " TA    1829\n",
       " Fa      82\n",
       " Gd      18\n",
       " Ex       3\n",
       " Po       2\n",
       " Name: garage_qual, dtype: int64,\n",
       " 'GARAGE_COND',\n",
       " TA    1865\n",
       " Fa      47\n",
       " Gd      12\n",
       " Po       8\n",
       " Ex       2\n",
       " Name: garage_cond, dtype: int64,\n",
       " 'PAVED_DRIVE',\n",
       " Y    1858\n",
       " N     151\n",
       " P      39\n",
       " Name: paved_drive, dtype: int64,\n",
       " 'WOOD_DECK_SF',\n",
       " 0       1075\n",
       " 100       53\n",
       " 144       46\n",
       " 192       43\n",
       " 120       40\n",
       "         ... \n",
       " 197        1\n",
       " 386        1\n",
       " 195        1\n",
       " 390        1\n",
       " 1424       1\n",
       " Name: wood_deck_sf, Length: 321, dtype: int64,\n",
       " 'OPEN_PORCH_SF',\n",
       " 0      912\n",
       " 48      40\n",
       " 36      38\n",
       " 40      34\n",
       " 32      29\n",
       "       ... \n",
       " 205      1\n",
       " 213      1\n",
       " 214      1\n",
       " 215      1\n",
       " 125      1\n",
       " Name: open_porch_sf, Length: 221, dtype: int64,\n",
       " 'ENCLOSED_PORCH',\n",
       " 0      1722\n",
       " 112      13\n",
       " 96       10\n",
       " 40        6\n",
       " 192       6\n",
       "        ... \n",
       " 194       1\n",
       " 196       1\n",
       " 198       1\n",
       " 202       1\n",
       " 145       1\n",
       " Name: enclosed_porch, Length: 158, dtype: int64,\n",
       " '3SSN_PORCH',\n",
       " 0      2022\n",
       " 153       3\n",
       " 168       3\n",
       " 144       2\n",
       " 407       1\n",
       " 86        1\n",
       " 96        1\n",
       " 120       1\n",
       " 140       1\n",
       " 150       1\n",
       " 162       1\n",
       " 508       1\n",
       " 180       1\n",
       " 182       1\n",
       " 216       1\n",
       " 224       1\n",
       " 245       1\n",
       " 255       1\n",
       " 290       1\n",
       " 304       1\n",
       " 323       1\n",
       " 176       1\n",
       " Name: 3ssn_porch, dtype: int64,\n",
       " 'SCREEN_PORCH',\n",
       " 0      1867\n",
       " 144       9\n",
       " 168       8\n",
       " 192       7\n",
       " 180       7\n",
       "        ... \n",
       " 271       1\n",
       " 154       1\n",
       " 276       1\n",
       " 152       1\n",
       " 490       1\n",
       " Name: screen_porch, Length: 100, dtype: int64,\n",
       " 'POOL_AREA',\n",
       " 0      2040\n",
       " 800       1\n",
       " 738       1\n",
       " 648       1\n",
       " 576       1\n",
       " 561       1\n",
       " 519       1\n",
       " 368       1\n",
       " 228       1\n",
       " Name: pool_area, dtype: int64,\n",
       " 'POOL_QC',\n",
       " Gd    3\n",
       " TA    2\n",
       " Fa    2\n",
       " Ex    1\n",
       " Name: pool_qc, dtype: int64,\n",
       " 'FENCE',\n",
       " MnPrv    227\n",
       " GdPrv     83\n",
       " GdWo      80\n",
       " MnWw      10\n",
       " Name: fence, dtype: int64,\n",
       " 'MISC_FEATURE',\n",
       " Shed    56\n",
       " Gar2     4\n",
       " Othr     3\n",
       " TenC     1\n",
       " Name: misc_feature, dtype: int64,\n",
       " 'MO_SOLD',\n",
       " 6     352\n",
       " 7     303\n",
       " 5     256\n",
       " 4     208\n",
       " 3     168\n",
       " 8     167\n",
       " 10    122\n",
       " 9     109\n",
       " 2     104\n",
       " 11    103\n",
       " 12     78\n",
       " 1      78\n",
       " Name: mo_sold, dtype: int64,\n",
       " 'YR_SOLD',\n",
       " 2007    496\n",
       " 2009    446\n",
       " 2006    438\n",
       " 2008    434\n",
       " 2010    234\n",
       " Name: yr_sold, dtype: int64,\n",
       " 'SALE_TYPE',\n",
       " WD       1780\n",
       " New       158\n",
       " COD        63\n",
       " ConLD      17\n",
       " CWD        10\n",
       " ConLI       7\n",
       " ConLw       5\n",
       " Con         4\n",
       " Oth         4\n",
       " Name: sale_type, dtype: int64,\n",
       " 'SALEPRICE',\n",
       " 130000    25\n",
       " 140000    22\n",
       " 145000    20\n",
       " 135000    19\n",
       " 128000    16\n",
       "           ..\n",
       " 180400     1\n",
       " 500000     1\n",
       " 466500     1\n",
       " 146300     1\n",
       " 34900      1\n",
       " Name: saleprice, Length: 826, dtype: int64,\n",
       " 'TTL_SF',\n",
       " 1728.0    24\n",
       " 2184.0    13\n",
       " 2080.0    12\n",
       " 1980.0    10\n",
       " 1632.0    10\n",
       "           ..\n",
       " 1810.0     1\n",
       " 2804.0     1\n",
       " 1648.0     1\n",
       " 3504.0     1\n",
       " 3993.0     1\n",
       " Name: ttl_sf, Length: 1189, dtype: int64,\n",
       " 'TTL_BATH',\n",
       " 2.0    636\n",
       " 2.5    391\n",
       " 1.0    314\n",
       " 3.0    278\n",
       " 3.5    199\n",
       " 1.5    193\n",
       " 4.0     20\n",
       " 4.5     10\n",
       " 7.0      2\n",
       " 6.0      2\n",
       " 5.0      1\n",
       " Name: ttl_bath, dtype: int64]"
      ]
     },
     "execution_count": 679,
     "metadata": {},
     "output_type": "execute_result"
    }
   ],
   "source": [
    "mass_value(ames)"
   ]
  },
  {
   "cell_type": "markdown",
   "metadata": {},
   "source": [
    "### Evaluating Year Sold\n",
    "* [X] Evaluating year sold. There doesn't appear to be any outliers in year sold.\n",
    "* NOTE: There is not a full year of data for 2010"
   ]
  },
  {
   "cell_type": "code",
   "execution_count": 680,
   "metadata": {},
   "outputs": [
    {
     "data": {
      "text/plain": [
       "2007    496\n",
       "2009    446\n",
       "2006    438\n",
       "2008    434\n",
       "2010    234\n",
       "Name: yr_sold, dtype: int64"
      ]
     },
     "execution_count": 680,
     "metadata": {},
     "output_type": "execute_result"
    }
   ],
   "source": [
    "ames['yr_sold'].value_counts()"
   ]
  },
  {
   "cell_type": "markdown",
   "metadata": {},
   "source": [
    "### There is not a full year of data for 2010"
   ]
  },
  {
   "cell_type": "code",
   "execution_count": 681,
   "metadata": {},
   "outputs": [
    {
     "data": {
      "text/plain": [
       "mo_sold\n",
       "1    16\n",
       "2    21\n",
       "3    35\n",
       "4    52\n",
       "5    53\n",
       "6    53\n",
       "7     4\n",
       "Name: yr_sold, dtype: int64"
      ]
     },
     "execution_count": 681,
     "metadata": {},
     "output_type": "execute_result"
    }
   ],
   "source": [
    "ames['yr_sold'][ames['yr_sold'] == 2010].groupby(ames['mo_sold']).count()"
   ]
  },
  {
   "cell_type": "markdown",
   "metadata": {},
   "source": [
    "# END INITIAL OUTLIER ANALYSIS\n",
    "______________________________"
   ]
  },
  {
   "cell_type": "markdown",
   "metadata": {},
   "source": [
    "# INITIAL CLEANING AND EDA ON ORDINALS"
   ]
  },
  {
   "cell_type": "markdown",
   "metadata": {},
   "source": [
    "### Replace test set ordinals"
   ]
  },
  {
   "cell_type": "code",
   "execution_count": 682,
   "metadata": {},
   "outputs": [],
   "source": [
    "# replace all strings in ordinals with values\n",
    "for key, value in ordinals_test.items():\n",
    "    test[key].replace(value, inplace = True)"
   ]
  },
  {
   "cell_type": "markdown",
   "metadata": {},
   "source": [
    "### Replace training set ordinals"
   ]
  },
  {
   "cell_type": "code",
   "execution_count": 683,
   "metadata": {},
   "outputs": [],
   "source": [
    "# replace all strings in ordinals with values\n",
    "for key, value in ordinals_test.items():\n",
    "    ames[key].replace(value, inplace = True)"
   ]
  },
  {
   "cell_type": "code",
   "execution_count": 684,
   "metadata": {},
   "outputs": [
    {
     "data": {
      "text/plain": [
       "['INDEX',\n",
       " 2047    1\n",
       " 2045    1\n",
       " 1348    1\n",
       " 1350    1\n",
       " 1352    1\n",
       "        ..\n",
       " 691     1\n",
       " 693     1\n",
       " 695     1\n",
       " 697     1\n",
       " 0       1\n",
       " Name: index, Length: 2048, dtype: int64,\n",
       " 'ID',\n",
       " 2047    1\n",
       " 2045    1\n",
       " 1058    1\n",
       " 1060    1\n",
       " 1062    1\n",
       "        ..\n",
       " 2548    1\n",
       " 2550    1\n",
       " 2552    1\n",
       " 505     1\n",
       " 2049    1\n",
       " Name: id, Length: 2048, dtype: int64,\n",
       " 'PID',\n",
       " 532351060    1\n",
       " 905101310    1\n",
       " 916475110    1\n",
       " 527451540    1\n",
       " 908227040    1\n",
       "             ..\n",
       " 528344020    1\n",
       " 908102320    1\n",
       " 533215020    1\n",
       " 902301130    1\n",
       " 533250050    1\n",
       " Name: pid, Length: 2048, dtype: int64,\n",
       " 'MS_SUBCLASS',\n",
       " 20     768\n",
       " 60     393\n",
       " 50     198\n",
       " 120    132\n",
       " 30     101\n",
       " 70      90\n",
       " 160     88\n",
       " 80      86\n",
       " 90      75\n",
       " 190     46\n",
       " 85      28\n",
       " 75      16\n",
       " 180     11\n",
       " 45      11\n",
       " 40       4\n",
       " 150      1\n",
       " Name: ms_subclass, dtype: int64,\n",
       " 'MS_ZONING',\n",
       " RL         1595\n",
       " RM          316\n",
       " FV          101\n",
       " C (all)      19\n",
       " RH           14\n",
       " A (agr)       2\n",
       " I (all)       1\n",
       " Name: ms_zoning, dtype: int64,\n",
       " 'LOT_FRONTAGE',\n",
       " 60.0     179\n",
       " 70.0      96\n",
       " 80.0      94\n",
       " 50.0      90\n",
       " 65.0      71\n",
       "         ... \n",
       " 141.0      1\n",
       " 135.0      1\n",
       " 22.0       1\n",
       " 313.0      1\n",
       " 137.0      1\n",
       " Name: lot_frontage, Length: 118, dtype: int64,\n",
       " 'LOT_AREA',\n",
       " 9600     34\n",
       " 7200     27\n",
       " 6000     26\n",
       " 10800    19\n",
       " 9000     18\n",
       "          ..\n",
       " 13450     1\n",
       " 6012      1\n",
       " 7308      1\n",
       " 33120     1\n",
       " 8190      1\n",
       " Name: lot_area, Length: 1473, dtype: int64,\n",
       " 'STREET',\n",
       " Pave    2041\n",
       " Grvl       7\n",
       " Name: street, dtype: int64,\n",
       " 'ALLEY',\n",
       " Grvl    85\n",
       " Pave    55\n",
       " Name: alley, dtype: int64,\n",
       " 'LOT_SHAPE',\n",
       " 1    1295\n",
       " 2     690\n",
       " 3      55\n",
       " 4       8\n",
       " Name: lot_shape, dtype: int64,\n",
       " 'LAND_CONTOUR',\n",
       " Lvl    1842\n",
       " HLS      85\n",
       " Bnk      78\n",
       " Low      43\n",
       " Name: land_contour, dtype: int64,\n",
       " 'UTILITIES',\n",
       " 10    2046\n",
       " 5        1\n",
       " 2        1\n",
       " Name: utilities, dtype: int64,\n",
       " 'LOT_CONFIG',\n",
       " Inside     1501\n",
       " Corner      347\n",
       " CulDSac     131\n",
       " FR2          60\n",
       " FR3           9\n",
       " Name: lot_config, dtype: int64,\n",
       " 'LAND_SLOPE',\n",
       " 3    1950\n",
       " 2      88\n",
       " 1      10\n",
       " Name: land_slope, dtype: int64,\n",
       " 'NEIGHBORHOOD',\n",
       " NAmes      310\n",
       " CollgCr    180\n",
       " OldTown    163\n",
       " Edwards    141\n",
       " Somerst    130\n",
       " NridgHt    122\n",
       " Gilbert    116\n",
       " Sawyer     111\n",
       " NWAmes      87\n",
       " SawyerW     87\n",
       " Mitchel     82\n",
       " BrkSide     76\n",
       " Crawfor     71\n",
       " IDOTRR      69\n",
       " Timber      48\n",
       " NoRidge     47\n",
       " StoneBr     38\n",
       " SWISU       32\n",
       " ClearCr     27\n",
       " MeadowV     24\n",
       " Blmngtn     22\n",
       " BrDale      19\n",
       " NPkVill     17\n",
       " Veenker     17\n",
       " Blueste      6\n",
       " Greens       3\n",
       " GrnHill      2\n",
       " Landmrk      1\n",
       " Name: neighborhood, dtype: int64,\n",
       " 'CONDITION_1',\n",
       " Norm      1765\n",
       " Feedr      108\n",
       " Artery      70\n",
       " RRAn        36\n",
       " PosN        27\n",
       " RRAe        21\n",
       " PosA        12\n",
       " RRNn         6\n",
       " RRNe         3\n",
       " Name: condition_1, dtype: int64,\n",
       " 'CONDITION_2',\n",
       " Norm      2022\n",
       " Feedr       11\n",
       " Artery       5\n",
       " PosA         3\n",
       " PosN         3\n",
       " RRNn         2\n",
       " RRAn         1\n",
       " RRAe         1\n",
       " Name: condition_2, dtype: int64,\n",
       " 'BLDG_TYPE',\n",
       " 1Fam      1697\n",
       " TwnhsE     161\n",
       " Duplex      75\n",
       " Twnhs       69\n",
       " 2fmCon      46\n",
       " Name: bldg_type, dtype: int64,\n",
       " 'HOUSE_STYLE',\n",
       " 1Story    1057\n",
       " 2Story     597\n",
       " 1.5Fin     218\n",
       " SLvl        94\n",
       " SFoyer      50\n",
       " 2.5Unf      14\n",
       " 1.5Unf      12\n",
       " 2.5Fin       6\n",
       " Name: house_style, dtype: int64,\n",
       " 'OVERALL_QUAL',\n",
       " 5     563\n",
       " 6     506\n",
       " 7     431\n",
       " 8     249\n",
       " 4     159\n",
       " 9      77\n",
       " 3      29\n",
       " 10     21\n",
       " 2       9\n",
       " 1       4\n",
       " Name: overall_qual, dtype: int64,\n",
       " 'OVERALL_COND',\n",
       " 5    1165\n",
       " 6     368\n",
       " 7     270\n",
       " 8     101\n",
       " 4      70\n",
       " 3      35\n",
       " 9      29\n",
       " 2       6\n",
       " 1       4\n",
       " Name: overall_cond, dtype: int64,\n",
       " 'YEAR_BUILT',\n",
       " 2005    102\n",
       " 2006     99\n",
       " 2007     78\n",
       " 2004     72\n",
       " 2003     64\n",
       "        ... \n",
       " 1898      1\n",
       " 1908      1\n",
       " 1911      1\n",
       " 1913      1\n",
       " 1872      1\n",
       " Name: year_built, Length: 113, dtype: int64,\n",
       " 'YEAR_REMOD/ADD',\n",
       " 1950    262\n",
       " 2006    139\n",
       " 2007    123\n",
       " 2005    100\n",
       " 2004     83\n",
       "        ... \n",
       " 1952      9\n",
       " 2010      8\n",
       " 1983      7\n",
       " 1981      6\n",
       " 1982      3\n",
       " Name: year_remod/add, Length: 61, dtype: int64,\n",
       " 'ROOF_STYLE',\n",
       " Gable      1619\n",
       " Hip         394\n",
       " Flat         13\n",
       " Gambrel      12\n",
       " Mansard       7\n",
       " Shed          3\n",
       " Name: roof_style, dtype: int64,\n",
       " 'ROOF_MATL',\n",
       " CompShg    2023\n",
       " Tar&Grv      15\n",
       " WdShngl       5\n",
       " WdShake       4\n",
       " Membran       1\n",
       " Name: roof_matl, dtype: int64,\n",
       " 'EXTERIOR_1ST',\n",
       " VinylSd    724\n",
       " MetalSd    331\n",
       " HdBoard    300\n",
       " Wd Sdng    276\n",
       " Plywood    152\n",
       " CemntBd     89\n",
       " BrkFace     63\n",
       " WdShing     45\n",
       " AsbShng     33\n",
       " Stucco      26\n",
       " BrkComm      3\n",
       " CBlock       2\n",
       " Stone        2\n",
       " ImStucc      1\n",
       " AsphShn      1\n",
       " Name: exterior_1st, dtype: int64,\n",
       " 'EXTERIOR_2ND',\n",
       " VinylSd    721\n",
       " MetalSd    324\n",
       " HdBoard    275\n",
       " Wd Sdng    262\n",
       " Plywood    185\n",
       " CmentBd     89\n",
       " Wd Shng     63\n",
       " BrkFace     33\n",
       " Stucco      29\n",
       " AsbShng     28\n",
       " Brk Cmn     17\n",
       " ImStucc     11\n",
       " Stone        6\n",
       " AsphShn      3\n",
       " CBlock       2\n",
       " Name: exterior_2nd, dtype: int64,\n",
       " 'MAS_VNR_TYPE',\n",
       " None       1217\n",
       " BrkFace     630\n",
       " Stone       166\n",
       " BrkCmn       13\n",
       " Name: mas_vnr_type, dtype: int64,\n",
       " 'MAS_VNR_AREA',\n",
       " 0.0       1215\n",
       " 120.0       11\n",
       " 176.0       10\n",
       " 200.0       10\n",
       " 180.0        9\n",
       "           ... \n",
       " 361.0        1\n",
       " 121.0        1\n",
       " 156.0        1\n",
       " 66.0         1\n",
       " 1031.0       1\n",
       " Name: mas_vnr_area, Length: 371, dtype: int64,\n",
       " 'EXTER_QUAL',\n",
       " 3    1247\n",
       " 4     696\n",
       " 5      79\n",
       " 2      26\n",
       " Name: exter_qual, dtype: int64,\n",
       " 'EXTER_COND',\n",
       " 3    1775\n",
       " 4     215\n",
       " 2      49\n",
       " 5       7\n",
       " 1       2\n",
       " Name: exter_cond, dtype: int64,\n",
       " 'FOUNDATION',\n",
       " PConc     923\n",
       " CBlock    863\n",
       " BrkTil    221\n",
       " Slab       34\n",
       " Stone       5\n",
       " Wood        2\n",
       " Name: foundation, dtype: int64,\n",
       " 'BSMT_QUAL',\n",
       " 4.0    887\n",
       " 5.0    863\n",
       " 6.0    182\n",
       " 3.0     60\n",
       " 2.0      1\n",
       " Name: bsmt_qual, dtype: int64,\n",
       " 'BSMT_COND',\n",
       " 4.0    1831\n",
       " 5.0      89\n",
       " 3.0      65\n",
       " 2.0       5\n",
       " 6.0       3\n",
       " Name: bsmt_cond, dtype: int64,\n",
       " 'BSMT_EXPOSURE',\n",
       " 2.0    1338\n",
       " 4.0     288\n",
       " 5.0     201\n",
       " 3.0     163\n",
       " Name: bsmt_exposure, dtype: int64,\n",
       " 'BSMTFIN_TYPE_1',\n",
       " 2.0    705\n",
       " 8.0    612\n",
       " 6.0    293\n",
       " 4.0    200\n",
       " 3.0    183\n",
       " Name: bsmtfin_type_1, dtype: int64,\n",
       " 'BSMTFIN_TYPE_2',\n",
       " 2.0    1806\n",
       " 3.0      80\n",
       " 4.0      48\n",
       " 6.0      35\n",
       " 8.0      23\n",
       " Name: bsmtfin_type_2, dtype: int64,\n",
       " 'HEATING',\n",
       " GasA    2015\n",
       " GasW      20\n",
       " Wall       6\n",
       " Grav       5\n",
       " OthW       2\n",
       " Name: heating, dtype: int64,\n",
       " 'HEATING_QC',\n",
       " 5    1062\n",
       " 3     597\n",
       " 4     319\n",
       " 2      67\n",
       " 1       3\n",
       " Name: heating_qc, dtype: int64,\n",
       " 'CENTRAL_AIR',\n",
       " Y    1907\n",
       " N     141\n",
       " Name: central_air, dtype: int64,\n",
       " 'ELECTRICAL',\n",
       " 5    1865\n",
       " 4     140\n",
       " 3      35\n",
       " 2       7\n",
       " 1       1\n",
       " Name: electrical, dtype: int64,\n",
       " 'BEDROOM_ABVGR',\n",
       " 3    1107\n",
       " 2     543\n",
       " 4     264\n",
       " 1      75\n",
       " 5      41\n",
       " 6      12\n",
       " 0       5\n",
       " 8       1\n",
       " Name: bedroom_abvgr, dtype: int64,\n",
       " 'KITCHEN_ABVGR',\n",
       " 1    1957\n",
       " 2      88\n",
       " 0       2\n",
       " 3       1\n",
       " Name: kitchen_abvgr, dtype: int64,\n",
       " 'KITCHEN_QUAL',\n",
       " 3    1047\n",
       " 4     805\n",
       " 5     149\n",
       " 2      47\n",
       " Name: kitchen_qual, dtype: int64,\n",
       " 'FUNCTIONAL',\n",
       " 10    1912\n",
       " 7       42\n",
       " 6       42\n",
       " 5       29\n",
       " 4       12\n",
       " 3        7\n",
       " 2        2\n",
       " 1        2\n",
       " Name: functional, dtype: int64,\n",
       " 'FIREPLACES',\n",
       " 0    1000\n",
       " 1     897\n",
       " 2     145\n",
       " 3       5\n",
       " 4       1\n",
       " Name: fireplaces, dtype: int64,\n",
       " 'FIREPLACE_QU',\n",
       " 5.0    520\n",
       " 4.0    407\n",
       " 3.0     59\n",
       " 6.0     31\n",
       " 2.0     31\n",
       " Name: fireplace_qu, dtype: int64,\n",
       " 'GARAGE_TYPE',\n",
       " Attchd     1210\n",
       " Detchd      536\n",
       " BuiltIn     132\n",
       " Basment      27\n",
       " 2Types       19\n",
       " CarPort      11\n",
       " Name: garage_type, dtype: int64,\n",
       " 'GARAGE_YR_BLT',\n",
       " 2005.0    105\n",
       " 2007.0     85\n",
       " 2006.0     80\n",
       " 2004.0     72\n",
       " 2003.0     66\n",
       "          ... \n",
       " 1918.0      1\n",
       " 1919.0      1\n",
       " 1895.0      1\n",
       " 1896.0      1\n",
       " 1933.0      1\n",
       " Name: garage_yr_blt, Length: 99, dtype: int64,\n",
       " 'GARAGE_FINISH',\n",
       " 2.0    849\n",
       " 3.0    578\n",
       " 5.0    507\n",
       " Name: garage_finish, dtype: int64,\n",
       " 'GARAGE_CARS',\n",
       " 2.0    1134\n",
       " 1.0     524\n",
       " 3.0     262\n",
       " 0.0     113\n",
       " 4.0      13\n",
       " 5.0       1\n",
       " Name: garage_cars, dtype: int64,\n",
       " 'GARAGE_AREA',\n",
       " 0.0      113\n",
       " 440.0     70\n",
       " 576.0     69\n",
       " 484.0     52\n",
       " 528.0     46\n",
       "         ... \n",
       " 356.0      1\n",
       " 162.0      1\n",
       " 412.0      1\n",
       " 324.0      1\n",
       " 475.0      1\n",
       " Name: garage_area, Length: 512, dtype: int64,\n",
       " 'GARAGE_QUAL',\n",
       " 3.0    1829\n",
       " 2.0      82\n",
       " 4.0      18\n",
       " 5.0       3\n",
       " 1.0       2\n",
       " Name: garage_qual, dtype: int64,\n",
       " 'GARAGE_COND',\n",
       " 3.0    1865\n",
       " 2.0      47\n",
       " 4.0      12\n",
       " 1.0       8\n",
       " 5.0       2\n",
       " Name: garage_cond, dtype: int64,\n",
       " 'PAVED_DRIVE',\n",
       " 5    1858\n",
       " 1     151\n",
       " 2      39\n",
       " Name: paved_drive, dtype: int64,\n",
       " 'WOOD_DECK_SF',\n",
       " 0       1075\n",
       " 100       53\n",
       " 144       46\n",
       " 192       43\n",
       " 120       40\n",
       "         ... \n",
       " 197        1\n",
       " 386        1\n",
       " 195        1\n",
       " 390        1\n",
       " 1424       1\n",
       " Name: wood_deck_sf, Length: 321, dtype: int64,\n",
       " 'OPEN_PORCH_SF',\n",
       " 0      912\n",
       " 48      40\n",
       " 36      38\n",
       " 40      34\n",
       " 32      29\n",
       "       ... \n",
       " 205      1\n",
       " 213      1\n",
       " 214      1\n",
       " 215      1\n",
       " 125      1\n",
       " Name: open_porch_sf, Length: 221, dtype: int64,\n",
       " 'ENCLOSED_PORCH',\n",
       " 0      1722\n",
       " 112      13\n",
       " 96       10\n",
       " 40        6\n",
       " 192       6\n",
       "        ... \n",
       " 194       1\n",
       " 196       1\n",
       " 198       1\n",
       " 202       1\n",
       " 145       1\n",
       " Name: enclosed_porch, Length: 158, dtype: int64,\n",
       " '3SSN_PORCH',\n",
       " 0      2022\n",
       " 153       3\n",
       " 168       3\n",
       " 144       2\n",
       " 407       1\n",
       " 86        1\n",
       " 96        1\n",
       " 120       1\n",
       " 140       1\n",
       " 150       1\n",
       " 162       1\n",
       " 508       1\n",
       " 180       1\n",
       " 182       1\n",
       " 216       1\n",
       " 224       1\n",
       " 245       1\n",
       " 255       1\n",
       " 290       1\n",
       " 304       1\n",
       " 323       1\n",
       " 176       1\n",
       " Name: 3ssn_porch, dtype: int64,\n",
       " 'SCREEN_PORCH',\n",
       " 0      1867\n",
       " 144       9\n",
       " 168       8\n",
       " 192       7\n",
       " 180       7\n",
       "        ... \n",
       " 271       1\n",
       " 154       1\n",
       " 276       1\n",
       " 152       1\n",
       " 490       1\n",
       " Name: screen_porch, Length: 100, dtype: int64,\n",
       " 'POOL_AREA',\n",
       " 0      2040\n",
       " 800       1\n",
       " 738       1\n",
       " 648       1\n",
       " 576       1\n",
       " 561       1\n",
       " 519       1\n",
       " 368       1\n",
       " 228       1\n",
       " Name: pool_area, dtype: int64,\n",
       " 'POOL_QC',\n",
       " 4.0    3\n",
       " 3.0    2\n",
       " 2.0    2\n",
       " 5.0    1\n",
       " Name: pool_qc, dtype: int64,\n",
       " 'FENCE',\n",
       " 4.0    227\n",
       " 6.0     83\n",
       " 3.0     80\n",
       " 2.0     10\n",
       " Name: fence, dtype: int64,\n",
       " 'MISC_FEATURE',\n",
       " Shed    56\n",
       " Gar2     4\n",
       " Othr     3\n",
       " TenC     1\n",
       " Name: misc_feature, dtype: int64,\n",
       " 'MO_SOLD',\n",
       " 6     352\n",
       " 7     303\n",
       " 5     256\n",
       " 4     208\n",
       " 3     168\n",
       " 8     167\n",
       " 10    122\n",
       " 9     109\n",
       " 2     104\n",
       " 11    103\n",
       " 12     78\n",
       " 1      78\n",
       " Name: mo_sold, dtype: int64,\n",
       " 'YR_SOLD',\n",
       " 2007    496\n",
       " 2009    446\n",
       " 2006    438\n",
       " 2008    434\n",
       " 2010    234\n",
       " Name: yr_sold, dtype: int64,\n",
       " 'SALE_TYPE',\n",
       " WD       1780\n",
       " New       158\n",
       " COD        63\n",
       " ConLD      17\n",
       " CWD        10\n",
       " ConLI       7\n",
       " ConLw       5\n",
       " Con         4\n",
       " Oth         4\n",
       " Name: sale_type, dtype: int64,\n",
       " 'SALEPRICE',\n",
       " 130000    25\n",
       " 140000    22\n",
       " 145000    20\n",
       " 135000    19\n",
       " 128000    16\n",
       "           ..\n",
       " 180400     1\n",
       " 500000     1\n",
       " 466500     1\n",
       " 146300     1\n",
       " 34900      1\n",
       " Name: saleprice, Length: 826, dtype: int64,\n",
       " 'TTL_SF',\n",
       " 1728.0    24\n",
       " 2184.0    13\n",
       " 2080.0    12\n",
       " 1980.0    10\n",
       " 1632.0    10\n",
       "           ..\n",
       " 1810.0     1\n",
       " 2804.0     1\n",
       " 1648.0     1\n",
       " 3504.0     1\n",
       " 3993.0     1\n",
       " Name: ttl_sf, Length: 1189, dtype: int64,\n",
       " 'TTL_BATH',\n",
       " 2.0    636\n",
       " 2.5    391\n",
       " 1.0    314\n",
       " 3.0    278\n",
       " 3.5    199\n",
       " 1.5    193\n",
       " 4.0     20\n",
       " 4.5     10\n",
       " 7.0      2\n",
       " 6.0      2\n",
       " 5.0      1\n",
       " Name: ttl_bath, dtype: int64]"
      ]
     },
     "execution_count": 684,
     "metadata": {},
     "output_type": "execute_result"
    }
   ],
   "source": [
    "#making sure all ordinal values have changed\n",
    "mass_value(ames)"
   ]
  },
  {
   "cell_type": "code",
   "execution_count": 685,
   "metadata": {},
   "outputs": [
    {
     "data": {
      "text/plain": [
       "['ID',\n",
       " 2721    1\n",
       " 519     1\n",
       " 2589    1\n",
       " 540     1\n",
       " 2587    1\n",
       "        ..\n",
       " 1189    1\n",
       " 1188    1\n",
       " 1174    1\n",
       " 1171    1\n",
       " 2       1\n",
       " Name: id, Length: 878, dtype: int64,\n",
       " 'PID',\n",
       " 532353020    1\n",
       " 905401020    1\n",
       " 906382040    1\n",
       " 902202070    1\n",
       " 923251160    1\n",
       "             ..\n",
       " 528240150    1\n",
       " 907270050    1\n",
       " 535451010    1\n",
       " 527451520    1\n",
       " 914475010    1\n",
       " Name: pid, Length: 878, dtype: int64,\n",
       " 'MS_SUBCLASS',\n",
       " 20     309\n",
       " 60     180\n",
       " 50      89\n",
       " 120     60\n",
       " 160     41\n",
       " 70      38\n",
       " 30      38\n",
       " 90      34\n",
       " 80      32\n",
       " 85      20\n",
       " 190     15\n",
       " 75       7\n",
       " 45       7\n",
       " 180      6\n",
       " 40       2\n",
       " Name: ms_subclass, dtype: int64,\n",
       " 'MS_ZONING',\n",
       " RL         674\n",
       " RM         146\n",
       " FV          38\n",
       " RH          13\n",
       " C (all)      6\n",
       " I (all)      1\n",
       " Name: ms_zoning, dtype: int64,\n",
       " 'LOT_FRONTAGE',\n",
       " 60.0     97\n",
       " 80.0     43\n",
       " 70.0     37\n",
       " 75.0     37\n",
       " 50.0     27\n",
       "          ..\n",
       " 150.0     1\n",
       " 37.0      1\n",
       " 106.0     1\n",
       " 31.0      1\n",
       " 133.0     1\n",
       " Name: lot_frontage, Length: 104, dtype: int64,\n",
       " 'LOT_AREA',\n",
       " 7200     16\n",
       " 9000     11\n",
       " 8400     10\n",
       " 9600     10\n",
       " 6120      9\n",
       "          ..\n",
       " 10890     1\n",
       " 8235      1\n",
       " 9863      1\n",
       " 8838      1\n",
       " 3072      1\n",
       " Name: lot_area, Length: 689, dtype: int64,\n",
       " 'STREET',\n",
       " Pave    873\n",
       " Grvl      5\n",
       " Name: street, dtype: int64,\n",
       " 'ALLEY',\n",
       " Grvl    35\n",
       " Pave    23\n",
       " Name: alley, dtype: int64,\n",
       " 'LOT_SHAPE',\n",
       " 1    564\n",
       " 2    286\n",
       " 3     21\n",
       " 4      7\n",
       " Name: lot_shape, dtype: int64,\n",
       " 'LAND_CONTOUR',\n",
       " Lvl    790\n",
       " Bnk     36\n",
       " HLS     35\n",
       " Low     17\n",
       " Name: land_contour, dtype: int64,\n",
       " 'UTILITIES',\n",
       " 10    877\n",
       " 5       1\n",
       " Name: utilities, dtype: int64,\n",
       " 'LOT_CONFIG',\n",
       " Inside     636\n",
       " Corner     163\n",
       " CulDSac     49\n",
       " FR2         25\n",
       " FR3          5\n",
       " Name: lot_config, dtype: int64,\n",
       " 'LAND_SLOPE',\n",
       " 3    835\n",
       " 2     37\n",
       " 1      6\n",
       " Name: land_slope, dtype: int64,\n",
       " 'NEIGHBORHOOD',\n",
       " NAmes      133\n",
       " CollgCr     87\n",
       " OldTown     76\n",
       " Somerst     52\n",
       " Edwards     50\n",
       " Gilbert     49\n",
       " NridgHt     44\n",
       " NWAmes      44\n",
       " Sawyer      40\n",
       " SawyerW     38\n",
       " Crawfor     32\n",
       " Mitchel     32\n",
       " BrkSide     32\n",
       " IDOTRR      24\n",
       " Timber      24\n",
       " NoRidge     23\n",
       " ClearCr     17\n",
       " SWISU       16\n",
       " MeadowV     13\n",
       " StoneBr     13\n",
       " BrDale      11\n",
       " Veenker      7\n",
       " NPkVill      6\n",
       " Blmngtn      6\n",
       " Greens       5\n",
       " Blueste      4\n",
       " Name: neighborhood, dtype: int64,\n",
       " 'CONDITION_1',\n",
       " Norm      755\n",
       " Feedr      55\n",
       " Artery     22\n",
       " RRAn       14\n",
       " PosN       11\n",
       " PosA        8\n",
       " RRAe        7\n",
       " RRNn        3\n",
       " RRNe        3\n",
       " Name: condition_1, dtype: int64,\n",
       " 'CONDITION_2',\n",
       " Norm     875\n",
       " Feedr      2\n",
       " PosA       1\n",
       " Name: condition_2, dtype: int64,\n",
       " 'BLDG_TYPE',\n",
       " 1Fam      724\n",
       " TwnhsE     72\n",
       " Duplex     34\n",
       " Twnhs      32\n",
       " 2fmCon     16\n",
       " Name: bldg_type, dtype: int64,\n",
       " 'HOUSE_STYLE',\n",
       " 1Story    422\n",
       " 2Story    274\n",
       " 1.5Fin     96\n",
       " SLvl       34\n",
       " SFoyer     33\n",
       " 2.5Unf     10\n",
       " 1.5Unf      7\n",
       " 2.5Fin      2\n",
       " Name: house_style, dtype: int64,\n",
       " 'OVERALL_QUAL',\n",
       " 5     262\n",
       " 6     226\n",
       " 7     171\n",
       " 8     100\n",
       " 4      67\n",
       " 9      30\n",
       " 3      11\n",
       " 10      7\n",
       " 2       4\n",
       " Name: overall_qual, dtype: int64,\n",
       " 'OVERALL_COND',\n",
       " 5    485\n",
       " 6    165\n",
       " 7    120\n",
       " 8     43\n",
       " 4     31\n",
       " 3     15\n",
       " 9     12\n",
       " 2      4\n",
       " 1      3\n",
       " Name: overall_cond, dtype: int64,\n",
       " 'YEAR_BUILT',\n",
       " 2005    40\n",
       " 2006    39\n",
       " 2007    30\n",
       " 2004    27\n",
       " 2003    24\n",
       "         ..\n",
       " 1908     1\n",
       " 1914     1\n",
       " 1917     1\n",
       " 1934     1\n",
       " 1907     1\n",
       " Name: year_built, Length: 106, dtype: int64,\n",
       " 'YEAR_REMOD/ADD',\n",
       " 1950    99\n",
       " 2006    63\n",
       " 2007    41\n",
       " 2005    41\n",
       " 2000    35\n",
       "         ..\n",
       " 1975     4\n",
       " 1983     4\n",
       " 1951     4\n",
       " 1988     3\n",
       " 1953     2\n",
       " Name: year_remod/add, Length: 61, dtype: int64,\n",
       " 'ROOF_STYLE',\n",
       " Gable      702\n",
       " Hip        153\n",
       " Gambrel     10\n",
       " Flat         7\n",
       " Mansard      4\n",
       " Shed         2\n",
       " Name: roof_style, dtype: int64,\n",
       " 'ROOF_MATL',\n",
       " CompShg    861\n",
       " Tar&Grv      8\n",
       " WdShake      5\n",
       " WdShngl      2\n",
       " Metal        1\n",
       " Roll         1\n",
       " Name: roof_matl, dtype: int64,\n",
       " 'EXTERIOR_1ST',\n",
       " VinylSd    302\n",
       " Wd Sdng    144\n",
       " HdBoard    142\n",
       " MetalSd    119\n",
       " Plywood     69\n",
       " CemntBd     35\n",
       " BrkFace     24\n",
       " Stucco      16\n",
       " WdShing     11\n",
       " AsbShng     11\n",
       " BrkComm      3\n",
       " PreCast      1\n",
       " AsphShn      1\n",
       " Name: exterior_1st, dtype: int64,\n",
       " 'EXTERIOR_2ND',\n",
       " VinylSd    294\n",
       " Wd Sdng    135\n",
       " HdBoard    131\n",
       " MetalSd    123\n",
       " Plywood     89\n",
       " CmentBd     35\n",
       " Wd Shng     18\n",
       " Stucco      17\n",
       " BrkFace     13\n",
       " AsbShng     10\n",
       " Brk Cmn      5\n",
       " ImStucc      4\n",
       " Other        1\n",
       " AsphShn      1\n",
       " PreCast      1\n",
       " CBlock       1\n",
       " Name: exterior_2nd, dtype: int64,\n",
       " 'MAS_VNR_TYPE',\n",
       " None       534\n",
       " BrkFace    250\n",
       " Stone       80\n",
       " BrkCmn      12\n",
       " CBlock       1\n",
       " Name: mas_vnr_type, dtype: int64,\n",
       " 'MAS_VNR_AREA',\n",
       " 0.0      532\n",
       " 216.0      7\n",
       " 80.0       5\n",
       " 420.0      5\n",
       " 196.0      5\n",
       "         ... \n",
       " 464.0      1\n",
       " 312.0      1\n",
       " 101.0      1\n",
       " 238.0      1\n",
       " 208.0      1\n",
       " Name: mas_vnr_area, Length: 232, dtype: int64,\n",
       " 'EXTER_QUAL',\n",
       " 3    552\n",
       " 4    292\n",
       " 5     25\n",
       " 2      9\n",
       " Name: exter_qual, dtype: int64,\n",
       " 'EXTER_COND',\n",
       " 3    770\n",
       " 4     84\n",
       " 2     18\n",
       " 5      5\n",
       " 1      1\n",
       " Name: exter_cond, dtype: int64,\n",
       " 'FOUNDATION',\n",
       " PConc     383\n",
       " CBlock    381\n",
       " BrkTil     90\n",
       " Slab       15\n",
       " Stone       6\n",
       " Wood        3\n",
       " Name: foundation, dtype: int64,\n",
       " 'BSMT_QUAL',\n",
       " 4.0    396\n",
       " 5.0    355\n",
       " 6.0     73\n",
       " 3.0     28\n",
       " 2.0      1\n",
       " Name: bsmt_qual, dtype: int64,\n",
       " 'BSMT_COND',\n",
       " 4.0    781\n",
       " 3.0     39\n",
       " 5.0     33\n",
       " Name: bsmt_cond, dtype: int64,\n",
       " 'BSMT_EXPOSURE',\n",
       " 2.0    567\n",
       " 4.0    130\n",
       " 5.0     80\n",
       " 3.0     76\n",
       " Name: bsmt_exposure, dtype: int64,\n",
       " 'BSMTFIN_TYPE_1',\n",
       " 2.0    300\n",
       " 8.0    243\n",
       " 6.0    136\n",
       " 3.0    105\n",
       " 4.0     69\n",
       " Name: bsmtfin_type_1, dtype: int64,\n",
       " 'BSMTFIN_TYPE_2',\n",
       " 2.0    778\n",
       " 3.0     26\n",
       " 4.0     20\n",
       " 6.0     18\n",
       " 8.0     11\n",
       " Name: bsmtfin_type_2, dtype: int64,\n",
       " 'HEATING',\n",
       " GasA     866\n",
       " GasW       7\n",
       " Grav       4\n",
       " Floor      1\n",
       " Name: heating, dtype: int64,\n",
       " 'HEATING_QC',\n",
       " 5    429\n",
       " 3    267\n",
       " 4    157\n",
       " 2     25\n",
       " Name: heating_qc, dtype: int64,\n",
       " 'CENTRAL_AIR',\n",
       " Y    823\n",
       " N     55\n",
       " Name: central_air, dtype: int64,\n",
       " 'ELECTRICAL',\n",
       " 5.0    813\n",
       " 4.0     48\n",
       " 3.0     15\n",
       " 2.0      1\n",
       " Name: electrical, dtype: int64,\n",
       " 'BEDROOM_ABVGR',\n",
       " 3    488\n",
       " 2    199\n",
       " 4    135\n",
       " 1     37\n",
       " 6      9\n",
       " 5      7\n",
       " 0      3\n",
       " Name: bedroom_abvgr, dtype: int64,\n",
       " 'KITCHEN_ABVGR',\n",
       " 1    835\n",
       " 2     41\n",
       " 3      1\n",
       " 0      1\n",
       " Name: kitchen_abvgr, dtype: int64,\n",
       " 'KITCHEN_QUAL',\n",
       " 3    447\n",
       " 4    354\n",
       " 5     53\n",
       " 2     23\n",
       " 1      1\n",
       " Name: kitchen_qual, dtype: int64,\n",
       " 'FUNCTIONAL',\n",
       " 10    812\n",
       " 6      28\n",
       " 7      23\n",
       " 4       7\n",
       " 5       6\n",
       " 3       2\n",
       " Name: functional, dtype: int64,\n",
       " 'FIREPLACES',\n",
       " 0    422\n",
       " 1    375\n",
       " 2     75\n",
       " 3      6\n",
       " Name: fireplaces, dtype: int64,\n",
       " 'FIREPLACE_QU',\n",
       " 5.0    220\n",
       " 4.0    193\n",
       " 3.0     16\n",
       " 2.0     15\n",
       " 6.0     12\n",
       " Name: fireplace_qu, dtype: int64,\n",
       " 'GARAGE_TYPE',\n",
       " Attchd     518\n",
       " Detchd     246\n",
       " BuiltIn     53\n",
       " Basment      9\n",
       " CarPort      4\n",
       " 2Types       4\n",
       " Name: garage_type, dtype: int64,\n",
       " 'GARAGE_YR_BLT',\n",
       " 2005.0    37\n",
       " 2006.0    35\n",
       " 2007.0    30\n",
       " 2004.0    27\n",
       " 2003.0    26\n",
       "           ..\n",
       " 1916.0     1\n",
       " 1927.0     1\n",
       " 1931.0     1\n",
       " 1928.0     1\n",
       " 1921.0     1\n",
       " Name: garage_yr_blt, Length: 93, dtype: int64,\n",
       " 'GARAGE_FINISH',\n",
       " 2.0    382\n",
       " 3.0    233\n",
       " 5.0    218\n",
       " Name: garage_finish, dtype: int64,\n",
       " 'GARAGE_CARS',\n",
       " 2    467\n",
       " 1    254\n",
       " 3    110\n",
       " 0     44\n",
       " 4      3\n",
       " Name: garage_cars, dtype: int64,\n",
       " 'GARAGE_AREA',\n",
       " 0       44\n",
       " 576     28\n",
       " 440     26\n",
       " 484     24\n",
       " 240     24\n",
       "         ..\n",
       " 456      1\n",
       " 455      1\n",
       " 454      1\n",
       " 453      1\n",
       " 1014     1\n",
       " Name: garage_area, Length: 357, dtype: int64,\n",
       " 'GARAGE_QUAL',\n",
       " 3.0    782\n",
       " 2.0     42\n",
       " 4.0      6\n",
       " 1.0      3\n",
       " Name: garage_qual, dtype: int64,\n",
       " 'GARAGE_COND',\n",
       " 3.0    796\n",
       " 2.0     27\n",
       " 1.0      6\n",
       " 4.0      3\n",
       " 5.0      1\n",
       " Name: garage_cond, dtype: int64,\n",
       " 'PAVED_DRIVE',\n",
       " 5    790\n",
       " 1     65\n",
       " 2     23\n",
       " Name: paved_drive, dtype: int64,\n",
       " 'WOOD_DECK_SF',\n",
       " 0      451\n",
       " 192     27\n",
       " 100     21\n",
       " 168     20\n",
       " 144     15\n",
       "       ... \n",
       " 306      1\n",
       " 188      1\n",
       " 190      1\n",
       " 305      1\n",
       " 690      1\n",
       " Name: wood_deck_sf, Length: 210, dtype: int64,\n",
       " 'OPEN_PORCH_SF',\n",
       " 0      388\n",
       " 28      17\n",
       " 36      14\n",
       " 24      13\n",
       " 48      12\n",
       "       ... \n",
       " 166      1\n",
       " 165      1\n",
       " 162      1\n",
       " 160      1\n",
       " 742      1\n",
       " Name: open_porch_sf, Length: 162, dtype: int64,\n",
       " 'ENCLOSED_PORCH',\n",
       " 0       746\n",
       " 112       9\n",
       " 144       5\n",
       " 168       4\n",
       " 192       4\n",
       "        ... \n",
       " 386       1\n",
       " 137       1\n",
       " 132       1\n",
       " 128       1\n",
       " 1012      1\n",
       " Name: enclosed_porch, Length: 83, dtype: int64,\n",
       " '3SSN_PORCH',\n",
       " 0      867\n",
       " 360      1\n",
       " 320      1\n",
       " 238      1\n",
       " 225      1\n",
       " 219      1\n",
       " 216      1\n",
       " 196      1\n",
       " 180      1\n",
       " 174      1\n",
       " 130      1\n",
       " 23       1\n",
       " Name: 3ssn_porch, dtype: int64,\n",
       " 'SCREEN_PORCH',\n",
       " 0      803\n",
       " 200      4\n",
       " 144      4\n",
       " 192      4\n",
       " 160      4\n",
       " 256      3\n",
       " 216      3\n",
       " 120      3\n",
       " 115      2\n",
       " 153      2\n",
       " 156      2\n",
       " 168      2\n",
       " 263      1\n",
       " 126      1\n",
       " 123      1\n",
       " 121      1\n",
       " 119      1\n",
       " 117      1\n",
       " 116      1\n",
       " 110      1\n",
       " 112      1\n",
       " 138      1\n",
       " 108      1\n",
       " 100      1\n",
       " 99       1\n",
       " 92       1\n",
       " 90       1\n",
       " 80       1\n",
       " 63       1\n",
       " 60       1\n",
       " 40       1\n",
       " 128      1\n",
       " 155      1\n",
       " 287      1\n",
       " 196      1\n",
       " 228      1\n",
       " 227      1\n",
       " 225      1\n",
       " 221      1\n",
       " 204      1\n",
       " 266      1\n",
       " 198      1\n",
       " 197      1\n",
       " 195      1\n",
       " 259      1\n",
       " 273      1\n",
       " 189      1\n",
       " 185      1\n",
       " 184      1\n",
       " 178      1\n",
       " 175      1\n",
       " 166      1\n",
       " 288      1\n",
       " 576      1\n",
       " Name: screen_porch, dtype: int64,\n",
       " 'POOL_AREA',\n",
       " 0      874\n",
       " 555      1\n",
       " 512      1\n",
       " 444      1\n",
       " 144      1\n",
       " Name: pool_area, dtype: int64,\n",
       " 'POOL_QC',\n",
       " 5.0    3\n",
       " 3.0    1\n",
       " Name: pool_qc, dtype: int64,\n",
       " 'FENCE',\n",
       " 4.0    103\n",
       " 6.0     35\n",
       " 3.0     32\n",
       " 2.0      2\n",
       " Name: fence, dtype: int64,\n",
       " 'MISC_FEATURE',\n",
       " Shed    39\n",
       " Othr     1\n",
       " Gar2     1\n",
       " Name: misc_feature, dtype: int64,\n",
       " 'MISC_VAL',\n",
       " 0        840\n",
       " 400        6\n",
       " 500        5\n",
       " 450        4\n",
       " 700        3\n",
       " 650        2\n",
       " 600        2\n",
       " 2000       2\n",
       " 1500       2\n",
       " 420        1\n",
       " 15500      1\n",
       " 1200       1\n",
       " 350        1\n",
       " 1400       1\n",
       " 1000       1\n",
       " 480        1\n",
       " 490        1\n",
       " 560        1\n",
       " 620        1\n",
       " 750        1\n",
       " 1512       1\n",
       " Name: misc_val, dtype: int64,\n",
       " 'MO_SOLD',\n",
       " 6     153\n",
       " 7     146\n",
       " 5     138\n",
       " 4      71\n",
       " 8      66\n",
       " 3      64\n",
       " 9      52\n",
       " 10     49\n",
       " 1      44\n",
       " 11     40\n",
       " 2      29\n",
       " 12     26\n",
       " Name: mo_sold, dtype: int64,\n",
       " 'YR_SOLD',\n",
       " 2009    202\n",
       " 2007    195\n",
       " 2008    187\n",
       " 2006    187\n",
       " 2010    107\n",
       " Name: yr_sold, dtype: int64,\n",
       " 'SALE_TYPE',\n",
       " WD       755\n",
       " New       78\n",
       " COD       24\n",
       " ConLD      9\n",
       " ConLw      3\n",
       " Oth        3\n",
       " ConLI      2\n",
       " CWD        2\n",
       " Con        1\n",
       " VWD        1\n",
       " Name: sale_type, dtype: int64,\n",
       " 'TTL_SF',\n",
       " 1728    15\n",
       " 1890     7\n",
       " 2112     7\n",
       " 1638     7\n",
       " 1696     6\n",
       "         ..\n",
       " 2704     1\n",
       " 2697     1\n",
       " 1672     1\n",
       " 2694     1\n",
       " 2048     1\n",
       " Name: ttl_sf, Length: 665, dtype: int64,\n",
       " 'TTL_BATH',\n",
       " 2.0    275\n",
       " 2.5    169\n",
       " 1.0    128\n",
       " 3.0    100\n",
       " 1.5    100\n",
       " 3.5     89\n",
       " 4.0      9\n",
       " 4.5      5\n",
       " 5.0      2\n",
       " 7.0      1\n",
       " Name: ttl_bath, dtype: int64]"
      ]
     },
     "execution_count": 685,
     "metadata": {},
     "output_type": "execute_result"
    }
   ],
   "source": [
    "mass_value(test)"
   ]
  },
  {
   "cell_type": "markdown",
   "metadata": {},
   "source": [
    "# Create ordinals_df"
   ]
  },
  {
   "cell_type": "code",
   "execution_count": 686,
   "metadata": {},
   "outputs": [],
   "source": [
    "ordinals_list = ['lot_shape', 'utilities', 'land_slope', \n",
    "'exter_qual', 'exter_cond', 'bsmt_qual', \n",
    "'bsmt_cond', 'bsmt_exposure', 'bsmtfin_type_1',\n",
    "'bsmtfin_type_2', 'heating_qc', 'electrical', \n",
    "'kitchen_qual', 'functional', 'fireplace_qu',\n",
    "'garage_finish', 'garage_qual', 'garage_cond',\n",
    "'paved_drive', 'pool_qc', 'fence', 'overall_qual', 'overall_cond']"
   ]
  },
  {
   "cell_type": "code",
   "execution_count": 687,
   "metadata": {},
   "outputs": [],
   "source": [
    "ordinals_df = ames[ordinals_list]"
   ]
  },
  {
   "cell_type": "code",
   "execution_count": 688,
   "metadata": {},
   "outputs": [
    {
     "data": {
      "image/png": "[encoded data removed]",
      "text/plain": [
       "<Figure size 1728x720 with 3 Axes>"
      ]
     },
     "metadata": {
      "needs_background": "light"
     },
     "output_type": "display_data"
    }
   ],
   "source": [
    "msno.bar(ordinals_df);"
   ]
  },
  {
   "cell_type": "markdown",
   "metadata": {},
   "source": [
    "### Delete pool_qc, fence and fireplace_qu as they have greater than 50% nulls. "
   ]
  },
  {
   "cell_type": "code",
   "execution_count": 689,
   "metadata": {},
   "outputs": [
    {
     "name": "stderr",
     "output_type": "stream",
     "text": [
      "/Users/jamesopacich/opt/anaconda3/lib/python3.8/site-packages/pandas/core/frame.py:3990: SettingWithCopyWarning: \n",
      "A value is trying to be set on a copy of a slice from a DataFrame\n",
      "\n",
      "See the caveats in the documentation: https://pandas.pydata.org/pandas-docs/stable/user_guide/indexing.html#returning-a-view-versus-a-copy\n",
      "  return super().drop(\n"
     ]
    }
   ],
   "source": [
    "ordinals_df.drop(columns = ['pool_qc', 'fireplace_qu', 'fence'], inplace = True)"
   ]
  },
  {
   "cell_type": "markdown",
   "metadata": {},
   "source": [
    "## Fill Nulls in Ordinals with value of 1\n",
    "* I chose 1 because I didn't want a value of zero to ruin any calculations in complex modeling. "
   ]
  },
  {
   "cell_type": "code",
   "execution_count": 690,
   "metadata": {},
   "outputs": [],
   "source": [
    "def fill_na_string(df):\n",
    "    #Cleans string object NaNs by replacing with a string\n",
    "    for item in df.columns:\n",
    "        df[item].fillna('1', inplace = True)"
   ]
  },
  {
   "cell_type": "code",
   "execution_count": 691,
   "metadata": {
    "scrolled": true
   },
   "outputs": [
    {
     "name": "stderr",
     "output_type": "stream",
     "text": [
      "/Users/jamesopacich/opt/anaconda3/lib/python3.8/site-packages/pandas/core/generic.py:6245: SettingWithCopyWarning: \n",
      "A value is trying to be set on a copy of a slice from a DataFrame\n",
      "\n",
      "See the caveats in the documentation: https://pandas.pydata.org/pandas-docs/stable/user_guide/indexing.html#returning-a-view-versus-a-copy\n",
      "  self._update_inplace(new_data)\n"
     ]
    }
   ],
   "source": [
    "fill_na_string(ordinals_df)"
   ]
  },
  {
   "cell_type": "code",
   "execution_count": 692,
   "metadata": {
    "scrolled": true
   },
   "outputs": [
    {
     "data": {
      "image/png": "[encoded data removed]",
      "text/plain": [
       "<Figure size 1728x720 with 3 Axes>"
      ]
     },
     "metadata": {
      "needs_background": "light"
     },
     "output_type": "display_data"
    }
   ],
   "source": [
    "msno.bar(ordinals_df);"
   ]
  },
  {
   "cell_type": "markdown",
   "metadata": {},
   "source": [
    "## Add 'saleprice' column to ordinals_df\n",
    "* adding saleprice to ordinals because I am going to future analysis on just ordinals before dropping saleprice column and concatenating ordinals with other dfs to reform original dataframe"
   ]
  },
  {
   "cell_type": "code",
   "execution_count": 693,
   "metadata": {},
   "outputs": [
    {
     "name": "stderr",
     "output_type": "stream",
     "text": [
      "<ipython-input-693-3b40a82018cd>:1: SettingWithCopyWarning: \n",
      "A value is trying to be set on a copy of a slice from a DataFrame.\n",
      "Try using .loc[row_indexer,col_indexer] = value instead\n",
      "\n",
      "See the caveats in the documentation: https://pandas.pydata.org/pandas-docs/stable/user_guide/indexing.html#returning-a-view-versus-a-copy\n",
      "  ordinals_df['saleprice'] = ames['saleprice']\n"
     ]
    }
   ],
   "source": [
    "ordinals_df['saleprice'] = ames['saleprice']"
   ]
  },
  {
   "cell_type": "code",
   "execution_count": 694,
   "metadata": {},
   "outputs": [
    {
     "data": {
      "text/html": [
       "<div>\n",
       "<style scoped>\n",
       "    .dataframe tbody tr th:only-of-type {\n",
       "        vertical-align: middle;\n",
       "    }\n",
       "\n",
       "    .dataframe tbody tr th {\n",
       "        vertical-align: top;\n",
       "    }\n",
       "\n",
       "    .dataframe thead th {\n",
       "        text-align: right;\n",
       "    }\n",
       "</style>\n",
       "<table border=\"1\" class=\"dataframe\">\n",
       "  <thead>\n",
       "    <tr style=\"text-align: right;\">\n",
       "      <th></th>\n",
       "      <th>lot_shape</th>\n",
       "      <th>utilities</th>\n",
       "      <th>land_slope</th>\n",
       "      <th>exter_qual</th>\n",
       "      <th>exter_cond</th>\n",
       "      <th>bsmt_qual</th>\n",
       "      <th>bsmt_cond</th>\n",
       "      <th>bsmt_exposure</th>\n",
       "      <th>bsmtfin_type_1</th>\n",
       "      <th>bsmtfin_type_2</th>\n",
       "      <th>...</th>\n",
       "      <th>electrical</th>\n",
       "      <th>kitchen_qual</th>\n",
       "      <th>functional</th>\n",
       "      <th>garage_finish</th>\n",
       "      <th>garage_qual</th>\n",
       "      <th>garage_cond</th>\n",
       "      <th>paved_drive</th>\n",
       "      <th>overall_qual</th>\n",
       "      <th>overall_cond</th>\n",
       "      <th>saleprice</th>\n",
       "    </tr>\n",
       "  </thead>\n",
       "  <tbody>\n",
       "    <tr>\n",
       "      <th>0</th>\n",
       "      <td>2</td>\n",
       "      <td>10</td>\n",
       "      <td>3</td>\n",
       "      <td>4</td>\n",
       "      <td>3</td>\n",
       "      <td>4</td>\n",
       "      <td>4</td>\n",
       "      <td>2</td>\n",
       "      <td>8</td>\n",
       "      <td>2</td>\n",
       "      <td>...</td>\n",
       "      <td>5</td>\n",
       "      <td>4</td>\n",
       "      <td>10</td>\n",
       "      <td>3</td>\n",
       "      <td>3</td>\n",
       "      <td>3</td>\n",
       "      <td>5</td>\n",
       "      <td>6</td>\n",
       "      <td>8</td>\n",
       "      <td>130500</td>\n",
       "    </tr>\n",
       "    <tr>\n",
       "      <th>1</th>\n",
       "      <td>2</td>\n",
       "      <td>10</td>\n",
       "      <td>3</td>\n",
       "      <td>4</td>\n",
       "      <td>3</td>\n",
       "      <td>5</td>\n",
       "      <td>4</td>\n",
       "      <td>2</td>\n",
       "      <td>8</td>\n",
       "      <td>2</td>\n",
       "      <td>...</td>\n",
       "      <td>5</td>\n",
       "      <td>4</td>\n",
       "      <td>10</td>\n",
       "      <td>3</td>\n",
       "      <td>3</td>\n",
       "      <td>3</td>\n",
       "      <td>5</td>\n",
       "      <td>7</td>\n",
       "      <td>5</td>\n",
       "      <td>220000</td>\n",
       "    </tr>\n",
       "    <tr>\n",
       "      <th>2</th>\n",
       "      <td>1</td>\n",
       "      <td>10</td>\n",
       "      <td>3</td>\n",
       "      <td>3</td>\n",
       "      <td>4</td>\n",
       "      <td>4</td>\n",
       "      <td>4</td>\n",
       "      <td>2</td>\n",
       "      <td>8</td>\n",
       "      <td>2</td>\n",
       "      <td>...</td>\n",
       "      <td>5</td>\n",
       "      <td>4</td>\n",
       "      <td>10</td>\n",
       "      <td>2</td>\n",
       "      <td>3</td>\n",
       "      <td>3</td>\n",
       "      <td>5</td>\n",
       "      <td>5</td>\n",
       "      <td>7</td>\n",
       "      <td>109000</td>\n",
       "    </tr>\n",
       "    <tr>\n",
       "      <th>3</th>\n",
       "      <td>1</td>\n",
       "      <td>10</td>\n",
       "      <td>3</td>\n",
       "      <td>3</td>\n",
       "      <td>3</td>\n",
       "      <td>5</td>\n",
       "      <td>4</td>\n",
       "      <td>2</td>\n",
       "      <td>2</td>\n",
       "      <td>2</td>\n",
       "      <td>...</td>\n",
       "      <td>5</td>\n",
       "      <td>3</td>\n",
       "      <td>10</td>\n",
       "      <td>5</td>\n",
       "      <td>3</td>\n",
       "      <td>3</td>\n",
       "      <td>5</td>\n",
       "      <td>5</td>\n",
       "      <td>5</td>\n",
       "      <td>174000</td>\n",
       "    </tr>\n",
       "    <tr>\n",
       "      <th>4</th>\n",
       "      <td>2</td>\n",
       "      <td>10</td>\n",
       "      <td>3</td>\n",
       "      <td>3</td>\n",
       "      <td>3</td>\n",
       "      <td>3</td>\n",
       "      <td>5</td>\n",
       "      <td>2</td>\n",
       "      <td>2</td>\n",
       "      <td>2</td>\n",
       "      <td>...</td>\n",
       "      <td>5</td>\n",
       "      <td>3</td>\n",
       "      <td>10</td>\n",
       "      <td>2</td>\n",
       "      <td>3</td>\n",
       "      <td>3</td>\n",
       "      <td>1</td>\n",
       "      <td>6</td>\n",
       "      <td>8</td>\n",
       "      <td>138500</td>\n",
       "    </tr>\n",
       "  </tbody>\n",
       "</table>\n",
       "<p>5 rows × 21 columns</p>\n",
       "</div>"
      ],
      "text/plain": [
       "   lot_shape  utilities  land_slope  exter_qual  exter_cond bsmt_qual  \\\n",
       "0          2         10           3           4           3         4   \n",
       "1          2         10           3           4           3         5   \n",
       "2          1         10           3           3           4         4   \n",
       "3          1         10           3           3           3         5   \n",
       "4          2         10           3           3           3         3   \n",
       "\n",
       "  bsmt_cond bsmt_exposure bsmtfin_type_1 bsmtfin_type_2  ...  electrical  \\\n",
       "0         4             2              8              2  ...           5   \n",
       "1         4             2              8              2  ...           5   \n",
       "2         4             2              8              2  ...           5   \n",
       "3         4             2              2              2  ...           5   \n",
       "4         5             2              2              2  ...           5   \n",
       "\n",
       "   kitchen_qual  functional  garage_finish garage_qual garage_cond  \\\n",
       "0             4          10              3           3           3   \n",
       "1             4          10              3           3           3   \n",
       "2             4          10              2           3           3   \n",
       "3             3          10              5           3           3   \n",
       "4             3          10              2           3           3   \n",
       "\n",
       "  paved_drive  overall_qual  overall_cond  saleprice  \n",
       "0           5             6             8     130500  \n",
       "1           5             7             5     220000  \n",
       "2           5             5             7     109000  \n",
       "3           5             5             5     174000  \n",
       "4           1             6             8     138500  \n",
       "\n",
       "[5 rows x 21 columns]"
      ]
     },
     "execution_count": 694,
     "metadata": {},
     "output_type": "execute_result"
    }
   ],
   "source": [
    "ordinals_df.head()"
   ]
  },
  {
   "cell_type": "code",
   "execution_count": 695,
   "metadata": {},
   "outputs": [
    {
     "data": {
      "text/plain": [
       "21"
      ]
     },
     "execution_count": 695,
     "metadata": {},
     "output_type": "execute_result"
    }
   ],
   "source": [
    "len(ordinals_df.columns)"
   ]
  },
  {
   "cell_type": "markdown",
   "metadata": {},
   "source": [
    "## Change Datatypes for Ordinals"
   ]
  },
  {
   "cell_type": "code",
   "execution_count": null,
   "metadata": {},
   "outputs": [],
   "source": []
  },
  {
   "cell_type": "code",
   "execution_count": 696,
   "metadata": {
    "scrolled": true
   },
   "outputs": [
    {
     "data": {
      "text/plain": [
       "lot_shape          int64\n",
       "utilities          int64\n",
       "land_slope         int64\n",
       "exter_qual         int64\n",
       "exter_cond         int64\n",
       "bsmt_qual         object\n",
       "bsmt_cond         object\n",
       "bsmt_exposure     object\n",
       "bsmtfin_type_1    object\n",
       "bsmtfin_type_2    object\n",
       "heating_qc         int64\n",
       "electrical         int64\n",
       "kitchen_qual       int64\n",
       "functional         int64\n",
       "garage_finish     object\n",
       "garage_qual       object\n",
       "garage_cond       object\n",
       "paved_drive        int64\n",
       "overall_qual       int64\n",
       "overall_cond       int64\n",
       "saleprice          int64\n",
       "dtype: object"
      ]
     },
     "execution_count": 696,
     "metadata": {},
     "output_type": "execute_result"
    }
   ],
   "source": [
    "ordinals_df.dtypes"
   ]
  },
  {
   "cell_type": "code",
   "execution_count": 697,
   "metadata": {},
   "outputs": [],
   "source": [
    "def series_str_to_int(df):\n",
    "    for item in df.columns:\n",
    "        if df[item].dtypes == object or df[item].dtypes == str:\n",
    "            df[item] = df[item].astype(int)"
   ]
  },
  {
   "cell_type": "code",
   "execution_count": 698,
   "metadata": {},
   "outputs": [
    {
     "name": "stderr",
     "output_type": "stream",
     "text": [
      "<ipython-input-697-2d94cad61d3b>:4: SettingWithCopyWarning: \n",
      "A value is trying to be set on a copy of a slice from a DataFrame.\n",
      "Try using .loc[row_indexer,col_indexer] = value instead\n",
      "\n",
      "See the caveats in the documentation: https://pandas.pydata.org/pandas-docs/stable/user_guide/indexing.html#returning-a-view-versus-a-copy\n",
      "  df[item] = df[item].astype(int)\n"
     ]
    }
   ],
   "source": [
    "series_str_to_int(ordinals_df)"
   ]
  },
  {
   "cell_type": "code",
   "execution_count": 699,
   "metadata": {},
   "outputs": [
    {
     "data": {
      "text/plain": [
       "lot_shape         int64\n",
       "utilities         int64\n",
       "land_slope        int64\n",
       "exter_qual        int64\n",
       "exter_cond        int64\n",
       "bsmt_qual         int64\n",
       "bsmt_cond         int64\n",
       "bsmt_exposure     int64\n",
       "bsmtfin_type_1    int64\n",
       "bsmtfin_type_2    int64\n",
       "heating_qc        int64\n",
       "electrical        int64\n",
       "kitchen_qual      int64\n",
       "functional        int64\n",
       "garage_finish     int64\n",
       "garage_qual       int64\n",
       "garage_cond       int64\n",
       "paved_drive       int64\n",
       "overall_qual      int64\n",
       "overall_cond      int64\n",
       "saleprice         int64\n",
       "dtype: object"
      ]
     },
     "execution_count": 699,
     "metadata": {},
     "output_type": "execute_result"
    }
   ],
   "source": [
    "ordinals_df.dtypes"
   ]
  },
  {
   "cell_type": "markdown",
   "metadata": {},
   "source": [
    "# Save Ordinals to CSV"
   ]
  },
  {
   "cell_type": "code",
   "execution_count": 700,
   "metadata": {},
   "outputs": [],
   "source": [
    "ordinals_df.to_csv('../datasets/a5_ordinals.csv', index = False)"
   ]
  },
  {
   "cell_type": "markdown",
   "metadata": {},
   "source": [
    "# END INITIAL CLEANING AND EDA ON ORDINALS\n",
    "________"
   ]
  },
  {
   "cell_type": "markdown",
   "metadata": {},
   "source": [
    "# INITIAL CLEANING AND EDA ON NUMERICS"
   ]
  },
  {
   "cell_type": "markdown",
   "metadata": {},
   "source": [
    "# Create numerics Dataframe\n",
    "* [X] excluded pid from numerics dataframe so as to eliminate it from the data. "
   ]
  },
  {
   "cell_type": "code",
   "execution_count": 701,
   "metadata": {},
   "outputs": [],
   "source": [
    "numerics_list = ['id', 'lot_area', \n",
    "            'year_built', 'year_remod/add', \n",
    "            'bedroom_abvgr', 'kitchen_abvgr', 'fireplaces', \n",
    "            'wood_deck_sf', 'open_porch_sf', 'enclosed_porch', \n",
    "            '3ssn_porch', 'screen_porch', 'pool_area',\n",
    "            'mo_sold', 'yr_sold', 'saleprice', 'lot_frontage', \n",
    "            'mas_vnr_area', 'garage_yr_blt', 'garage_cars', 'garage_area', \n",
    "            'ttl_sf', 'ttl_bath']"
   ]
  },
  {
   "cell_type": "code",
   "execution_count": 702,
   "metadata": {},
   "outputs": [],
   "source": [
    "numerics = ames[numerics_list]"
   ]
  },
  {
   "cell_type": "code",
   "execution_count": 703,
   "metadata": {},
   "outputs": [
    {
     "data": {
      "text/html": [
       "<div>\n",
       "<style scoped>\n",
       "    .dataframe tbody tr th:only-of-type {\n",
       "        vertical-align: middle;\n",
       "    }\n",
       "\n",
       "    .dataframe tbody tr th {\n",
       "        vertical-align: top;\n",
       "    }\n",
       "\n",
       "    .dataframe thead th {\n",
       "        text-align: right;\n",
       "    }\n",
       "</style>\n",
       "<table border=\"1\" class=\"dataframe\">\n",
       "  <thead>\n",
       "    <tr style=\"text-align: right;\">\n",
       "      <th></th>\n",
       "      <th>id</th>\n",
       "      <th>lot_area</th>\n",
       "      <th>year_built</th>\n",
       "      <th>year_remod/add</th>\n",
       "      <th>bedroom_abvgr</th>\n",
       "      <th>kitchen_abvgr</th>\n",
       "      <th>fireplaces</th>\n",
       "      <th>wood_deck_sf</th>\n",
       "      <th>open_porch_sf</th>\n",
       "      <th>enclosed_porch</th>\n",
       "      <th>...</th>\n",
       "      <th>mo_sold</th>\n",
       "      <th>yr_sold</th>\n",
       "      <th>saleprice</th>\n",
       "      <th>lot_frontage</th>\n",
       "      <th>mas_vnr_area</th>\n",
       "      <th>garage_yr_blt</th>\n",
       "      <th>garage_cars</th>\n",
       "      <th>garage_area</th>\n",
       "      <th>ttl_sf</th>\n",
       "      <th>ttl_bath</th>\n",
       "    </tr>\n",
       "  </thead>\n",
       "  <tbody>\n",
       "    <tr>\n",
       "      <th>0</th>\n",
       "      <td>109</td>\n",
       "      <td>13517</td>\n",
       "      <td>1976</td>\n",
       "      <td>2005</td>\n",
       "      <td>3</td>\n",
       "      <td>1</td>\n",
       "      <td>0</td>\n",
       "      <td>0</td>\n",
       "      <td>44</td>\n",
       "      <td>0</td>\n",
       "      <td>...</td>\n",
       "      <td>3</td>\n",
       "      <td>2010</td>\n",
       "      <td>130500</td>\n",
       "      <td>NaN</td>\n",
       "      <td>289.0</td>\n",
       "      <td>1976.0</td>\n",
       "      <td>2.0</td>\n",
       "      <td>475.0</td>\n",
       "      <td>2204.0</td>\n",
       "      <td>2.5</td>\n",
       "    </tr>\n",
       "    <tr>\n",
       "      <th>1</th>\n",
       "      <td>544</td>\n",
       "      <td>11492</td>\n",
       "      <td>1996</td>\n",
       "      <td>1997</td>\n",
       "      <td>4</td>\n",
       "      <td>1</td>\n",
       "      <td>1</td>\n",
       "      <td>0</td>\n",
       "      <td>74</td>\n",
       "      <td>0</td>\n",
       "      <td>...</td>\n",
       "      <td>4</td>\n",
       "      <td>2009</td>\n",
       "      <td>220000</td>\n",
       "      <td>43.0</td>\n",
       "      <td>132.0</td>\n",
       "      <td>1997.0</td>\n",
       "      <td>2.0</td>\n",
       "      <td>559.0</td>\n",
       "      <td>3035.0</td>\n",
       "      <td>3.5</td>\n",
       "    </tr>\n",
       "    <tr>\n",
       "      <th>2</th>\n",
       "      <td>153</td>\n",
       "      <td>7922</td>\n",
       "      <td>1953</td>\n",
       "      <td>2007</td>\n",
       "      <td>3</td>\n",
       "      <td>1</td>\n",
       "      <td>0</td>\n",
       "      <td>0</td>\n",
       "      <td>52</td>\n",
       "      <td>0</td>\n",
       "      <td>...</td>\n",
       "      <td>1</td>\n",
       "      <td>2010</td>\n",
       "      <td>109000</td>\n",
       "      <td>68.0</td>\n",
       "      <td>0.0</td>\n",
       "      <td>1953.0</td>\n",
       "      <td>1.0</td>\n",
       "      <td>246.0</td>\n",
       "      <td>2114.0</td>\n",
       "      <td>2.0</td>\n",
       "    </tr>\n",
       "    <tr>\n",
       "      <th>3</th>\n",
       "      <td>318</td>\n",
       "      <td>9802</td>\n",
       "      <td>2006</td>\n",
       "      <td>2007</td>\n",
       "      <td>3</td>\n",
       "      <td>1</td>\n",
       "      <td>0</td>\n",
       "      <td>100</td>\n",
       "      <td>0</td>\n",
       "      <td>0</td>\n",
       "      <td>...</td>\n",
       "      <td>4</td>\n",
       "      <td>2010</td>\n",
       "      <td>174000</td>\n",
       "      <td>73.0</td>\n",
       "      <td>0.0</td>\n",
       "      <td>2007.0</td>\n",
       "      <td>2.0</td>\n",
       "      <td>400.0</td>\n",
       "      <td>1828.0</td>\n",
       "      <td>2.5</td>\n",
       "    </tr>\n",
       "    <tr>\n",
       "      <th>4</th>\n",
       "      <td>255</td>\n",
       "      <td>14235</td>\n",
       "      <td>1900</td>\n",
       "      <td>1993</td>\n",
       "      <td>3</td>\n",
       "      <td>1</td>\n",
       "      <td>0</td>\n",
       "      <td>0</td>\n",
       "      <td>59</td>\n",
       "      <td>0</td>\n",
       "      <td>...</td>\n",
       "      <td>3</td>\n",
       "      <td>2010</td>\n",
       "      <td>138500</td>\n",
       "      <td>82.0</td>\n",
       "      <td>0.0</td>\n",
       "      <td>1957.0</td>\n",
       "      <td>2.0</td>\n",
       "      <td>484.0</td>\n",
       "      <td>2121.0</td>\n",
       "      <td>2.0</td>\n",
       "    </tr>\n",
       "  </tbody>\n",
       "</table>\n",
       "<p>5 rows × 23 columns</p>\n",
       "</div>"
      ],
      "text/plain": [
       "    id  lot_area  year_built  year_remod/add  bedroom_abvgr  kitchen_abvgr  \\\n",
       "0  109     13517        1976            2005              3              1   \n",
       "1  544     11492        1996            1997              4              1   \n",
       "2  153      7922        1953            2007              3              1   \n",
       "3  318      9802        2006            2007              3              1   \n",
       "4  255     14235        1900            1993              3              1   \n",
       "\n",
       "   fireplaces  wood_deck_sf  open_porch_sf  enclosed_porch  ...  mo_sold  \\\n",
       "0           0             0             44               0  ...        3   \n",
       "1           1             0             74               0  ...        4   \n",
       "2           0             0             52               0  ...        1   \n",
       "3           0           100              0               0  ...        4   \n",
       "4           0             0             59               0  ...        3   \n",
       "\n",
       "   yr_sold  saleprice  lot_frontage  mas_vnr_area  garage_yr_blt  garage_cars  \\\n",
       "0     2010     130500           NaN         289.0         1976.0          2.0   \n",
       "1     2009     220000          43.0         132.0         1997.0          2.0   \n",
       "2     2010     109000          68.0           0.0         1953.0          1.0   \n",
       "3     2010     174000          73.0           0.0         2007.0          2.0   \n",
       "4     2010     138500          82.0           0.0         1957.0          2.0   \n",
       "\n",
       "   garage_area  ttl_sf  ttl_bath  \n",
       "0        475.0  2204.0       2.5  \n",
       "1        559.0  3035.0       3.5  \n",
       "2        246.0  2114.0       2.0  \n",
       "3        400.0  1828.0       2.5  \n",
       "4        484.0  2121.0       2.0  \n",
       "\n",
       "[5 rows x 23 columns]"
      ]
     },
     "execution_count": 703,
     "metadata": {},
     "output_type": "execute_result"
    }
   ],
   "source": [
    "numerics.head()"
   ]
  },
  {
   "cell_type": "markdown",
   "metadata": {},
   "source": [
    "### Fill Nulls on Numerics"
   ]
  },
  {
   "cell_type": "code",
   "execution_count": 704,
   "metadata": {},
   "outputs": [
    {
     "data": {
      "image/png": "[encoded data removed]",
      "text/plain": [
       "<Figure size 1728x720 with 3 Axes>"
      ]
     },
     "metadata": {
      "needs_background": "light"
     },
     "output_type": "display_data"
    }
   ],
   "source": [
    "msno.bar(numerics);"
   ]
  },
  {
   "cell_type": "code",
   "execution_count": 705,
   "metadata": {},
   "outputs": [],
   "source": [
    "def fill_na_mean(df):\n",
    "    #Cleans float and integer NaNs by replacing with mean for whole dataframe\n",
    "    for item in df.columns:\n",
    "        if df[item].dtypes == float or df[item].dtypes == int:\n",
    "            df[item].fillna(df[item].mean(), inplace = True)"
   ]
  },
  {
   "cell_type": "code",
   "execution_count": 706,
   "metadata": {},
   "outputs": [
    {
     "name": "stderr",
     "output_type": "stream",
     "text": [
      "/Users/jamesopacich/opt/anaconda3/lib/python3.8/site-packages/pandas/core/generic.py:6245: SettingWithCopyWarning: \n",
      "A value is trying to be set on a copy of a slice from a DataFrame\n",
      "\n",
      "See the caveats in the documentation: https://pandas.pydata.org/pandas-docs/stable/user_guide/indexing.html#returning-a-view-versus-a-copy\n",
      "  self._update_inplace(new_data)\n"
     ]
    }
   ],
   "source": [
    "fill_na_mean(numerics)"
   ]
  },
  {
   "cell_type": "code",
   "execution_count": 707,
   "metadata": {},
   "outputs": [
    {
     "data": {
      "image/png": "[encoded data removed]",
      "text/plain": [
       "<Figure size 1728x720 with 3 Axes>"
      ]
     },
     "metadata": {
      "needs_background": "light"
     },
     "output_type": "display_data"
    }
   ],
   "source": [
    "msno.bar(numerics);"
   ]
  },
  {
   "cell_type": "code",
   "execution_count": 708,
   "metadata": {},
   "outputs": [
    {
     "data": {
      "text/plain": [
       "2010.0"
      ]
     },
     "execution_count": 708,
     "metadata": {},
     "output_type": "execute_result"
    }
   ],
   "source": [
    "numerics['garage_yr_blt'].max()"
   ]
  },
  {
   "cell_type": "code",
   "execution_count": null,
   "metadata": {},
   "outputs": [],
   "source": []
  },
  {
   "cell_type": "markdown",
   "metadata": {},
   "source": [
    "# Save Numerics to CSV"
   ]
  },
  {
   "cell_type": "code",
   "execution_count": 709,
   "metadata": {},
   "outputs": [],
   "source": [
    "numerics.to_csv('../datasets/a5_numerics.csv', index = False)"
   ]
  },
  {
   "cell_type": "markdown",
   "metadata": {},
   "source": [
    "# END INITIAL CLEANING AND EDA ON NUMERICS\n",
    "_____"
   ]
  },
  {
   "cell_type": "markdown",
   "metadata": {},
   "source": [
    "# INITIAL CLEANING AND EDA ON NOMINAL VALUES"
   ]
  },
  {
   "cell_type": "markdown",
   "metadata": {},
   "source": [
    "# Create String Dataframe"
   ]
  },
  {
   "cell_type": "code",
   "execution_count": 710,
   "metadata": {},
   "outputs": [],
   "source": [
    "strings = ['ms_subclass','ms_zoning', 'street', 'alley',  \n",
    "           'land_contour',  'lot_config', \n",
    "           'neighborhood', 'condition_1', \n",
    "           'condition_2', 'bldg_type', 'house_style', \n",
    "           'roof_style', 'roof_matl', 'exterior_1st', \n",
    "           'exterior_2nd', 'mas_vnr_type', 'foundation', \n",
    "           'heating', 'central_air', 'garage_type', \n",
    "           'misc_feature', 'sale_type']"
   ]
  },
  {
   "cell_type": "code",
   "execution_count": 711,
   "metadata": {},
   "outputs": [],
   "source": [
    "strings_df = ames[strings]"
   ]
  },
  {
   "cell_type": "code",
   "execution_count": 712,
   "metadata": {
    "scrolled": true
   },
   "outputs": [
    {
     "data": {
      "text/html": [
       "<div>\n",
       "<style scoped>\n",
       "    .dataframe tbody tr th:only-of-type {\n",
       "        vertical-align: middle;\n",
       "    }\n",
       "\n",
       "    .dataframe tbody tr th {\n",
       "        vertical-align: top;\n",
       "    }\n",
       "\n",
       "    .dataframe thead th {\n",
       "        text-align: right;\n",
       "    }\n",
       "</style>\n",
       "<table border=\"1\" class=\"dataframe\">\n",
       "  <thead>\n",
       "    <tr style=\"text-align: right;\">\n",
       "      <th></th>\n",
       "      <th>ms_subclass</th>\n",
       "      <th>ms_zoning</th>\n",
       "      <th>street</th>\n",
       "      <th>alley</th>\n",
       "      <th>land_contour</th>\n",
       "      <th>lot_config</th>\n",
       "      <th>neighborhood</th>\n",
       "      <th>condition_1</th>\n",
       "      <th>condition_2</th>\n",
       "      <th>bldg_type</th>\n",
       "      <th>...</th>\n",
       "      <th>roof_matl</th>\n",
       "      <th>exterior_1st</th>\n",
       "      <th>exterior_2nd</th>\n",
       "      <th>mas_vnr_type</th>\n",
       "      <th>foundation</th>\n",
       "      <th>heating</th>\n",
       "      <th>central_air</th>\n",
       "      <th>garage_type</th>\n",
       "      <th>misc_feature</th>\n",
       "      <th>sale_type</th>\n",
       "    </tr>\n",
       "  </thead>\n",
       "  <tbody>\n",
       "    <tr>\n",
       "      <th>0</th>\n",
       "      <td>60</td>\n",
       "      <td>RL</td>\n",
       "      <td>Pave</td>\n",
       "      <td>NaN</td>\n",
       "      <td>Lvl</td>\n",
       "      <td>CulDSac</td>\n",
       "      <td>Sawyer</td>\n",
       "      <td>RRAe</td>\n",
       "      <td>Norm</td>\n",
       "      <td>1Fam</td>\n",
       "      <td>...</td>\n",
       "      <td>CompShg</td>\n",
       "      <td>HdBoard</td>\n",
       "      <td>Plywood</td>\n",
       "      <td>BrkFace</td>\n",
       "      <td>CBlock</td>\n",
       "      <td>GasA</td>\n",
       "      <td>Y</td>\n",
       "      <td>Attchd</td>\n",
       "      <td>NaN</td>\n",
       "      <td>WD</td>\n",
       "    </tr>\n",
       "    <tr>\n",
       "      <th>1</th>\n",
       "      <td>60</td>\n",
       "      <td>RL</td>\n",
       "      <td>Pave</td>\n",
       "      <td>NaN</td>\n",
       "      <td>Lvl</td>\n",
       "      <td>CulDSac</td>\n",
       "      <td>SawyerW</td>\n",
       "      <td>Norm</td>\n",
       "      <td>Norm</td>\n",
       "      <td>1Fam</td>\n",
       "      <td>...</td>\n",
       "      <td>CompShg</td>\n",
       "      <td>VinylSd</td>\n",
       "      <td>VinylSd</td>\n",
       "      <td>BrkFace</td>\n",
       "      <td>PConc</td>\n",
       "      <td>GasA</td>\n",
       "      <td>Y</td>\n",
       "      <td>Attchd</td>\n",
       "      <td>NaN</td>\n",
       "      <td>WD</td>\n",
       "    </tr>\n",
       "    <tr>\n",
       "      <th>2</th>\n",
       "      <td>20</td>\n",
       "      <td>RL</td>\n",
       "      <td>Pave</td>\n",
       "      <td>NaN</td>\n",
       "      <td>Lvl</td>\n",
       "      <td>Inside</td>\n",
       "      <td>NAmes</td>\n",
       "      <td>Norm</td>\n",
       "      <td>Norm</td>\n",
       "      <td>1Fam</td>\n",
       "      <td>...</td>\n",
       "      <td>CompShg</td>\n",
       "      <td>VinylSd</td>\n",
       "      <td>VinylSd</td>\n",
       "      <td>None</td>\n",
       "      <td>CBlock</td>\n",
       "      <td>GasA</td>\n",
       "      <td>Y</td>\n",
       "      <td>Detchd</td>\n",
       "      <td>NaN</td>\n",
       "      <td>WD</td>\n",
       "    </tr>\n",
       "    <tr>\n",
       "      <th>3</th>\n",
       "      <td>60</td>\n",
       "      <td>RL</td>\n",
       "      <td>Pave</td>\n",
       "      <td>NaN</td>\n",
       "      <td>Lvl</td>\n",
       "      <td>Inside</td>\n",
       "      <td>Timber</td>\n",
       "      <td>Norm</td>\n",
       "      <td>Norm</td>\n",
       "      <td>1Fam</td>\n",
       "      <td>...</td>\n",
       "      <td>CompShg</td>\n",
       "      <td>VinylSd</td>\n",
       "      <td>VinylSd</td>\n",
       "      <td>None</td>\n",
       "      <td>PConc</td>\n",
       "      <td>GasA</td>\n",
       "      <td>Y</td>\n",
       "      <td>BuiltIn</td>\n",
       "      <td>NaN</td>\n",
       "      <td>WD</td>\n",
       "    </tr>\n",
       "    <tr>\n",
       "      <th>4</th>\n",
       "      <td>50</td>\n",
       "      <td>RL</td>\n",
       "      <td>Pave</td>\n",
       "      <td>NaN</td>\n",
       "      <td>Lvl</td>\n",
       "      <td>Inside</td>\n",
       "      <td>SawyerW</td>\n",
       "      <td>Norm</td>\n",
       "      <td>Norm</td>\n",
       "      <td>1Fam</td>\n",
       "      <td>...</td>\n",
       "      <td>CompShg</td>\n",
       "      <td>Wd Sdng</td>\n",
       "      <td>Plywood</td>\n",
       "      <td>None</td>\n",
       "      <td>PConc</td>\n",
       "      <td>GasA</td>\n",
       "      <td>Y</td>\n",
       "      <td>Detchd</td>\n",
       "      <td>NaN</td>\n",
       "      <td>WD</td>\n",
       "    </tr>\n",
       "  </tbody>\n",
       "</table>\n",
       "<p>5 rows × 22 columns</p>\n",
       "</div>"
      ],
      "text/plain": [
       "  ms_subclass ms_zoning street alley land_contour lot_config neighborhood  \\\n",
       "0          60        RL   Pave   NaN          Lvl    CulDSac       Sawyer   \n",
       "1          60        RL   Pave   NaN          Lvl    CulDSac      SawyerW   \n",
       "2          20        RL   Pave   NaN          Lvl     Inside        NAmes   \n",
       "3          60        RL   Pave   NaN          Lvl     Inside       Timber   \n",
       "4          50        RL   Pave   NaN          Lvl     Inside      SawyerW   \n",
       "\n",
       "  condition_1 condition_2 bldg_type  ... roof_matl exterior_1st exterior_2nd  \\\n",
       "0        RRAe        Norm      1Fam  ...   CompShg      HdBoard      Plywood   \n",
       "1        Norm        Norm      1Fam  ...   CompShg      VinylSd      VinylSd   \n",
       "2        Norm        Norm      1Fam  ...   CompShg      VinylSd      VinylSd   \n",
       "3        Norm        Norm      1Fam  ...   CompShg      VinylSd      VinylSd   \n",
       "4        Norm        Norm      1Fam  ...   CompShg      Wd Sdng      Plywood   \n",
       "\n",
       "  mas_vnr_type foundation heating central_air garage_type misc_feature  \\\n",
       "0      BrkFace     CBlock    GasA           Y      Attchd          NaN   \n",
       "1      BrkFace      PConc    GasA           Y      Attchd          NaN   \n",
       "2         None     CBlock    GasA           Y      Detchd          NaN   \n",
       "3         None      PConc    GasA           Y     BuiltIn          NaN   \n",
       "4         None      PConc    GasA           Y      Detchd          NaN   \n",
       "\n",
       "  sale_type  \n",
       "0       WD   \n",
       "1       WD   \n",
       "2       WD   \n",
       "3       WD   \n",
       "4       WD   \n",
       "\n",
       "[5 rows x 22 columns]"
      ]
     },
     "execution_count": 712,
     "metadata": {},
     "output_type": "execute_result"
    }
   ],
   "source": [
    "strings_df.head()"
   ]
  },
  {
   "cell_type": "markdown",
   "metadata": {},
   "source": [
    "### Strings Fill Nulls"
   ]
  },
  {
   "cell_type": "code",
   "execution_count": 713,
   "metadata": {},
   "outputs": [
    {
     "data": {
      "image/png": "[encoded data removed]",
      "text/plain": [
       "<Figure size 1728x720 with 3 Axes>"
      ]
     },
     "metadata": {
      "needs_background": "light"
     },
     "output_type": "display_data"
    }
   ],
   "source": [
    "msno.bar(strings_df);"
   ]
  },
  {
   "cell_type": "markdown",
   "metadata": {},
   "source": [
    "### Delete alley and misc_feature column as they have over 90% nulls"
   ]
  },
  {
   "cell_type": "code",
   "execution_count": 714,
   "metadata": {},
   "outputs": [
    {
     "name": "stderr",
     "output_type": "stream",
     "text": [
      "/Users/jamesopacich/opt/anaconda3/lib/python3.8/site-packages/pandas/core/frame.py:3990: SettingWithCopyWarning: \n",
      "A value is trying to be set on a copy of a slice from a DataFrame\n",
      "\n",
      "See the caveats in the documentation: https://pandas.pydata.org/pandas-docs/stable/user_guide/indexing.html#returning-a-view-versus-a-copy\n",
      "  return super().drop(\n"
     ]
    }
   ],
   "source": [
    "strings_df.drop(columns = ['alley', 'misc_feature'], inplace = True)\n",
    "strings_df.reset_index(inplace = True)"
   ]
  },
  {
   "cell_type": "code",
   "execution_count": 715,
   "metadata": {},
   "outputs": [],
   "source": [
    "def fill_na_string(df):\n",
    "    #Cleans string object NaNs by replacing with a string for whole dataframe\n",
    "    for item in df.columns:\n",
    "        df[item].fillna('None', inplace = True)"
   ]
  },
  {
   "cell_type": "code",
   "execution_count": 716,
   "metadata": {},
   "outputs": [
    {
     "name": "stderr",
     "output_type": "stream",
     "text": [
      "/Users/jamesopacich/opt/anaconda3/lib/python3.8/site-packages/pandas/core/generic.py:6245: SettingWithCopyWarning: \n",
      "A value is trying to be set on a copy of a slice from a DataFrame\n",
      "\n",
      "See the caveats in the documentation: https://pandas.pydata.org/pandas-docs/stable/user_guide/indexing.html#returning-a-view-versus-a-copy\n",
      "  self._update_inplace(new_data)\n"
     ]
    }
   ],
   "source": [
    "fill_na_string(strings_df)"
   ]
  },
  {
   "cell_type": "code",
   "execution_count": 717,
   "metadata": {
    "scrolled": true
   },
   "outputs": [
    {
     "data": {
      "image/png": "[encoded data removed]",
      "text/plain": [
       "<Figure size 1728x720 with 3 Axes>"
      ]
     },
     "metadata": {
      "needs_background": "light"
     },
     "output_type": "display_data"
    }
   ],
   "source": [
    "msno.bar(strings_df);"
   ]
  },
  {
   "cell_type": "markdown",
   "metadata": {},
   "source": [
    "### Add 'saleprice' column to strings for analytical purpose\n",
    "adding saleprice to ordinals because I am going to future analysis on just ordinals before dropping saleprice column and concatenating ordinals with other dfs to reform original dataframe"
   ]
  },
  {
   "cell_type": "code",
   "execution_count": 718,
   "metadata": {},
   "outputs": [
    {
     "name": "stderr",
     "output_type": "stream",
     "text": [
      "<ipython-input-718-3d03e2b84e15>:1: SettingWithCopyWarning: \n",
      "A value is trying to be set on a copy of a slice from a DataFrame.\n",
      "Try using .loc[row_indexer,col_indexer] = value instead\n",
      "\n",
      "See the caveats in the documentation: https://pandas.pydata.org/pandas-docs/stable/user_guide/indexing.html#returning-a-view-versus-a-copy\n",
      "  strings_df['saleprice'] = ames['saleprice']\n"
     ]
    }
   ],
   "source": [
    "strings_df['saleprice'] = ames['saleprice']"
   ]
  },
  {
   "cell_type": "code",
   "execution_count": 719,
   "metadata": {},
   "outputs": [
    {
     "data": {
      "text/plain": [
       "Index(['index', 'ms_subclass', 'ms_zoning', 'street', 'land_contour',\n",
       "       'lot_config', 'neighborhood', 'condition_1', 'condition_2', 'bldg_type',\n",
       "       'house_style', 'roof_style', 'roof_matl', 'exterior_1st',\n",
       "       'exterior_2nd', 'mas_vnr_type', 'foundation', 'heating', 'central_air',\n",
       "       'garage_type', 'sale_type', 'saleprice'],\n",
       "      dtype='object')"
      ]
     },
     "execution_count": 719,
     "metadata": {},
     "output_type": "execute_result"
    }
   ],
   "source": [
    "strings_df.columns"
   ]
  },
  {
   "cell_type": "markdown",
   "metadata": {},
   "source": [
    "# Save Nominal Variables to CSV"
   ]
  },
  {
   "cell_type": "code",
   "execution_count": 722,
   "metadata": {},
   "outputs": [],
   "source": [
    "strings_df.to_csv('../datasets/a5_str_no_dummy.csv')"
   ]
  },
  {
   "cell_type": "markdown",
   "metadata": {},
   "source": [
    "# Create a Dummy Version and Save to CSV"
   ]
  },
  {
   "cell_type": "code",
   "execution_count": 723,
   "metadata": {},
   "outputs": [],
   "source": [
    "strings_dummy = pd.get_dummies(strings_df, drop_first = True)"
   ]
  },
  {
   "cell_type": "code",
   "execution_count": 724,
   "metadata": {
    "scrolled": true
   },
   "outputs": [],
   "source": [
    "strings_dummy.to_csv('../datasets/a5_str_dummy.csv', index = False)"
   ]
  },
  {
   "cell_type": "markdown",
   "metadata": {},
   "source": [
    "# Save Test Df to CSV"
   ]
  },
  {
   "cell_type": "code",
   "execution_count": 601,
   "metadata": {},
   "outputs": [],
   "source": [
    "test.to_csv('../datasets/a5_test1.csv', index = False)"
   ]
  },
  {
   "cell_type": "markdown",
   "metadata": {},
   "source": [
    "# END INITIAL CLEANING AND EDA ON NOMINALS\n",
    "___________\n",
    "\n",
    "# END INITIAL CLEANING AND EDA ON THIS NOTEBOOK\n",
    "### (SEE NOTEBOOK 'attempt5_EDA' FOR NEXT STEP IN CLEANING AND EDA) "
   ]
  },
  {
   "cell_type": "code",
   "execution_count": null,
   "metadata": {},
   "outputs": [],
   "source": []
  },
  {
   "cell_type": "code",
   "execution_count": null,
   "metadata": {},
   "outputs": [],
   "source": []
  }
 ],
 "metadata": {
  "kernelspec": {
   "display_name": "Python 3",
   "language": "python",
   "name": "python3"
  },
  "language_info": {
   "codemirror_mode": {
    "name": "ipython",
    "version": 3
   },
   "file_extension": ".py",
   "mimetype": "text/x-python",
   "name": "python",
   "nbconvert_exporter": "python",
   "pygments_lexer": "ipython3",
   "version": "3.8.3"
  }
 },
 "nbformat": 4,
 "nbformat_minor": 4
}
