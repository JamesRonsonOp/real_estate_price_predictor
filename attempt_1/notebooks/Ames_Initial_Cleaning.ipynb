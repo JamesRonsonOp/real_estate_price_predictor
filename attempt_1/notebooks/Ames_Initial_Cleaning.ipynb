{
 "cells": [
  {
   "cell_type": "code",
   "execution_count": 36,
   "metadata": {},
   "outputs": [],
   "source": [
    "import pandas as pd\n",
    "import numpy as np\n",
    "import missingno as msno\n"
   ]
  },
  {
   "cell_type": "code",
   "execution_count": 37,
   "metadata": {},
   "outputs": [],
   "source": [
    "ames = pd.read_csv('/Users/jamesopacich/Documents/dsi/projects/project_2/starter_data/train.csv')"
   ]
  },
  {
   "cell_type": "code",
   "execution_count": 38,
   "metadata": {},
   "outputs": [
    {
     "data": {
      "text/html": [
       "<div>\n",
       "<style scoped>\n",
       "    .dataframe tbody tr th:only-of-type {\n",
       "        vertical-align: middle;\n",
       "    }\n",
       "\n",
       "    .dataframe tbody tr th {\n",
       "        vertical-align: top;\n",
       "    }\n",
       "\n",
       "    .dataframe thead th {\n",
       "        text-align: right;\n",
       "    }\n",
       "</style>\n",
       "<table border=\"1\" class=\"dataframe\">\n",
       "  <thead>\n",
       "    <tr style=\"text-align: right;\">\n",
       "      <th></th>\n",
       "      <th>Heating QC</th>\n",
       "      <th>Central Air</th>\n",
       "      <th>Electrical</th>\n",
       "      <th>1st Flr SF</th>\n",
       "      <th>2nd Flr SF</th>\n",
       "      <th>Low Qual Fin SF</th>\n",
       "      <th>Gr Liv Area</th>\n",
       "      <th>Bsmt Full Bath</th>\n",
       "      <th>Bsmt Half Bath</th>\n",
       "      <th>Full Bath</th>\n",
       "      <th>Half Bath</th>\n",
       "      <th>Bedroom AbvGr</th>\n",
       "      <th>Kitchen AbvGr</th>\n",
       "      <th>Kitchen Qual</th>\n",
       "      <th>TotRms AbvGrd</th>\n",
       "      <th>Functional</th>\n",
       "      <th>Fireplaces</th>\n",
       "      <th>Fireplace Qu</th>\n",
       "      <th>Garage Type</th>\n",
       "    </tr>\n",
       "  </thead>\n",
       "  <tbody>\n",
       "    <tr>\n",
       "      <th>0</th>\n",
       "      <td>Ex</td>\n",
       "      <td>Y</td>\n",
       "      <td>SBrkr</td>\n",
       "      <td>725</td>\n",
       "      <td>754</td>\n",
       "      <td>0</td>\n",
       "      <td>1479</td>\n",
       "      <td>0.0</td>\n",
       "      <td>0.0</td>\n",
       "      <td>2</td>\n",
       "      <td>1</td>\n",
       "      <td>3</td>\n",
       "      <td>1</td>\n",
       "      <td>Gd</td>\n",
       "      <td>6</td>\n",
       "      <td>Typ</td>\n",
       "      <td>0</td>\n",
       "      <td>NaN</td>\n",
       "      <td>Attchd</td>\n",
       "    </tr>\n",
       "    <tr>\n",
       "      <th>1</th>\n",
       "      <td>Ex</td>\n",
       "      <td>Y</td>\n",
       "      <td>SBrkr</td>\n",
       "      <td>913</td>\n",
       "      <td>1209</td>\n",
       "      <td>0</td>\n",
       "      <td>2122</td>\n",
       "      <td>1.0</td>\n",
       "      <td>0.0</td>\n",
       "      <td>2</td>\n",
       "      <td>1</td>\n",
       "      <td>4</td>\n",
       "      <td>1</td>\n",
       "      <td>Gd</td>\n",
       "      <td>8</td>\n",
       "      <td>Typ</td>\n",
       "      <td>1</td>\n",
       "      <td>TA</td>\n",
       "      <td>Attchd</td>\n",
       "    </tr>\n",
       "    <tr>\n",
       "      <th>2</th>\n",
       "      <td>TA</td>\n",
       "      <td>Y</td>\n",
       "      <td>SBrkr</td>\n",
       "      <td>1057</td>\n",
       "      <td>0</td>\n",
       "      <td>0</td>\n",
       "      <td>1057</td>\n",
       "      <td>1.0</td>\n",
       "      <td>0.0</td>\n",
       "      <td>1</td>\n",
       "      <td>0</td>\n",
       "      <td>3</td>\n",
       "      <td>1</td>\n",
       "      <td>Gd</td>\n",
       "      <td>5</td>\n",
       "      <td>Typ</td>\n",
       "      <td>0</td>\n",
       "      <td>NaN</td>\n",
       "      <td>Detchd</td>\n",
       "    </tr>\n",
       "    <tr>\n",
       "      <th>3</th>\n",
       "      <td>Gd</td>\n",
       "      <td>Y</td>\n",
       "      <td>SBrkr</td>\n",
       "      <td>744</td>\n",
       "      <td>700</td>\n",
       "      <td>0</td>\n",
       "      <td>1444</td>\n",
       "      <td>0.0</td>\n",
       "      <td>0.0</td>\n",
       "      <td>2</td>\n",
       "      <td>1</td>\n",
       "      <td>3</td>\n",
       "      <td>1</td>\n",
       "      <td>TA</td>\n",
       "      <td>7</td>\n",
       "      <td>Typ</td>\n",
       "      <td>0</td>\n",
       "      <td>NaN</td>\n",
       "      <td>BuiltIn</td>\n",
       "    </tr>\n",
       "    <tr>\n",
       "      <th>4</th>\n",
       "      <td>TA</td>\n",
       "      <td>Y</td>\n",
       "      <td>SBrkr</td>\n",
       "      <td>831</td>\n",
       "      <td>614</td>\n",
       "      <td>0</td>\n",
       "      <td>1445</td>\n",
       "      <td>0.0</td>\n",
       "      <td>0.0</td>\n",
       "      <td>2</td>\n",
       "      <td>0</td>\n",
       "      <td>3</td>\n",
       "      <td>1</td>\n",
       "      <td>TA</td>\n",
       "      <td>6</td>\n",
       "      <td>Typ</td>\n",
       "      <td>0</td>\n",
       "      <td>NaN</td>\n",
       "      <td>Detchd</td>\n",
       "    </tr>\n",
       "  </tbody>\n",
       "</table>\n",
       "</div>"
      ],
      "text/plain": [
       "  Heating QC Central Air Electrical  1st Flr SF  2nd Flr SF  Low Qual Fin SF  \\\n",
       "0         Ex           Y      SBrkr         725         754                0   \n",
       "1         Ex           Y      SBrkr         913        1209                0   \n",
       "2         TA           Y      SBrkr        1057           0                0   \n",
       "3         Gd           Y      SBrkr         744         700                0   \n",
       "4         TA           Y      SBrkr         831         614                0   \n",
       "\n",
       "   Gr Liv Area  Bsmt Full Bath  Bsmt Half Bath  Full Bath  Half Bath  \\\n",
       "0         1479             0.0             0.0          2          1   \n",
       "1         2122             1.0             0.0          2          1   \n",
       "2         1057             1.0             0.0          1          0   \n",
       "3         1444             0.0             0.0          2          1   \n",
       "4         1445             0.0             0.0          2          0   \n",
       "\n",
       "   Bedroom AbvGr  Kitchen AbvGr Kitchen Qual  TotRms AbvGrd Functional  \\\n",
       "0              3              1           Gd              6        Typ   \n",
       "1              4              1           Gd              8        Typ   \n",
       "2              3              1           Gd              5        Typ   \n",
       "3              3              1           TA              7        Typ   \n",
       "4              3              1           TA              6        Typ   \n",
       "\n",
       "   Fireplaces Fireplace Qu Garage Type  \n",
       "0           0          NaN      Attchd  \n",
       "1           1           TA      Attchd  \n",
       "2           0          NaN      Detchd  \n",
       "3           0          NaN     BuiltIn  \n",
       "4           0          NaN      Detchd  "
      ]
     },
     "execution_count": 38,
     "metadata": {},
     "output_type": "execute_result"
    }
   ],
   "source": [
    "ames.iloc[:, 41:60].head()"
   ]
  },
  {
   "cell_type": "code",
   "execution_count": 39,
   "metadata": {},
   "outputs": [
    {
     "data": {
      "text/plain": [
       "(2051, 81)"
      ]
     },
     "execution_count": 39,
     "metadata": {},
     "output_type": "execute_result"
    }
   ],
   "source": [
    "ames.shape"
   ]
  },
  {
   "cell_type": "markdown",
   "metadata": {},
   "source": [
    "##### Change column names to lower and _"
   ]
  },
  {
   "cell_type": "code",
   "execution_count": 40,
   "metadata": {},
   "outputs": [],
   "source": [
    "ames.columns = ames.columns.str.lower().str.replace(' ', '_')"
   ]
  },
  {
   "cell_type": "code",
   "execution_count": 41,
   "metadata": {},
   "outputs": [],
   "source": [
    "ames.columns;"
   ]
  },
  {
   "cell_type": "code",
   "execution_count": 42,
   "metadata": {},
   "outputs": [
    {
     "data": {
      "text/plain": [
       "81"
      ]
     },
     "execution_count": 42,
     "metadata": {},
     "output_type": "execute_result"
    }
   ],
   "source": [
    "len(ames.columns)"
   ]
  },
  {
   "cell_type": "markdown",
   "metadata": {},
   "source": [
    "### Combine sf columns and delete columns that overlap in purpose"
   ]
  },
  {
   "cell_type": "code",
   "execution_count": 43,
   "metadata": {},
   "outputs": [
    {
     "data": {
      "text/plain": [
       "Index(['id', 'pid', 'ms_subclass', 'ms_zoning', 'lot_frontage', 'lot_area',\n",
       "       'street', 'alley', 'lot_shape', 'land_contour', 'utilities',\n",
       "       'lot_config', 'land_slope', 'neighborhood', 'condition_1',\n",
       "       'condition_2', 'bldg_type', 'house_style', 'overall_qual',\n",
       "       'overall_cond', 'year_built', 'year_remod/add', 'roof_style',\n",
       "       'roof_matl', 'exterior_1st', 'exterior_2nd', 'mas_vnr_type',\n",
       "       'mas_vnr_area', 'exter_qual', 'exter_cond', 'foundation', 'bsmt_qual',\n",
       "       'bsmt_cond', 'bsmt_exposure', 'bsmtfin_type_1', 'bsmtfin_sf_1',\n",
       "       'bsmtfin_type_2', 'bsmtfin_sf_2', 'bsmt_unf_sf', 'total_bsmt_sf',\n",
       "       'heating', 'heating_qc', 'central_air', 'electrical', '1st_flr_sf',\n",
       "       '2nd_flr_sf', 'low_qual_fin_sf', 'gr_liv_area', 'bsmt_full_bath',\n",
       "       'bsmt_half_bath', 'full_bath', 'half_bath', 'bedroom_abvgr',\n",
       "       'kitchen_abvgr', 'kitchen_qual', 'totrms_abvgrd', 'functional',\n",
       "       'fireplaces', 'fireplace_qu', 'garage_type', 'garage_yr_blt',\n",
       "       'garage_finish', 'garage_cars', 'garage_area', 'garage_qual',\n",
       "       'garage_cond', 'paved_drive', 'wood_deck_sf', 'open_porch_sf',\n",
       "       'enclosed_porch', '3ssn_porch', 'screen_porch', 'pool_area', 'pool_qc',\n",
       "       'fence', 'misc_feature', 'misc_val', 'mo_sold', 'yr_sold', 'sale_type',\n",
       "       'saleprice'],\n",
       "      dtype='object')"
      ]
     },
     "execution_count": 43,
     "metadata": {},
     "output_type": "execute_result"
    }
   ],
   "source": [
    "ames.columns"
   ]
  },
  {
   "cell_type": "code",
   "execution_count": 44,
   "metadata": {},
   "outputs": [],
   "source": [
    "ames['ttl_sf'] = ames['total_bsmt_sf'] + ames['gr_liv_area']"
   ]
  },
  {
   "cell_type": "code",
   "execution_count": 45,
   "metadata": {},
   "outputs": [
    {
     "data": {
      "text/plain": [
       "2557.612195121951"
      ]
     },
     "execution_count": 45,
     "metadata": {},
     "output_type": "execute_result"
    }
   ],
   "source": [
    "ames['ttl_sf'].mean()"
   ]
  },
  {
   "cell_type": "code",
   "execution_count": 46,
   "metadata": {},
   "outputs": [],
   "source": [
    "overlap_sf = ['bsmtfin_sf_2', 'bsmt_unf_sf', 'total_bsmt_sf', 'bsmtfin_sf_1', 'total_bsmt_sf', '1st_flr_sf',\n",
    "       '2nd_flr_sf', 'low_qual_fin_sf', 'gr_liv_area']"
   ]
  },
  {
   "cell_type": "code",
   "execution_count": 47,
   "metadata": {},
   "outputs": [],
   "source": [
    "ames.drop(columns = overlap_sf, inplace = True)"
   ]
  },
  {
   "cell_type": "code",
   "execution_count": 48,
   "metadata": {},
   "outputs": [
    {
     "data": {
      "text/plain": [
       "74"
      ]
     },
     "execution_count": 48,
     "metadata": {},
     "output_type": "execute_result"
    }
   ],
   "source": [
    "len(ames.columns)"
   ]
  },
  {
   "cell_type": "markdown",
   "metadata": {},
   "source": [
    "### Combine bathrooms and drop overlapping columns"
   ]
  },
  {
   "cell_type": "code",
   "execution_count": 49,
   "metadata": {},
   "outputs": [],
   "source": [
    "ames['ttl_bath'] = ames['full_bath'] + (.5 * ames['half_bath']) + ames['bsmt_full_bath'] + (.5 * ames['bsmt_half_bath'])"
   ]
  },
  {
   "cell_type": "code",
   "execution_count": 50,
   "metadata": {},
   "outputs": [
    {
     "data": {
      "text/plain": [
       "0    2.5\n",
       "1    3.5\n",
       "2    2.0\n",
       "3    2.5\n",
       "4    2.0\n",
       "Name: ttl_bath, dtype: float64"
      ]
     },
     "execution_count": 50,
     "metadata": {},
     "output_type": "execute_result"
    }
   ],
   "source": [
    "ames['ttl_bath'].head()"
   ]
  },
  {
   "cell_type": "code",
   "execution_count": 51,
   "metadata": {},
   "outputs": [],
   "source": [
    "ames.drop(columns = ['full_bath', 'half_bath', 'bsmt_full_bath', 'bsmt_half_bath'], inplace = True)"
   ]
  },
  {
   "cell_type": "markdown",
   "metadata": {},
   "source": [
    "### Drop totrmsabvgrnd because it is redundant with count of bedrooms and kitchens"
   ]
  },
  {
   "cell_type": "markdown",
   "metadata": {},
   "source": [
    "##### Make copies of dataframe in 20 column segments for easier cleaning"
   ]
  },
  {
   "cell_type": "code",
   "execution_count": 52,
   "metadata": {},
   "outputs": [],
   "source": [
    "ames_1st_20 = ames.iloc[:, 0:20].copy()\n",
    "ames_2nd_20 = ames.iloc[:, 20:40].copy()\n",
    "ames_3rd_20 = ames.iloc[:, 40:60].copy()\n",
    "ames_4th_20 = ames.iloc[:, 60:81].copy()"
   ]
  },
  {
   "cell_type": "code",
   "execution_count": 53,
   "metadata": {},
   "outputs": [
    {
     "data": {
      "text/plain": [
       "20"
      ]
     },
     "execution_count": 53,
     "metadata": {},
     "output_type": "execute_result"
    }
   ],
   "source": [
    "len(ames_1st_20.columns)"
   ]
  },
  {
   "cell_type": "code",
   "execution_count": 54,
   "metadata": {},
   "outputs": [],
   "source": [
    "def mass_value(df):\n",
    "    # function that takes in a dataframe and returns value_counts for all columns. \n",
    "    value_list = []\n",
    "    for item in df.columns:\n",
    "        value_list.append(item.upper())\n",
    "        value_list.append(df[item].value_counts())\n",
    "    return value_list\n",
    "    "
   ]
  },
  {
   "cell_type": "code",
   "execution_count": 55,
   "metadata": {},
   "outputs": [],
   "source": [
    "def fill_na_mean(df):\n",
    "    #Cleans float and integer NaNs by replacing with mean\n",
    "    for item in df.columns:\n",
    "        if df[item].dtypes == float or df[item].dtypes == int:\n",
    "            df[item].fillna(df[item].mean(), inplace = True)"
   ]
  },
  {
   "cell_type": "code",
   "execution_count": 56,
   "metadata": {},
   "outputs": [],
   "source": [
    "def fill_na_mode(df):\n",
    "    #Cleans float and integer NaNs by replacing with mean\n",
    "    for item in df.columns:\n",
    "        if df[item].dtypes == float or df[item].dtypes == int:\n",
    "            df[item].fillna(df[item].mean(), inplace = True)"
   ]
  },
  {
   "cell_type": "code",
   "execution_count": 57,
   "metadata": {},
   "outputs": [],
   "source": [
    "def fill_na_string(df):\n",
    "    #Cleans string object NaNs by replacing with a string\n",
    "    for item in df.columns:\n",
    "        if df[item].dtypes == str or df[item].dtypes == object:\n",
    "            df[item].fillna('no value', inplace = True)"
   ]
  },
  {
   "cell_type": "code",
   "execution_count": 58,
   "metadata": {},
   "outputs": [],
   "source": [
    "def null_counter(series):\n",
    "    count = 0\n",
    "\n",
    "    for item in series.isnull():\n",
    "        if item == True:\n",
    "            count += 1\n",
    "    return f'{count} null values' "
   ]
  },
  {
   "cell_type": "markdown",
   "metadata": {},
   "source": [
    "___________________________________________________\n",
    "# Begin Cleaning on 1st 20 columns"
   ]
  },
  {
   "cell_type": "code",
   "execution_count": 59,
   "metadata": {},
   "outputs": [
    {
     "data": {
      "text/plain": [
       "Index(['id', 'pid', 'ms_subclass', 'ms_zoning', 'lot_frontage', 'lot_area',\n",
       "       'street', 'alley', 'lot_shape', 'land_contour', 'utilities',\n",
       "       'lot_config', 'land_slope', 'neighborhood', 'condition_1',\n",
       "       'condition_2', 'bldg_type', 'house_style', 'overall_qual',\n",
       "       'overall_cond'],\n",
       "      dtype='object')"
      ]
     },
     "execution_count": 59,
     "metadata": {},
     "output_type": "execute_result"
    }
   ],
   "source": [
    "ames_1st_20.columns"
   ]
  },
  {
   "cell_type": "code",
   "execution_count": 60,
   "metadata": {
    "scrolled": true
   },
   "outputs": [
    {
     "data": {
      "text/html": [
       "<div>\n",
       "<style scoped>\n",
       "    .dataframe tbody tr th:only-of-type {\n",
       "        vertical-align: middle;\n",
       "    }\n",
       "\n",
       "    .dataframe tbody tr th {\n",
       "        vertical-align: top;\n",
       "    }\n",
       "\n",
       "    .dataframe thead th {\n",
       "        text-align: right;\n",
       "    }\n",
       "</style>\n",
       "<table border=\"1\" class=\"dataframe\">\n",
       "  <thead>\n",
       "    <tr style=\"text-align: right;\">\n",
       "      <th></th>\n",
       "      <th>id</th>\n",
       "      <th>pid</th>\n",
       "      <th>ms_subclass</th>\n",
       "      <th>ms_zoning</th>\n",
       "      <th>lot_frontage</th>\n",
       "      <th>lot_area</th>\n",
       "      <th>street</th>\n",
       "      <th>alley</th>\n",
       "      <th>lot_shape</th>\n",
       "      <th>land_contour</th>\n",
       "      <th>utilities</th>\n",
       "      <th>lot_config</th>\n",
       "      <th>land_slope</th>\n",
       "      <th>neighborhood</th>\n",
       "      <th>condition_1</th>\n",
       "      <th>condition_2</th>\n",
       "      <th>bldg_type</th>\n",
       "      <th>house_style</th>\n",
       "      <th>overall_qual</th>\n",
       "      <th>overall_cond</th>\n",
       "    </tr>\n",
       "  </thead>\n",
       "  <tbody>\n",
       "    <tr>\n",
       "      <th>0</th>\n",
       "      <td>109</td>\n",
       "      <td>533352170</td>\n",
       "      <td>60</td>\n",
       "      <td>RL</td>\n",
       "      <td>NaN</td>\n",
       "      <td>13517</td>\n",
       "      <td>Pave</td>\n",
       "      <td>NaN</td>\n",
       "      <td>IR1</td>\n",
       "      <td>Lvl</td>\n",
       "      <td>AllPub</td>\n",
       "      <td>CulDSac</td>\n",
       "      <td>Gtl</td>\n",
       "      <td>Sawyer</td>\n",
       "      <td>RRAe</td>\n",
       "      <td>Norm</td>\n",
       "      <td>1Fam</td>\n",
       "      <td>2Story</td>\n",
       "      <td>6</td>\n",
       "      <td>8</td>\n",
       "    </tr>\n",
       "    <tr>\n",
       "      <th>1</th>\n",
       "      <td>544</td>\n",
       "      <td>531379050</td>\n",
       "      <td>60</td>\n",
       "      <td>RL</td>\n",
       "      <td>43.0</td>\n",
       "      <td>11492</td>\n",
       "      <td>Pave</td>\n",
       "      <td>NaN</td>\n",
       "      <td>IR1</td>\n",
       "      <td>Lvl</td>\n",
       "      <td>AllPub</td>\n",
       "      <td>CulDSac</td>\n",
       "      <td>Gtl</td>\n",
       "      <td>SawyerW</td>\n",
       "      <td>Norm</td>\n",
       "      <td>Norm</td>\n",
       "      <td>1Fam</td>\n",
       "      <td>2Story</td>\n",
       "      <td>7</td>\n",
       "      <td>5</td>\n",
       "    </tr>\n",
       "    <tr>\n",
       "      <th>2</th>\n",
       "      <td>153</td>\n",
       "      <td>535304180</td>\n",
       "      <td>20</td>\n",
       "      <td>RL</td>\n",
       "      <td>68.0</td>\n",
       "      <td>7922</td>\n",
       "      <td>Pave</td>\n",
       "      <td>NaN</td>\n",
       "      <td>Reg</td>\n",
       "      <td>Lvl</td>\n",
       "      <td>AllPub</td>\n",
       "      <td>Inside</td>\n",
       "      <td>Gtl</td>\n",
       "      <td>NAmes</td>\n",
       "      <td>Norm</td>\n",
       "      <td>Norm</td>\n",
       "      <td>1Fam</td>\n",
       "      <td>1Story</td>\n",
       "      <td>5</td>\n",
       "      <td>7</td>\n",
       "    </tr>\n",
       "    <tr>\n",
       "      <th>3</th>\n",
       "      <td>318</td>\n",
       "      <td>916386060</td>\n",
       "      <td>60</td>\n",
       "      <td>RL</td>\n",
       "      <td>73.0</td>\n",
       "      <td>9802</td>\n",
       "      <td>Pave</td>\n",
       "      <td>NaN</td>\n",
       "      <td>Reg</td>\n",
       "      <td>Lvl</td>\n",
       "      <td>AllPub</td>\n",
       "      <td>Inside</td>\n",
       "      <td>Gtl</td>\n",
       "      <td>Timber</td>\n",
       "      <td>Norm</td>\n",
       "      <td>Norm</td>\n",
       "      <td>1Fam</td>\n",
       "      <td>2Story</td>\n",
       "      <td>5</td>\n",
       "      <td>5</td>\n",
       "    </tr>\n",
       "    <tr>\n",
       "      <th>4</th>\n",
       "      <td>255</td>\n",
       "      <td>906425045</td>\n",
       "      <td>50</td>\n",
       "      <td>RL</td>\n",
       "      <td>82.0</td>\n",
       "      <td>14235</td>\n",
       "      <td>Pave</td>\n",
       "      <td>NaN</td>\n",
       "      <td>IR1</td>\n",
       "      <td>Lvl</td>\n",
       "      <td>AllPub</td>\n",
       "      <td>Inside</td>\n",
       "      <td>Gtl</td>\n",
       "      <td>SawyerW</td>\n",
       "      <td>Norm</td>\n",
       "      <td>Norm</td>\n",
       "      <td>1Fam</td>\n",
       "      <td>1.5Fin</td>\n",
       "      <td>6</td>\n",
       "      <td>8</td>\n",
       "    </tr>\n",
       "  </tbody>\n",
       "</table>\n",
       "</div>"
      ],
      "text/plain": [
       "    id        pid  ms_subclass ms_zoning  lot_frontage  lot_area street alley  \\\n",
       "0  109  533352170           60        RL           NaN     13517   Pave   NaN   \n",
       "1  544  531379050           60        RL          43.0     11492   Pave   NaN   \n",
       "2  153  535304180           20        RL          68.0      7922   Pave   NaN   \n",
       "3  318  916386060           60        RL          73.0      9802   Pave   NaN   \n",
       "4  255  906425045           50        RL          82.0     14235   Pave   NaN   \n",
       "\n",
       "  lot_shape land_contour utilities lot_config land_slope neighborhood  \\\n",
       "0       IR1          Lvl    AllPub    CulDSac        Gtl       Sawyer   \n",
       "1       IR1          Lvl    AllPub    CulDSac        Gtl      SawyerW   \n",
       "2       Reg          Lvl    AllPub     Inside        Gtl        NAmes   \n",
       "3       Reg          Lvl    AllPub     Inside        Gtl       Timber   \n",
       "4       IR1          Lvl    AllPub     Inside        Gtl      SawyerW   \n",
       "\n",
       "  condition_1 condition_2 bldg_type house_style  overall_qual  overall_cond  \n",
       "0        RRAe        Norm      1Fam      2Story             6             8  \n",
       "1        Norm        Norm      1Fam      2Story             7             5  \n",
       "2        Norm        Norm      1Fam      1Story             5             7  \n",
       "3        Norm        Norm      1Fam      2Story             5             5  \n",
       "4        Norm        Norm      1Fam      1.5Fin             6             8  "
      ]
     },
     "execution_count": 60,
     "metadata": {},
     "output_type": "execute_result"
    }
   ],
   "source": [
    "ames_1st_20.head()"
   ]
  },
  {
   "cell_type": "code",
   "execution_count": 61,
   "metadata": {},
   "outputs": [
    {
     "data": {
      "image/png": "[encoded data removed]",
      "text/plain": [
       "<Figure size 1728x720 with 3 Axes>"
      ]
     },
     "metadata": {
      "needs_background": "light"
     },
     "output_type": "display_data"
    }
   ],
   "source": [
    "msno.bar(ames_1st_20);"
   ]
  },
  {
   "cell_type": "markdown",
   "metadata": {},
   "source": [
    "###### replace null values in frontage with mean"
   ]
  },
  {
   "cell_type": "code",
   "execution_count": 62,
   "metadata": {},
   "outputs": [],
   "source": [
    "ames_1st_20['lot_frontage'].fillna(ames_1st_20['lot_frontage'].mean(), inplace = True)"
   ]
  },
  {
   "cell_type": "code",
   "execution_count": 63,
   "metadata": {},
   "outputs": [
    {
     "data": {
      "text/plain": [
       "'0 null values'"
      ]
     },
     "execution_count": 63,
     "metadata": {},
     "output_type": "execute_result"
    }
   ],
   "source": [
    "\n",
    "# call function null_counter. created above. It counts null values in a series\n",
    "null_counter(ames_1st_20['lot_frontage'])"
   ]
  },
  {
   "cell_type": "markdown",
   "metadata": {},
   "source": [
    "### Drop Non_useful columns \n",
    "#### (Qualitatively examined. I may drop more quantitatively examined columns later)"
   ]
  },
  {
   "cell_type": "code",
   "execution_count": 64,
   "metadata": {
    "scrolled": true
   },
   "outputs": [
    {
     "data": {
      "text/plain": [
       "['ID',\n",
       " 2047    1\n",
       " 2787    1\n",
       " 1058    1\n",
       " 1060    1\n",
       " 1062    1\n",
       "        ..\n",
       " 2550    1\n",
       " 2552    1\n",
       " 505     1\n",
       " 507     1\n",
       " 2049    1\n",
       " Name: id, Length: 2051, dtype: int64,\n",
       " 'PID',\n",
       " 532351060    1\n",
       " 535303150    1\n",
       " 909250210    1\n",
       " 905377130    1\n",
       " 527403020    1\n",
       "             ..\n",
       " 535403150    1\n",
       " 528477070    1\n",
       " 528104080    1\n",
       " 533120030    1\n",
       " 533250050    1\n",
       " Name: pid, Length: 2051, dtype: int64,\n",
       " 'MS_SUBCLASS',\n",
       " 20     770\n",
       " 60     394\n",
       " 50     198\n",
       " 120    132\n",
       " 30     101\n",
       " 70      90\n",
       " 160     88\n",
       " 80      86\n",
       " 90      75\n",
       " 190     46\n",
       " 85      28\n",
       " 75      16\n",
       " 45      11\n",
       " 180     11\n",
       " 40       4\n",
       " 150      1\n",
       " Name: ms_subclass, dtype: int64,\n",
       " 'MS_ZONING',\n",
       " RL         1598\n",
       " RM          316\n",
       " FV          101\n",
       " C (all)      19\n",
       " RH           14\n",
       " A (agr)       2\n",
       " I (all)       1\n",
       " Name: ms_zoning, dtype: int64,\n",
       " 'LOT_FRONTAGE',\n",
       " 69.0552     330\n",
       " 60.0000     179\n",
       " 70.0000      96\n",
       " 80.0000      94\n",
       " 50.0000      90\n",
       "            ... \n",
       " 200.0000      1\n",
       " 25.0000       1\n",
       " 160.0000      1\n",
       " 124.0000      1\n",
       " 144.0000      1\n",
       " Name: lot_frontage, Length: 119, dtype: int64,\n",
       " 'LOT_AREA',\n",
       " 9600     34\n",
       " 7200     27\n",
       " 6000     26\n",
       " 10800    19\n",
       " 7500     18\n",
       "          ..\n",
       " 12887     1\n",
       " 12891     1\n",
       " 10846     1\n",
       " 14948     1\n",
       " 12292     1\n",
       " Name: lot_area, Length: 1476, dtype: int64,\n",
       " 'STREET',\n",
       " Pave    2044\n",
       " Grvl       7\n",
       " Name: street, dtype: int64,\n",
       " 'ALLEY',\n",
       " Grvl    85\n",
       " Pave    55\n",
       " Name: alley, dtype: int64,\n",
       " 'LOT_SHAPE',\n",
       " Reg    1295\n",
       " IR1     692\n",
       " IR2      55\n",
       " IR3       9\n",
       " Name: lot_shape, dtype: int64,\n",
       " 'LAND_CONTOUR',\n",
       " Lvl    1843\n",
       " HLS      85\n",
       " Bnk      80\n",
       " Low      43\n",
       " Name: land_contour, dtype: int64,\n",
       " 'UTILITIES',\n",
       " AllPub    2049\n",
       " NoSewr       1\n",
       " NoSeWa       1\n",
       " Name: utilities, dtype: int64,\n",
       " 'LOT_CONFIG',\n",
       " Inside     1503\n",
       " Corner      348\n",
       " CulDSac     131\n",
       " FR2          60\n",
       " FR3           9\n",
       " Name: lot_config, dtype: int64,\n",
       " 'LAND_SLOPE',\n",
       " Gtl    1953\n",
       " Mod      88\n",
       " Sev      10\n",
       " Name: land_slope, dtype: int64,\n",
       " 'NEIGHBORHOOD',\n",
       " NAmes      310\n",
       " CollgCr    180\n",
       " OldTown    163\n",
       " Edwards    143\n",
       " Somerst    130\n",
       " NridgHt    122\n",
       " Gilbert    116\n",
       " Sawyer     111\n",
       " NWAmes      87\n",
       " SawyerW     87\n",
       " Mitchel     82\n",
       " BrkSide     76\n",
       " Crawfor     71\n",
       " IDOTRR      69\n",
       " Timber      48\n",
       " NoRidge     48\n",
       " StoneBr     38\n",
       " SWISU       32\n",
       " ClearCr     27\n",
       " MeadowV     24\n",
       " Blmngtn     22\n",
       " BrDale      19\n",
       " Veenker     17\n",
       " NPkVill     17\n",
       " Blueste      6\n",
       " Greens       3\n",
       " GrnHill      2\n",
       " Landmrk      1\n",
       " Name: neighborhood, dtype: int64,\n",
       " 'CONDITION_1',\n",
       " Norm      1767\n",
       " Feedr      109\n",
       " Artery      70\n",
       " RRAn        36\n",
       " PosN        27\n",
       " RRAe        21\n",
       " PosA        12\n",
       " RRNn         6\n",
       " RRNe         3\n",
       " Name: condition_1, dtype: int64,\n",
       " 'CONDITION_2',\n",
       " Norm      2025\n",
       " Feedr       11\n",
       " Artery       5\n",
       " PosA         3\n",
       " PosN         3\n",
       " RRNn         2\n",
       " RRAe         1\n",
       " RRAn         1\n",
       " Name: condition_2, dtype: int64,\n",
       " 'BLDG_TYPE',\n",
       " 1Fam      1700\n",
       " TwnhsE     161\n",
       " Duplex      75\n",
       " Twnhs       69\n",
       " 2fmCon      46\n",
       " Name: bldg_type, dtype: int64,\n",
       " 'HOUSE_STYLE',\n",
       " 1Story    1059\n",
       " 2Story     598\n",
       " 1.5Fin     218\n",
       " SLvl        94\n",
       " SFoyer      50\n",
       " 2.5Unf      14\n",
       " 1.5Unf      12\n",
       " 2.5Fin       6\n",
       " Name: house_style, dtype: int64,\n",
       " 'OVERALL_QUAL',\n",
       " 5     563\n",
       " 6     506\n",
       " 7     431\n",
       " 8     250\n",
       " 4     159\n",
       " 9      77\n",
       " 3      29\n",
       " 10     23\n",
       " 2       9\n",
       " 1       4\n",
       " Name: overall_qual, dtype: int64,\n",
       " 'OVERALL_COND',\n",
       " 5    1168\n",
       " 6     368\n",
       " 7     270\n",
       " 8     101\n",
       " 4      70\n",
       " 3      35\n",
       " 9      29\n",
       " 2       6\n",
       " 1       4\n",
       " Name: overall_cond, dtype: int64]"
      ]
     },
     "execution_count": 64,
     "metadata": {},
     "output_type": "execute_result"
    }
   ],
   "source": [
    "mass_value(ames_1st_20)"
   ]
  },
  {
   "cell_type": "code",
   "execution_count": 65,
   "metadata": {},
   "outputs": [],
   "source": [
    "#create a dataframe for the purpose of understanding correlations between the conditions features. \n",
    "cond_df = ames.loc[:, ['overall_qual', 'overall_cond']]"
   ]
  },
  {
   "cell_type": "code",
   "execution_count": 66,
   "metadata": {},
   "outputs": [
    {
     "data": {
      "text/html": [
       "<div>\n",
       "<style scoped>\n",
       "    .dataframe tbody tr th:only-of-type {\n",
       "        vertical-align: middle;\n",
       "    }\n",
       "\n",
       "    .dataframe tbody tr th {\n",
       "        vertical-align: top;\n",
       "    }\n",
       "\n",
       "    .dataframe thead th {\n",
       "        text-align: right;\n",
       "    }\n",
       "</style>\n",
       "<table border=\"1\" class=\"dataframe\">\n",
       "  <thead>\n",
       "    <tr style=\"text-align: right;\">\n",
       "      <th></th>\n",
       "      <th>overall_qual</th>\n",
       "      <th>overall_cond</th>\n",
       "    </tr>\n",
       "  </thead>\n",
       "  <tbody>\n",
       "    <tr>\n",
       "      <th>overall_qual</th>\n",
       "      <td>1.00000</td>\n",
       "      <td>-0.08277</td>\n",
       "    </tr>\n",
       "    <tr>\n",
       "      <th>overall_cond</th>\n",
       "      <td>-0.08277</td>\n",
       "      <td>1.00000</td>\n",
       "    </tr>\n",
       "  </tbody>\n",
       "</table>\n",
       "</div>"
      ],
      "text/plain": [
       "              overall_qual  overall_cond\n",
       "overall_qual       1.00000      -0.08277\n",
       "overall_cond      -0.08277       1.00000"
      ]
     },
     "execution_count": 66,
     "metadata": {},
     "output_type": "execute_result"
    }
   ],
   "source": [
    "#overall quality and condition are highly correlated to each other. I will remove overall condition score. \n",
    "cond_df.corr()"
   ]
  },
  {
   "cell_type": "code",
   "execution_count": 67,
   "metadata": {},
   "outputs": [],
   "source": [
    "ames_1st_20.drop(columns = ['pid', 'alley', \n",
    "                            'lot_shape', 'street', 'land_contour', \n",
    "                            'utilities', 'land_slope'], inplace = True)"
   ]
  },
  {
   "cell_type": "code",
   "execution_count": 68,
   "metadata": {},
   "outputs": [
    {
     "data": {
      "text/plain": [
       "<matplotlib.axes._subplots.AxesSubplot at 0x7f80d0145550>"
      ]
     },
     "execution_count": 68,
     "metadata": {},
     "output_type": "execute_result"
    },
    {
     "data": {
      "image/png": "[encoded data removed]",
      "text/plain": [
       "<Figure size 1728x720 with 3 Axes>"
      ]
     },
     "metadata": {
      "needs_background": "light"
     },
     "output_type": "display_data"
    }
   ],
   "source": [
    "msno.bar(ames_1st_20)"
   ]
  },
  {
   "cell_type": "markdown",
   "metadata": {},
   "source": [
    "#### TTD 1st 20 columns [ABOVE]\n",
    "\n",
    "##### delete columns (Initial Qualitative Decisions. Quantitative Drops may be made later.)\n",
    "* [X] 'alley' column because vast majority are missing values and it is not that important.\n",
    "* [X] lot_shape (1295 for reg and 692 for IR1 the rest only comprise 55 and 9)\n",
    "* [X] eliminate street. Only 7 gravel compared to 2044 paved. \n",
    "* [X] land_contour. 1843 for lvl. 208 for all other 3 categories combined. \n",
    "* [X] utilities. 2049 for allpub. 2 total for other 2 categories.\n",
    "* [X] land slope. 1954 for Gtl and 98 for other 2. \n",
    "* [X] id because it is essentially an index\n",
    "* [X] pid because it is a locator id. \n",
    "\n",
    "###### Other Cleaning Tasks\n",
    "* [X] replace null values in frontage with mean of frontage."
   ]
  },
  {
   "cell_type": "code",
   "execution_count": null,
   "metadata": {},
   "outputs": [],
   "source": [
    "ames"
   ]
  },
  {
   "cell_type": "code",
   "execution_count": 69,
   "metadata": {},
   "outputs": [],
   "source": [
    "def mean_min_max_std(df):\n",
    "    # function that takes in a dataframe and returns value_counts for all columns. \n",
    "    value_list = []\n",
    "    for item in df.columns:\n",
    "        if df[item].dtypes == float or df[item].dtypes == int:\n",
    "            value_list.append((item.upper(), \n",
    "                              f' mean: {df[item].mean()}',\n",
    "                              f' min: {df[item].min()}',\n",
    "                              f' max: {df[item].max()}',\n",
    "                              f' std_dev: {df[item].std()}'))\n",
    "    return value_list\n",
    "    "
   ]
  },
  {
   "cell_type": "code",
   "execution_count": 70,
   "metadata": {},
   "outputs": [
    {
     "data": {
      "text/plain": [
       "[('ID',\n",
       "  ' mean: 1474.0336421257923',\n",
       "  ' min: 1',\n",
       "  ' max: 2930',\n",
       "  ' std_dev: 843.9808409219162'),\n",
       " ('MS_SUBCLASS',\n",
       "  ' mean: 57.00877620672843',\n",
       "  ' min: 20',\n",
       "  ' max: 190',\n",
       "  ' std_dev: 42.824222926774674'),\n",
       " ('LOT_FRONTAGE',\n",
       "  ' mean: 69.05520046484634',\n",
       "  ' min: 21.0',\n",
       "  ' max: 313.0',\n",
       "  ' std_dev: 21.30635718661978'),\n",
       " ('LOT_AREA',\n",
       "  ' mean: 10065.20819112628',\n",
       "  ' min: 1300',\n",
       "  ' max: 159000',\n",
       "  ' std_dev: 6742.488909496557'),\n",
       " ('OVERALL_QUAL',\n",
       "  ' mean: 6.1121404193076545',\n",
       "  ' min: 1',\n",
       "  ' max: 10',\n",
       "  ' std_dev: 1.4262705424542637'),\n",
       " ('OVERALL_COND',\n",
       "  ' mean: 5.562164797659678',\n",
       "  ' min: 1',\n",
       "  ' max: 9',\n",
       "  ' std_dev: 1.104497234325801')]"
      ]
     },
     "execution_count": 70,
     "metadata": {},
     "output_type": "execute_result"
    }
   ],
   "source": [
    "mean_min_max_std(ames_1st_20)"
   ]
  },
  {
   "cell_type": "markdown",
   "metadata": {},
   "source": [
    "TTD EDA 1st 20\n",
    "* [X] since the numerical values in 'ms_subclass is a classification system. Turn datatype into string object. "
   ]
  },
  {
   "cell_type": "code",
   "execution_count": 71,
   "metadata": {},
   "outputs": [],
   "source": [
    "ames_1st_20['ms_subclass'] = ames_1st_20['ms_subclass'].astype(str)"
   ]
  },
  {
   "cell_type": "code",
   "execution_count": 72,
   "metadata": {},
   "outputs": [
    {
     "data": {
      "text/plain": [
       "id                int64\n",
       "ms_subclass      object\n",
       "ms_zoning        object\n",
       "lot_frontage    float64\n",
       "lot_area          int64\n",
       "lot_config       object\n",
       "neighborhood     object\n",
       "condition_1      object\n",
       "condition_2      object\n",
       "bldg_type        object\n",
       "house_style      object\n",
       "overall_qual      int64\n",
       "overall_cond      int64\n",
       "dtype: object"
      ]
     },
     "execution_count": 72,
     "metadata": {},
     "output_type": "execute_result"
    }
   ],
   "source": [
    "ames_1st_20.dtypes"
   ]
  },
  {
   "cell_type": "code",
   "execution_count": 73,
   "metadata": {},
   "outputs": [
    {
     "data": {
      "text/plain": [
       "<matplotlib.axes._subplots.AxesSubplot at 0x7f80d56840a0>"
      ]
     },
     "execution_count": 73,
     "metadata": {},
     "output_type": "execute_result"
    },
    {
     "data": {
      "image/png": "[encoded data removed]",
      "text/plain": [
       "<Figure size 1728x720 with 3 Axes>"
      ]
     },
     "metadata": {
      "needs_background": "light"
     },
     "output_type": "display_data"
    }
   ],
   "source": [
    "msno.bar(ames_1st_20)"
   ]
  },
  {
   "cell_type": "markdown",
   "metadata": {},
   "source": [
    "# Initial cleaning 1st 20 columns complete\n",
    "________________________________________________"
   ]
  },
  {
   "cell_type": "markdown",
   "metadata": {},
   "source": [
    "# Begin Cleaning on 2nd 20 Columns"
   ]
  },
  {
   "cell_type": "code",
   "execution_count": 74,
   "metadata": {
    "scrolled": true
   },
   "outputs": [
    {
     "data": {
      "image/png": "[encoded data removed]",
      "text/plain": [
       "<Figure size 1728x720 with 3 Axes>"
      ]
     },
     "metadata": {
      "needs_background": "light"
     },
     "output_type": "display_data"
    }
   ],
   "source": [
    "msno.bar(ames_2nd_20);"
   ]
  },
  {
   "cell_type": "code",
   "execution_count": 75,
   "metadata": {},
   "outputs": [
    {
     "data": {
      "text/plain": [
       "['YEAR_BUILT',\n",
       " 2005    102\n",
       " 2006     99\n",
       " 2007     78\n",
       " 2004     72\n",
       " 2003     64\n",
       "        ... \n",
       " 1911      1\n",
       " 1893      1\n",
       " 1885      1\n",
       " 1879      1\n",
       " 1872      1\n",
       " Name: year_built, Length: 113, dtype: int64,\n",
       " 'YEAR_REMOD/ADD',\n",
       " 1950    262\n",
       " 2006    139\n",
       " 2007    123\n",
       " 2005    100\n",
       " 2004     83\n",
       "        ... \n",
       " 1952      9\n",
       " 2010      8\n",
       " 1983      7\n",
       " 1981      6\n",
       " 1982      3\n",
       " Name: year_remod/add, Length: 61, dtype: int64,\n",
       " 'ROOF_STYLE',\n",
       " Gable      1619\n",
       " Hip         397\n",
       " Flat         13\n",
       " Gambrel      12\n",
       " Mansard       7\n",
       " Shed          3\n",
       " Name: roof_style, dtype: int64,\n",
       " 'ROOF_MATL',\n",
       " CompShg    2025\n",
       " Tar&Grv      15\n",
       " WdShngl       5\n",
       " WdShake       4\n",
       " Membran       1\n",
       " ClyTile       1\n",
       " Name: roof_matl, dtype: int64,\n",
       " 'EXTERIOR_1ST',\n",
       " VinylSd    724\n",
       " MetalSd    331\n",
       " HdBoard    300\n",
       " Wd Sdng    276\n",
       " Plywood    152\n",
       " CemntBd     90\n",
       " BrkFace     64\n",
       " WdShing     45\n",
       " AsbShng     33\n",
       " Stucco      27\n",
       " BrkComm      3\n",
       " Stone        2\n",
       " CBlock       2\n",
       " ImStucc      1\n",
       " AsphShn      1\n",
       " Name: exterior_1st, dtype: int64,\n",
       " 'EXTERIOR_2ND',\n",
       " VinylSd    721\n",
       " MetalSd    324\n",
       " HdBoard    275\n",
       " Wd Sdng    262\n",
       " Plywood    185\n",
       " CmentBd     90\n",
       " Wd Shng     63\n",
       " BrkFace     34\n",
       " Stucco      30\n",
       " AsbShng     28\n",
       " Brk Cmn     17\n",
       " ImStucc     11\n",
       " Stone        6\n",
       " AsphShn      3\n",
       " CBlock       2\n",
       " Name: exterior_2nd, dtype: int64,\n",
       " 'MAS_VNR_TYPE',\n",
       " None       1218\n",
       " BrkFace     630\n",
       " Stone       168\n",
       " BrkCmn       13\n",
       " Name: mas_vnr_type, dtype: int64,\n",
       " 'MAS_VNR_AREA',\n",
       " 0.0      1216\n",
       " 120.0      11\n",
       " 176.0      10\n",
       " 200.0      10\n",
       " 180.0       9\n",
       "          ... \n",
       " 57.0        1\n",
       " 572.0       1\n",
       " 65.0        1\n",
       " 567.0       1\n",
       " 161.0       1\n",
       " Name: mas_vnr_area, Length: 373, dtype: int64,\n",
       " 'EXTER_QUAL',\n",
       " TA    1247\n",
       " Gd     697\n",
       " Ex      81\n",
       " Fa      26\n",
       " Name: exter_qual, dtype: int64,\n",
       " 'EXTER_COND',\n",
       " TA    1778\n",
       " Gd     215\n",
       " Fa      49\n",
       " Ex       7\n",
       " Po       2\n",
       " Name: exter_cond, dtype: int64,\n",
       " 'FOUNDATION',\n",
       " PConc     926\n",
       " CBlock    863\n",
       " BrkTil    221\n",
       " Slab       34\n",
       " Stone       5\n",
       " Wood        2\n",
       " Name: foundation, dtype: int64,\n",
       " 'BSMT_QUAL',\n",
       " TA    887\n",
       " Gd    864\n",
       " Ex    184\n",
       " Fa     60\n",
       " Po      1\n",
       " Name: bsmt_qual, dtype: int64,\n",
       " 'BSMT_COND',\n",
       " TA    1834\n",
       " Gd      89\n",
       " Fa      65\n",
       " Po       5\n",
       " Ex       3\n",
       " Name: bsmt_cond, dtype: int64,\n",
       " 'BSMT_EXPOSURE',\n",
       " No    1339\n",
       " Av     288\n",
       " Gd     203\n",
       " Mn     163\n",
       " Name: bsmt_exposure, dtype: int64,\n",
       " 'BSMTFIN_TYPE_1',\n",
       " GLQ    615\n",
       " Unf    603\n",
       " ALQ    293\n",
       " BLQ    200\n",
       " Rec    183\n",
       " LwQ    102\n",
       " Name: bsmtfin_type_1, dtype: int64,\n",
       " 'BSMTFIN_TYPE_2',\n",
       " Unf    1749\n",
       " Rec      80\n",
       " LwQ      60\n",
       " BLQ      48\n",
       " ALQ      35\n",
       " GLQ      23\n",
       " Name: bsmtfin_type_2, dtype: int64,\n",
       " 'HEATING',\n",
       " GasA    2018\n",
       " GasW      20\n",
       " Wall       6\n",
       " Grav       5\n",
       " OthW       2\n",
       " Name: heating, dtype: int64,\n",
       " 'HEATING_QC',\n",
       " Ex    1065\n",
       " TA     597\n",
       " Gd     319\n",
       " Fa      67\n",
       " Po       3\n",
       " Name: heating_qc, dtype: int64,\n",
       " 'CENTRAL_AIR',\n",
       " Y    1910\n",
       " N     141\n",
       " Name: central_air, dtype: int64,\n",
       " 'ELECTRICAL',\n",
       " SBrkr    1868\n",
       " FuseA     140\n",
       " FuseF      35\n",
       " FuseP       7\n",
       " Mix         1\n",
       " Name: electrical, dtype: int64]"
      ]
     },
     "execution_count": 75,
     "metadata": {},
     "output_type": "execute_result"
    }
   ],
   "source": [
    "# call function from above to print all value_counts\n",
    "mass_value(ames_2nd_20)"
   ]
  },
  {
   "cell_type": "code",
   "execution_count": 76,
   "metadata": {},
   "outputs": [],
   "source": [
    "drp = ['roof_matl', 'exterior_2nd',\n",
    "       'bsmtfin_type_2', 'roof_style']"
   ]
  },
  {
   "cell_type": "code",
   "execution_count": 77,
   "metadata": {
    "scrolled": true
   },
   "outputs": [],
   "source": [
    "ames_2nd_20.drop(columns = drp, inplace = True)"
   ]
  },
  {
   "cell_type": "markdown",
   "metadata": {},
   "source": [
    "Columns to Remove\n",
    "* [X] roof_style. gable 1619 all other 5 columns = 434\n",
    "* [X] roof matl. 2025 values are same compShg\n",
    "* [X] exterior_2nd because it is identical to exterior_1st.\n",
    "* [X] bsmtfin_type_2 seems to be mostly unfinished.\n",
    "\n",
    "\n",
    "Close to dropping but decided to keep\n",
    "* [ ] remove mas_vnr_area because most values are zero\n",
    "* [ ] remove exter_qual because most values are good to average. \n",
    "* [ ] remove exter_cond because most values are good to average. \n",
    "* [ ] remove basement_qual because most values are good to average. \n",
    "* [ ] remove basement_cond because nearly all values are average. \n",
    "* [ ] remove bsmt_exposure because more than half the values have no exposure and the ones that do have either minimum exposure or are of average condition. "
   ]
  },
  {
   "cell_type": "markdown",
   "metadata": {},
   "source": [
    "\n"
   ]
  },
  {
   "cell_type": "markdown",
   "metadata": {},
   "source": [
    "# Finish Cleaning 2nd Set of Columns\n",
    "_______________________"
   ]
  },
  {
   "cell_type": "markdown",
   "metadata": {},
   "source": [
    "# Begin Cleaning 3rd Set of Columns"
   ]
  },
  {
   "cell_type": "code",
   "execution_count": 78,
   "metadata": {
    "scrolled": false
   },
   "outputs": [
    {
     "data": {
      "image/png": "[encoded data removed]",
      "text/plain": [
       "<Figure size 1728x720 with 3 Axes>"
      ]
     },
     "metadata": {
      "needs_background": "light"
     },
     "output_type": "display_data"
    }
   ],
   "source": [
    "msno.bar(ames_3rd_20);"
   ]
  },
  {
   "cell_type": "code",
   "execution_count": 79,
   "metadata": {
    "scrolled": true
   },
   "outputs": [
    {
     "data": {
      "text/plain": [
       "['BEDROOM_ABVGR',\n",
       " 3    1108\n",
       " 2     544\n",
       " 4     265\n",
       " 1      75\n",
       " 5      41\n",
       " 6      12\n",
       " 0       5\n",
       " 8       1\n",
       " Name: bedroom_abvgr, dtype: int64,\n",
       " 'KITCHEN_ABVGR',\n",
       " 1    1960\n",
       " 2      88\n",
       " 0       2\n",
       " 3       1\n",
       " Name: kitchen_abvgr, dtype: int64,\n",
       " 'KITCHEN_QUAL',\n",
       " TA    1047\n",
       " Gd     806\n",
       " Ex     151\n",
       " Fa      47\n",
       " Name: kitchen_qual, dtype: int64,\n",
       " 'TOTRMS_ABVGRD',\n",
       " 6     597\n",
       " 7     475\n",
       " 5     407\n",
       " 8     228\n",
       " 4     146\n",
       " 9      98\n",
       " 10     49\n",
       " 11     22\n",
       " 12     13\n",
       " 3      12\n",
       " 15      1\n",
       " 13      1\n",
       " 14      1\n",
       " 2       1\n",
       " Name: totrms_abvgrd, dtype: int64,\n",
       " 'FUNCTIONAL',\n",
       " Typ     1915\n",
       " Min2      42\n",
       " Min1      42\n",
       " Mod       29\n",
       " Maj1      12\n",
       " Maj2       7\n",
       " Sev        2\n",
       " Sal        2\n",
       " Name: functional, dtype: int64,\n",
       " 'FIREPLACES',\n",
       " 0    1000\n",
       " 1     898\n",
       " 2     146\n",
       " 3       6\n",
       " 4       1\n",
       " Name: fireplaces, dtype: int64,\n",
       " 'FIREPLACE_QU',\n",
       " Gd    523\n",
       " TA    407\n",
       " Fa     59\n",
       " Po     31\n",
       " Ex     31\n",
       " Name: fireplace_qu, dtype: int64,\n",
       " 'GARAGE_TYPE',\n",
       " Attchd     1213\n",
       " Detchd      536\n",
       " BuiltIn     132\n",
       " Basment      27\n",
       " 2Types       19\n",
       " CarPort      11\n",
       " Name: garage_type, dtype: int64,\n",
       " 'GARAGE_YR_BLT',\n",
       " 2005.0    105\n",
       " 2007.0     84\n",
       " 2006.0     80\n",
       " 2004.0     72\n",
       " 2003.0     66\n",
       "          ... \n",
       " 1917.0      1\n",
       " 1919.0      1\n",
       " 1896.0      1\n",
       " 1895.0      1\n",
       " 1918.0      1\n",
       " Name: garage_yr_blt, Length: 100, dtype: int64,\n",
       " 'GARAGE_FINISH',\n",
       " Unf    849\n",
       " RFn    579\n",
       " Fin    509\n",
       " Name: garage_finish, dtype: int64,\n",
       " 'GARAGE_CARS',\n",
       " 2.0    1136\n",
       " 1.0     524\n",
       " 3.0     263\n",
       " 0.0     113\n",
       " 4.0      13\n",
       " 5.0       1\n",
       " Name: garage_cars, dtype: int64,\n",
       " 'GARAGE_AREA',\n",
       " 0.0       113\n",
       " 440.0      70\n",
       " 576.0      69\n",
       " 484.0      52\n",
       " 528.0      46\n",
       "          ... \n",
       " 406.0       1\n",
       " 309.0       1\n",
       " 580.0       1\n",
       " 1184.0      1\n",
       " 557.0       1\n",
       " Name: garage_area, Length: 514, dtype: int64,\n",
       " 'GARAGE_QUAL',\n",
       " TA    1832\n",
       " Fa      82\n",
       " Gd      18\n",
       " Ex       3\n",
       " Po       2\n",
       " Name: garage_qual, dtype: int64,\n",
       " 'GARAGE_COND',\n",
       " TA    1868\n",
       " Fa      47\n",
       " Gd      12\n",
       " Po       8\n",
       " Ex       2\n",
       " Name: garage_cond, dtype: int64,\n",
       " 'PAVED_DRIVE',\n",
       " Y    1861\n",
       " N     151\n",
       " P      39\n",
       " Name: paved_drive, dtype: int64,\n",
       " 'WOOD_DECK_SF',\n",
       " 0      1075\n",
       " 100      53\n",
       " 144      46\n",
       " 192      43\n",
       " 120      40\n",
       "        ... \n",
       " 586       1\n",
       " 576       1\n",
       " 550       1\n",
       " 546       1\n",
       " 394       1\n",
       " Name: wood_deck_sf, Length: 322, dtype: int64,\n",
       " 'OPEN_PORCH_SF',\n",
       " 0      912\n",
       " 48      40\n",
       " 36      38\n",
       " 40      34\n",
       " 32      29\n",
       "       ... \n",
       " 444      1\n",
       " 484      1\n",
       " 502      1\n",
       " 15       1\n",
       " 276      1\n",
       " Name: open_porch_sf, Length: 223, dtype: int64,\n",
       " 'ENCLOSED_PORCH',\n",
       " 0      1724\n",
       " 112      13\n",
       " 96       10\n",
       " 216       6\n",
       " 84        6\n",
       "        ... \n",
       " 190       1\n",
       " 194       1\n",
       " 196       1\n",
       " 198       1\n",
       " 301       1\n",
       " Name: enclosed_porch, Length: 159, dtype: int64,\n",
       " '3SSN_PORCH',\n",
       " 0      2025\n",
       " 153       3\n",
       " 168       3\n",
       " 144       2\n",
       " 176       1\n",
       " 86        1\n",
       " 96        1\n",
       " 120       1\n",
       " 140       1\n",
       " 150       1\n",
       " 162       1\n",
       " 407       1\n",
       " 323       1\n",
       " 182       1\n",
       " 216       1\n",
       " 224       1\n",
       " 290       1\n",
       " 304       1\n",
       " 508       1\n",
       " 245       1\n",
       " 255       1\n",
       " 180       1\n",
       " Name: 3ssn_porch, dtype: int64,\n",
       " 'SCREEN_PORCH',\n",
       " 0      1870\n",
       " 144       9\n",
       " 168       8\n",
       " 180       7\n",
       " 192       7\n",
       "        ... \n",
       " 143       1\n",
       " 198       1\n",
       " 196       1\n",
       " 190       1\n",
       " 385       1\n",
       " Name: screen_porch, Length: 100, dtype: int64]"
      ]
     },
     "execution_count": 79,
     "metadata": {},
     "output_type": "execute_result"
    }
   ],
   "source": [
    "#call function from above printing all value counts for all columns\n",
    "mass_value(ames_3rd_20)"
   ]
  },
  {
   "cell_type": "code",
   "execution_count": 80,
   "metadata": {},
   "outputs": [
    {
     "data": {
      "text/html": [
       "<div>\n",
       "<style scoped>\n",
       "    .dataframe tbody tr th:only-of-type {\n",
       "        vertical-align: middle;\n",
       "    }\n",
       "\n",
       "    .dataframe tbody tr th {\n",
       "        vertical-align: top;\n",
       "    }\n",
       "\n",
       "    .dataframe thead th {\n",
       "        text-align: right;\n",
       "    }\n",
       "</style>\n",
       "<table border=\"1\" class=\"dataframe\">\n",
       "  <thead>\n",
       "    <tr style=\"text-align: right;\">\n",
       "      <th></th>\n",
       "      <th>garage_cars</th>\n",
       "      <th>garage_area</th>\n",
       "    </tr>\n",
       "  </thead>\n",
       "  <tbody>\n",
       "    <tr>\n",
       "      <th>bedroom_abvgr</th>\n",
       "      <td>0.085918</td>\n",
       "      <td>0.069940</td>\n",
       "    </tr>\n",
       "    <tr>\n",
       "      <th>kitchen_abvgr</th>\n",
       "      <td>-0.034496</td>\n",
       "      <td>-0.068536</td>\n",
       "    </tr>\n",
       "    <tr>\n",
       "      <th>totrms_abvgrd</th>\n",
       "      <td>0.368034</td>\n",
       "      <td>0.341143</td>\n",
       "    </tr>\n",
       "    <tr>\n",
       "      <th>fireplaces</th>\n",
       "      <td>0.310687</td>\n",
       "      <td>0.291655</td>\n",
       "    </tr>\n",
       "    <tr>\n",
       "      <th>garage_yr_blt</th>\n",
       "      <td>0.579623</td>\n",
       "      <td>0.552069</td>\n",
       "    </tr>\n",
       "    <tr>\n",
       "      <th>garage_cars</th>\n",
       "      <td>1.000000</td>\n",
       "      <td>0.893180</td>\n",
       "    </tr>\n",
       "    <tr>\n",
       "      <th>garage_area</th>\n",
       "      <td>0.893180</td>\n",
       "      <td>1.000000</td>\n",
       "    </tr>\n",
       "    <tr>\n",
       "      <th>wood_deck_sf</th>\n",
       "      <td>0.240721</td>\n",
       "      <td>0.245513</td>\n",
       "    </tr>\n",
       "    <tr>\n",
       "      <th>open_porch_sf</th>\n",
       "      <td>0.215364</td>\n",
       "      <td>0.247222</td>\n",
       "    </tr>\n",
       "    <tr>\n",
       "      <th>enclosed_porch</th>\n",
       "      <td>-0.139608</td>\n",
       "      <td>-0.112353</td>\n",
       "    </tr>\n",
       "    <tr>\n",
       "      <th>3ssn_porch</th>\n",
       "      <td>0.028393</td>\n",
       "      <td>0.043918</td>\n",
       "    </tr>\n",
       "    <tr>\n",
       "      <th>screen_porch</th>\n",
       "      <td>0.053582</td>\n",
       "      <td>0.071067</td>\n",
       "    </tr>\n",
       "  </tbody>\n",
       "</table>\n",
       "</div>"
      ],
      "text/plain": [
       "                garage_cars  garage_area\n",
       "bedroom_abvgr      0.085918     0.069940\n",
       "kitchen_abvgr     -0.034496    -0.068536\n",
       "totrms_abvgrd      0.368034     0.341143\n",
       "fireplaces         0.310687     0.291655\n",
       "garage_yr_blt      0.579623     0.552069\n",
       "garage_cars        1.000000     0.893180\n",
       "garage_area        0.893180     1.000000\n",
       "wood_deck_sf       0.240721     0.245513\n",
       "open_porch_sf      0.215364     0.247222\n",
       "enclosed_porch    -0.139608    -0.112353\n",
       "3ssn_porch         0.028393     0.043918\n",
       "screen_porch       0.053582     0.071067"
      ]
     },
     "execution_count": 80,
     "metadata": {},
     "output_type": "execute_result"
    }
   ],
   "source": [
    "pd.DataFrame(ames_3rd_20.corr(), columns = ['garage_cars', 'garage_area'])"
   ]
  },
  {
   "cell_type": "markdown",
   "metadata": {},
   "source": [
    "Garage cars and area are too correlated so I am dropping area. I feel area is better because most people look to number of cars as the key measurement for a good garage. "
   ]
  },
  {
   "cell_type": "code",
   "execution_count": 81,
   "metadata": {},
   "outputs": [],
   "source": [
    "ames_3rd_20.drop(columns = ['garage_area',  'garage_qual', 'garage_cond', 'fireplace_qu'], inplace = True)"
   ]
  },
  {
   "cell_type": "code",
   "execution_count": 82,
   "metadata": {},
   "outputs": [
    {
     "data": {
      "text/html": [
       "<div>\n",
       "<style scoped>\n",
       "    .dataframe tbody tr th:only-of-type {\n",
       "        vertical-align: middle;\n",
       "    }\n",
       "\n",
       "    .dataframe tbody tr th {\n",
       "        vertical-align: top;\n",
       "    }\n",
       "\n",
       "    .dataframe thead th {\n",
       "        text-align: right;\n",
       "    }\n",
       "</style>\n",
       "<table border=\"1\" class=\"dataframe\">\n",
       "  <thead>\n",
       "    <tr style=\"text-align: right;\">\n",
       "      <th></th>\n",
       "      <th>bedroom_abvgr</th>\n",
       "      <th>kitchen_abvgr</th>\n",
       "      <th>kitchen_qual</th>\n",
       "      <th>totrms_abvgrd</th>\n",
       "      <th>functional</th>\n",
       "      <th>fireplaces</th>\n",
       "      <th>garage_type</th>\n",
       "      <th>garage_yr_blt</th>\n",
       "      <th>garage_finish</th>\n",
       "      <th>garage_cars</th>\n",
       "      <th>paved_drive</th>\n",
       "      <th>wood_deck_sf</th>\n",
       "      <th>open_porch_sf</th>\n",
       "      <th>enclosed_porch</th>\n",
       "      <th>3ssn_porch</th>\n",
       "      <th>screen_porch</th>\n",
       "    </tr>\n",
       "  </thead>\n",
       "  <tbody>\n",
       "    <tr>\n",
       "      <th>0</th>\n",
       "      <td>3</td>\n",
       "      <td>1</td>\n",
       "      <td>Gd</td>\n",
       "      <td>6</td>\n",
       "      <td>Typ</td>\n",
       "      <td>0</td>\n",
       "      <td>Attchd</td>\n",
       "      <td>1976.0</td>\n",
       "      <td>RFn</td>\n",
       "      <td>2.0</td>\n",
       "      <td>Y</td>\n",
       "      <td>0</td>\n",
       "      <td>44</td>\n",
       "      <td>0</td>\n",
       "      <td>0</td>\n",
       "      <td>0</td>\n",
       "    </tr>\n",
       "    <tr>\n",
       "      <th>1</th>\n",
       "      <td>4</td>\n",
       "      <td>1</td>\n",
       "      <td>Gd</td>\n",
       "      <td>8</td>\n",
       "      <td>Typ</td>\n",
       "      <td>1</td>\n",
       "      <td>Attchd</td>\n",
       "      <td>1997.0</td>\n",
       "      <td>RFn</td>\n",
       "      <td>2.0</td>\n",
       "      <td>Y</td>\n",
       "      <td>0</td>\n",
       "      <td>74</td>\n",
       "      <td>0</td>\n",
       "      <td>0</td>\n",
       "      <td>0</td>\n",
       "    </tr>\n",
       "    <tr>\n",
       "      <th>2</th>\n",
       "      <td>3</td>\n",
       "      <td>1</td>\n",
       "      <td>Gd</td>\n",
       "      <td>5</td>\n",
       "      <td>Typ</td>\n",
       "      <td>0</td>\n",
       "      <td>Detchd</td>\n",
       "      <td>1953.0</td>\n",
       "      <td>Unf</td>\n",
       "      <td>1.0</td>\n",
       "      <td>Y</td>\n",
       "      <td>0</td>\n",
       "      <td>52</td>\n",
       "      <td>0</td>\n",
       "      <td>0</td>\n",
       "      <td>0</td>\n",
       "    </tr>\n",
       "    <tr>\n",
       "      <th>3</th>\n",
       "      <td>3</td>\n",
       "      <td>1</td>\n",
       "      <td>TA</td>\n",
       "      <td>7</td>\n",
       "      <td>Typ</td>\n",
       "      <td>0</td>\n",
       "      <td>BuiltIn</td>\n",
       "      <td>2007.0</td>\n",
       "      <td>Fin</td>\n",
       "      <td>2.0</td>\n",
       "      <td>Y</td>\n",
       "      <td>100</td>\n",
       "      <td>0</td>\n",
       "      <td>0</td>\n",
       "      <td>0</td>\n",
       "      <td>0</td>\n",
       "    </tr>\n",
       "    <tr>\n",
       "      <th>4</th>\n",
       "      <td>3</td>\n",
       "      <td>1</td>\n",
       "      <td>TA</td>\n",
       "      <td>6</td>\n",
       "      <td>Typ</td>\n",
       "      <td>0</td>\n",
       "      <td>Detchd</td>\n",
       "      <td>1957.0</td>\n",
       "      <td>Unf</td>\n",
       "      <td>2.0</td>\n",
       "      <td>N</td>\n",
       "      <td>0</td>\n",
       "      <td>59</td>\n",
       "      <td>0</td>\n",
       "      <td>0</td>\n",
       "      <td>0</td>\n",
       "    </tr>\n",
       "  </tbody>\n",
       "</table>\n",
       "</div>"
      ],
      "text/plain": [
       "   bedroom_abvgr  kitchen_abvgr kitchen_qual  totrms_abvgrd functional  \\\n",
       "0              3              1           Gd              6        Typ   \n",
       "1              4              1           Gd              8        Typ   \n",
       "2              3              1           Gd              5        Typ   \n",
       "3              3              1           TA              7        Typ   \n",
       "4              3              1           TA              6        Typ   \n",
       "\n",
       "   fireplaces garage_type  garage_yr_blt garage_finish  garage_cars  \\\n",
       "0           0      Attchd         1976.0           RFn          2.0   \n",
       "1           1      Attchd         1997.0           RFn          2.0   \n",
       "2           0      Detchd         1953.0           Unf          1.0   \n",
       "3           0     BuiltIn         2007.0           Fin          2.0   \n",
       "4           0      Detchd         1957.0           Unf          2.0   \n",
       "\n",
       "  paved_drive  wood_deck_sf  open_porch_sf  enclosed_porch  3ssn_porch  \\\n",
       "0           Y             0             44               0           0   \n",
       "1           Y             0             74               0           0   \n",
       "2           Y             0             52               0           0   \n",
       "3           Y           100              0               0           0   \n",
       "4           N             0             59               0           0   \n",
       "\n",
       "   screen_porch  \n",
       "0             0  \n",
       "1             0  \n",
       "2             0  \n",
       "3             0  \n",
       "4             0  "
      ]
     },
     "execution_count": 82,
     "metadata": {},
     "output_type": "execute_result"
    }
   ],
   "source": [
    "ames_3rd_20.head()"
   ]
  },
  {
   "cell_type": "markdown",
   "metadata": {},
   "source": [
    "Columns to Remove\n",
    "* [X] fireplace_qu because most values are null or of fair or good quality. There's already a column for indicating existence of fireplace. \n",
    "* [X] garage_cond. nearly all values are average\n",
    "* [X] garage_qual. nearly all values are average and nearly identical to garage_cond\n",
    "* [X] garage_area. Garage area and cars is highly correlated. Keeping cars and dropping area because I think cars value is marketed more to home buyers and likely corresponds to area. \n",
    "\n",
    "ALmost but didn't \n",
    "* [X] paved_drive. nearly all values are less but leaving in because I feel a paved driveway is important to people. "
   ]
  },
  {
   "cell_type": "code",
   "execution_count": 83,
   "metadata": {},
   "outputs": [
    {
     "data": {
      "image/png": "[encoded data removed]",
      "text/plain": [
       "<Figure size 1728x720 with 3 Axes>"
      ]
     },
     "metadata": {
      "needs_background": "light"
     },
     "output_type": "display_data"
    }
   ],
   "source": [
    "msno.bar(ames_3rd_20);"
   ]
  },
  {
   "cell_type": "markdown",
   "metadata": {},
   "source": [
    "\n",
    "# Finish Cleaning 3rd Set of Columns\n",
    "________________________"
   ]
  },
  {
   "cell_type": "markdown",
   "metadata": {},
   "source": [
    "# Begin Cleaning 4th Set of Columns"
   ]
  },
  {
   "cell_type": "code",
   "execution_count": 84,
   "metadata": {},
   "outputs": [
    {
     "data": {
      "image/png": "[encoded data removed]",
      "text/plain": [
       "<Figure size 1728x720 with 3 Axes>"
      ]
     },
     "metadata": {
      "needs_background": "light"
     },
     "output_type": "display_data"
    }
   ],
   "source": [
    "msno.bar(ames_4th_20);"
   ]
  },
  {
   "cell_type": "markdown",
   "metadata": {},
   "source": [
    "#### Value Counts for all 20 columns"
   ]
  },
  {
   "cell_type": "code",
   "execution_count": 85,
   "metadata": {},
   "outputs": [
    {
     "data": {
      "text/plain": [
       "['POOL_AREA',\n",
       " 0      2042\n",
       " 561       1\n",
       " 519       1\n",
       " 800       1\n",
       " 738       1\n",
       " 648       1\n",
       " 576       1\n",
       " 480       1\n",
       " 368       1\n",
       " 228       1\n",
       " Name: pool_area, dtype: int64,\n",
       " 'POOL_QC',\n",
       " Gd    4\n",
       " Fa    2\n",
       " TA    2\n",
       " Ex    1\n",
       " Name: pool_qc, dtype: int64,\n",
       " 'FENCE',\n",
       " MnPrv    227\n",
       " GdPrv     83\n",
       " GdWo      80\n",
       " MnWw      10\n",
       " Name: fence, dtype: int64,\n",
       " 'MISC_FEATURE',\n",
       " Shed    56\n",
       " Gar2     4\n",
       " Othr     3\n",
       " TenC     1\n",
       " Elev     1\n",
       " Name: misc_feature, dtype: int64,\n",
       " 'MISC_VAL',\n",
       " 0        1986\n",
       " 400        12\n",
       " 500         8\n",
       " 600         6\n",
       " 2000        5\n",
       " 450         5\n",
       " 700         4\n",
       " 2500        2\n",
       " 4500        2\n",
       " 3000        2\n",
       " 1200        2\n",
       " 80          1\n",
       " 8300        1\n",
       " 12500       1\n",
       " 460         1\n",
       " 300         1\n",
       " 54          1\n",
       " 3500        1\n",
       " 480         1\n",
       " 650         1\n",
       " 800         1\n",
       " 900         1\n",
       " 1150        1\n",
       " 1300        1\n",
       " 1500        1\n",
       " 6500        1\n",
       " 455         1\n",
       " 17000       1\n",
       " Name: misc_val, dtype: int64,\n",
       " 'MO_SOLD',\n",
       " 6     352\n",
       " 7     303\n",
       " 5     257\n",
       " 4     208\n",
       " 3     168\n",
       " 8     167\n",
       " 10    123\n",
       " 9     109\n",
       " 2     104\n",
       " 11    103\n",
       " 1      79\n",
       " 12     78\n",
       " Name: mo_sold, dtype: int64,\n",
       " 'YR_SOLD',\n",
       " 2007    498\n",
       " 2009    446\n",
       " 2006    438\n",
       " 2008    435\n",
       " 2010    234\n",
       " Name: yr_sold, dtype: int64,\n",
       " 'SALE_TYPE',\n",
       " WD       1781\n",
       " New       160\n",
       " COD        63\n",
       " ConLD      17\n",
       " CWD        10\n",
       " ConLI       7\n",
       " ConLw       5\n",
       " Oth         4\n",
       " Con         4\n",
       " Name: sale_type, dtype: int64,\n",
       " 'SALEPRICE',\n",
       " 130000    25\n",
       " 140000    22\n",
       " 145000    20\n",
       " 135000    19\n",
       " 160000    16\n",
       "           ..\n",
       " 289000     1\n",
       " 129250     1\n",
       " 76000      1\n",
       " 206900     1\n",
       " 169985     1\n",
       " Name: saleprice, Length: 828, dtype: int64,\n",
       " 'TTL_SF',\n",
       " 1728.0    24\n",
       " 2184.0    13\n",
       " 2080.0    12\n",
       " 1824.0    10\n",
       " 1638.0    10\n",
       "           ..\n",
       " 1716.0     1\n",
       " 3288.0     1\n",
       " 930.0      1\n",
       " 1525.0     1\n",
       " 2119.0     1\n",
       " Name: ttl_sf, Length: 1192, dtype: int64,\n",
       " 'TTL_BATH',\n",
       " 2.0    636\n",
       " 2.5    391\n",
       " 1.0    314\n",
       " 3.0    278\n",
       " 3.5    199\n",
       " 1.5    193\n",
       " 4.0     22\n",
       " 4.5     11\n",
       " 7.0      2\n",
       " 6.0      2\n",
       " 5.0      1\n",
       " Name: ttl_bath, dtype: int64]"
      ]
     },
     "execution_count": 85,
     "metadata": {},
     "output_type": "execute_result"
    }
   ],
   "source": [
    "mass_value(ames_4th_20)"
   ]
  },
  {
   "cell_type": "code",
   "execution_count": 86,
   "metadata": {},
   "outputs": [],
   "source": [
    "ames_4th_20.drop(columns = [ \n",
    "    'pool_qc', 'misc_feature', \n",
    "    'fence'], inplace = True)"
   ]
  },
  {
   "cell_type": "markdown",
   "metadata": {},
   "source": [
    "Columns to Drop\n",
    "\n",
    "\n",
    "* [X] pool_area. there are only 9 pools. I'm taking all pool columns out. \n",
    "* [X] pool_qc. see above\n",
    "* [X] misc_feature. features are too vague or rare to be categorized. \n",
    "* [X] fence. too many unknown values\n",
    "\n",
    "Columns I decided to leave based on judgement:\n",
    "    \n",
    "   \n",
    "    * misc_value. keeping these becaue the values seem to be estimate dollar values of the misc features which could add ot price. "
   ]
  },
  {
   "cell_type": "code",
   "execution_count": 87,
   "metadata": {},
   "outputs": [
    {
     "data": {
      "image/png": "[encoded data removed]",
      "text/plain": [
       "<Figure size 1728x720 with 3 Axes>"
      ]
     },
     "metadata": {
      "needs_background": "light"
     },
     "output_type": "display_data"
    }
   ],
   "source": [
    "msno.bar(ames_4th_20);"
   ]
  },
  {
   "cell_type": "markdown",
   "metadata": {},
   "source": [
    "# Finish Cleaning 4th Set of 20"
   ]
  },
  {
   "cell_type": "code",
   "execution_count": 88,
   "metadata": {},
   "outputs": [],
   "source": [
    "#create an initially cleaned dataframe\n",
    "ames_ic = pd.concat([ames_1st_20, ames_2nd_20, ames_3rd_20, ames_4th_20], axis = 1)"
   ]
  },
  {
   "cell_type": "code",
   "execution_count": 128,
   "metadata": {},
   "outputs": [
    {
     "data": {
      "text/html": [
       "<div>\n",
       "<style scoped>\n",
       "    .dataframe tbody tr th:only-of-type {\n",
       "        vertical-align: middle;\n",
       "    }\n",
       "\n",
       "    .dataframe tbody tr th {\n",
       "        vertical-align: top;\n",
       "    }\n",
       "\n",
       "    .dataframe thead th {\n",
       "        text-align: right;\n",
       "    }\n",
       "</style>\n",
       "<table border=\"1\" class=\"dataframe\">\n",
       "  <thead>\n",
       "    <tr style=\"text-align: right;\">\n",
       "      <th></th>\n",
       "      <th>ms_subclass</th>\n",
       "      <th>ms_zoning</th>\n",
       "      <th>lot_frontage</th>\n",
       "      <th>lot_area</th>\n",
       "      <th>lot_config</th>\n",
       "      <th>neighborhood</th>\n",
       "      <th>condition_1</th>\n",
       "      <th>condition_2</th>\n",
       "      <th>bldg_type</th>\n",
       "      <th>house_style</th>\n",
       "      <th>...</th>\n",
       "      <th>3ssn_porch</th>\n",
       "      <th>screen_porch</th>\n",
       "      <th>pool_area</th>\n",
       "      <th>misc_val</th>\n",
       "      <th>mo_sold</th>\n",
       "      <th>yr_sold</th>\n",
       "      <th>sale_type</th>\n",
       "      <th>saleprice</th>\n",
       "      <th>ttl_sf</th>\n",
       "      <th>ttl_bath</th>\n",
       "    </tr>\n",
       "  </thead>\n",
       "  <tbody>\n",
       "    <tr>\n",
       "      <th>0</th>\n",
       "      <td>60</td>\n",
       "      <td>RL</td>\n",
       "      <td>69.0552</td>\n",
       "      <td>13517</td>\n",
       "      <td>CulDSac</td>\n",
       "      <td>Sawyer</td>\n",
       "      <td>RRAe</td>\n",
       "      <td>Norm</td>\n",
       "      <td>1Fam</td>\n",
       "      <td>2Story</td>\n",
       "      <td>...</td>\n",
       "      <td>0</td>\n",
       "      <td>0</td>\n",
       "      <td>0</td>\n",
       "      <td>0</td>\n",
       "      <td>3</td>\n",
       "      <td>2010</td>\n",
       "      <td>WD</td>\n",
       "      <td>130500</td>\n",
       "      <td>2204.0</td>\n",
       "      <td>2.5</td>\n",
       "    </tr>\n",
       "    <tr>\n",
       "      <th>1</th>\n",
       "      <td>60</td>\n",
       "      <td>RL</td>\n",
       "      <td>43.0000</td>\n",
       "      <td>11492</td>\n",
       "      <td>CulDSac</td>\n",
       "      <td>SawyerW</td>\n",
       "      <td>Norm</td>\n",
       "      <td>Norm</td>\n",
       "      <td>1Fam</td>\n",
       "      <td>2Story</td>\n",
       "      <td>...</td>\n",
       "      <td>0</td>\n",
       "      <td>0</td>\n",
       "      <td>0</td>\n",
       "      <td>0</td>\n",
       "      <td>4</td>\n",
       "      <td>2009</td>\n",
       "      <td>WD</td>\n",
       "      <td>220000</td>\n",
       "      <td>3035.0</td>\n",
       "      <td>3.5</td>\n",
       "    </tr>\n",
       "    <tr>\n",
       "      <th>2</th>\n",
       "      <td>20</td>\n",
       "      <td>RL</td>\n",
       "      <td>68.0000</td>\n",
       "      <td>7922</td>\n",
       "      <td>Inside</td>\n",
       "      <td>NAmes</td>\n",
       "      <td>Norm</td>\n",
       "      <td>Norm</td>\n",
       "      <td>1Fam</td>\n",
       "      <td>1Story</td>\n",
       "      <td>...</td>\n",
       "      <td>0</td>\n",
       "      <td>0</td>\n",
       "      <td>0</td>\n",
       "      <td>0</td>\n",
       "      <td>1</td>\n",
       "      <td>2010</td>\n",
       "      <td>WD</td>\n",
       "      <td>109000</td>\n",
       "      <td>2114.0</td>\n",
       "      <td>2.0</td>\n",
       "    </tr>\n",
       "    <tr>\n",
       "      <th>3</th>\n",
       "      <td>60</td>\n",
       "      <td>RL</td>\n",
       "      <td>73.0000</td>\n",
       "      <td>9802</td>\n",
       "      <td>Inside</td>\n",
       "      <td>Timber</td>\n",
       "      <td>Norm</td>\n",
       "      <td>Norm</td>\n",
       "      <td>1Fam</td>\n",
       "      <td>2Story</td>\n",
       "      <td>...</td>\n",
       "      <td>0</td>\n",
       "      <td>0</td>\n",
       "      <td>0</td>\n",
       "      <td>0</td>\n",
       "      <td>4</td>\n",
       "      <td>2010</td>\n",
       "      <td>WD</td>\n",
       "      <td>174000</td>\n",
       "      <td>1828.0</td>\n",
       "      <td>2.5</td>\n",
       "    </tr>\n",
       "    <tr>\n",
       "      <th>4</th>\n",
       "      <td>50</td>\n",
       "      <td>RL</td>\n",
       "      <td>82.0000</td>\n",
       "      <td>14235</td>\n",
       "      <td>Inside</td>\n",
       "      <td>SawyerW</td>\n",
       "      <td>Norm</td>\n",
       "      <td>Norm</td>\n",
       "      <td>1Fam</td>\n",
       "      <td>1.5Fin</td>\n",
       "      <td>...</td>\n",
       "      <td>0</td>\n",
       "      <td>0</td>\n",
       "      <td>0</td>\n",
       "      <td>0</td>\n",
       "      <td>3</td>\n",
       "      <td>2010</td>\n",
       "      <td>WD</td>\n",
       "      <td>138500</td>\n",
       "      <td>2121.0</td>\n",
       "      <td>2.0</td>\n",
       "    </tr>\n",
       "  </tbody>\n",
       "</table>\n",
       "<p>5 rows × 52 columns</p>\n",
       "</div>"
      ],
      "text/plain": [
       "  ms_subclass ms_zoning  lot_frontage  lot_area lot_config neighborhood  \\\n",
       "0          60        RL       69.0552     13517    CulDSac       Sawyer   \n",
       "1          60        RL       43.0000     11492    CulDSac      SawyerW   \n",
       "2          20        RL       68.0000      7922     Inside        NAmes   \n",
       "3          60        RL       73.0000      9802     Inside       Timber   \n",
       "4          50        RL       82.0000     14235     Inside      SawyerW   \n",
       "\n",
       "  condition_1 condition_2 bldg_type house_style  ...  3ssn_porch  \\\n",
       "0        RRAe        Norm      1Fam      2Story  ...           0   \n",
       "1        Norm        Norm      1Fam      2Story  ...           0   \n",
       "2        Norm        Norm      1Fam      1Story  ...           0   \n",
       "3        Norm        Norm      1Fam      2Story  ...           0   \n",
       "4        Norm        Norm      1Fam      1.5Fin  ...           0   \n",
       "\n",
       "   screen_porch  pool_area  misc_val mo_sold yr_sold  sale_type saleprice  \\\n",
       "0             0          0         0       3    2010        WD     130500   \n",
       "1             0          0         0       4    2009        WD     220000   \n",
       "2             0          0         0       1    2010        WD     109000   \n",
       "3             0          0         0       4    2010        WD     174000   \n",
       "4             0          0         0       3    2010        WD     138500   \n",
       "\n",
       "   ttl_sf ttl_bath  \n",
       "0  2204.0      2.5  \n",
       "1  3035.0      3.5  \n",
       "2  2114.0      2.0  \n",
       "3  1828.0      2.5  \n",
       "4  2121.0      2.0  \n",
       "\n",
       "[5 rows x 52 columns]"
      ]
     },
     "execution_count": 128,
     "metadata": {},
     "output_type": "execute_result"
    }
   ],
   "source": [
    "ames_ic.head()"
   ]
  },
  {
   "cell_type": "code",
   "execution_count": 89,
   "metadata": {},
   "outputs": [
    {
     "data": {
      "text/plain": [
       "(2051, 53)"
      ]
     },
     "execution_count": 89,
     "metadata": {},
     "output_type": "execute_result"
    }
   ],
   "source": [
    "ames_ic.shape"
   ]
  },
  {
   "cell_type": "code",
   "execution_count": 92,
   "metadata": {},
   "outputs": [
    {
     "data": {
      "text/html": [
       "<div>\n",
       "<style scoped>\n",
       "    .dataframe tbody tr th:only-of-type {\n",
       "        vertical-align: middle;\n",
       "    }\n",
       "\n",
       "    .dataframe tbody tr th {\n",
       "        vertical-align: top;\n",
       "    }\n",
       "\n",
       "    .dataframe thead th {\n",
       "        text-align: right;\n",
       "    }\n",
       "</style>\n",
       "<table border=\"1\" class=\"dataframe\">\n",
       "  <thead>\n",
       "    <tr style=\"text-align: right;\">\n",
       "      <th></th>\n",
       "      <th>id</th>\n",
       "      <th>ms_subclass</th>\n",
       "      <th>ms_zoning</th>\n",
       "      <th>lot_frontage</th>\n",
       "      <th>lot_area</th>\n",
       "      <th>lot_config</th>\n",
       "      <th>neighborhood</th>\n",
       "      <th>condition_1</th>\n",
       "      <th>condition_2</th>\n",
       "      <th>bldg_type</th>\n",
       "      <th>...</th>\n",
       "      <th>3ssn_porch</th>\n",
       "      <th>screen_porch</th>\n",
       "      <th>pool_area</th>\n",
       "      <th>misc_val</th>\n",
       "      <th>mo_sold</th>\n",
       "      <th>yr_sold</th>\n",
       "      <th>sale_type</th>\n",
       "      <th>saleprice</th>\n",
       "      <th>ttl_sf</th>\n",
       "      <th>ttl_bath</th>\n",
       "    </tr>\n",
       "  </thead>\n",
       "  <tbody>\n",
       "    <tr>\n",
       "      <th>0</th>\n",
       "      <td>109</td>\n",
       "      <td>60</td>\n",
       "      <td>RL</td>\n",
       "      <td>69.0552</td>\n",
       "      <td>13517</td>\n",
       "      <td>CulDSac</td>\n",
       "      <td>Sawyer</td>\n",
       "      <td>RRAe</td>\n",
       "      <td>Norm</td>\n",
       "      <td>1Fam</td>\n",
       "      <td>...</td>\n",
       "      <td>0</td>\n",
       "      <td>0</td>\n",
       "      <td>0</td>\n",
       "      <td>0</td>\n",
       "      <td>3</td>\n",
       "      <td>2010</td>\n",
       "      <td>WD</td>\n",
       "      <td>130500</td>\n",
       "      <td>2204.0</td>\n",
       "      <td>2.5</td>\n",
       "    </tr>\n",
       "    <tr>\n",
       "      <th>1</th>\n",
       "      <td>544</td>\n",
       "      <td>60</td>\n",
       "      <td>RL</td>\n",
       "      <td>43.0000</td>\n",
       "      <td>11492</td>\n",
       "      <td>CulDSac</td>\n",
       "      <td>SawyerW</td>\n",
       "      <td>Norm</td>\n",
       "      <td>Norm</td>\n",
       "      <td>1Fam</td>\n",
       "      <td>...</td>\n",
       "      <td>0</td>\n",
       "      <td>0</td>\n",
       "      <td>0</td>\n",
       "      <td>0</td>\n",
       "      <td>4</td>\n",
       "      <td>2009</td>\n",
       "      <td>WD</td>\n",
       "      <td>220000</td>\n",
       "      <td>3035.0</td>\n",
       "      <td>3.5</td>\n",
       "    </tr>\n",
       "    <tr>\n",
       "      <th>2</th>\n",
       "      <td>153</td>\n",
       "      <td>20</td>\n",
       "      <td>RL</td>\n",
       "      <td>68.0000</td>\n",
       "      <td>7922</td>\n",
       "      <td>Inside</td>\n",
       "      <td>NAmes</td>\n",
       "      <td>Norm</td>\n",
       "      <td>Norm</td>\n",
       "      <td>1Fam</td>\n",
       "      <td>...</td>\n",
       "      <td>0</td>\n",
       "      <td>0</td>\n",
       "      <td>0</td>\n",
       "      <td>0</td>\n",
       "      <td>1</td>\n",
       "      <td>2010</td>\n",
       "      <td>WD</td>\n",
       "      <td>109000</td>\n",
       "      <td>2114.0</td>\n",
       "      <td>2.0</td>\n",
       "    </tr>\n",
       "    <tr>\n",
       "      <th>3</th>\n",
       "      <td>318</td>\n",
       "      <td>60</td>\n",
       "      <td>RL</td>\n",
       "      <td>73.0000</td>\n",
       "      <td>9802</td>\n",
       "      <td>Inside</td>\n",
       "      <td>Timber</td>\n",
       "      <td>Norm</td>\n",
       "      <td>Norm</td>\n",
       "      <td>1Fam</td>\n",
       "      <td>...</td>\n",
       "      <td>0</td>\n",
       "      <td>0</td>\n",
       "      <td>0</td>\n",
       "      <td>0</td>\n",
       "      <td>4</td>\n",
       "      <td>2010</td>\n",
       "      <td>WD</td>\n",
       "      <td>174000</td>\n",
       "      <td>1828.0</td>\n",
       "      <td>2.5</td>\n",
       "    </tr>\n",
       "    <tr>\n",
       "      <th>4</th>\n",
       "      <td>255</td>\n",
       "      <td>50</td>\n",
       "      <td>RL</td>\n",
       "      <td>82.0000</td>\n",
       "      <td>14235</td>\n",
       "      <td>Inside</td>\n",
       "      <td>SawyerW</td>\n",
       "      <td>Norm</td>\n",
       "      <td>Norm</td>\n",
       "      <td>1Fam</td>\n",
       "      <td>...</td>\n",
       "      <td>0</td>\n",
       "      <td>0</td>\n",
       "      <td>0</td>\n",
       "      <td>0</td>\n",
       "      <td>3</td>\n",
       "      <td>2010</td>\n",
       "      <td>WD</td>\n",
       "      <td>138500</td>\n",
       "      <td>2121.0</td>\n",
       "      <td>2.0</td>\n",
       "    </tr>\n",
       "  </tbody>\n",
       "</table>\n",
       "<p>5 rows × 53 columns</p>\n",
       "</div>"
      ],
      "text/plain": [
       "    id ms_subclass ms_zoning  lot_frontage  lot_area lot_config neighborhood  \\\n",
       "0  109          60        RL       69.0552     13517    CulDSac       Sawyer   \n",
       "1  544          60        RL       43.0000     11492    CulDSac      SawyerW   \n",
       "2  153          20        RL       68.0000      7922     Inside        NAmes   \n",
       "3  318          60        RL       73.0000      9802     Inside       Timber   \n",
       "4  255          50        RL       82.0000     14235     Inside      SawyerW   \n",
       "\n",
       "  condition_1 condition_2 bldg_type  ... 3ssn_porch  screen_porch  pool_area  \\\n",
       "0        RRAe        Norm      1Fam  ...          0             0          0   \n",
       "1        Norm        Norm      1Fam  ...          0             0          0   \n",
       "2        Norm        Norm      1Fam  ...          0             0          0   \n",
       "3        Norm        Norm      1Fam  ...          0             0          0   \n",
       "4        Norm        Norm      1Fam  ...          0             0          0   \n",
       "\n",
       "   misc_val  mo_sold yr_sold sale_type  saleprice  ttl_sf ttl_bath  \n",
       "0         0        3    2010       WD      130500  2204.0      2.5  \n",
       "1         0        4    2009       WD      220000  3035.0      3.5  \n",
       "2         0        1    2010       WD      109000  2114.0      2.0  \n",
       "3         0        4    2010       WD      174000  1828.0      2.5  \n",
       "4         0        3    2010       WD      138500  2121.0      2.0  \n",
       "\n",
       "[5 rows x 53 columns]"
      ]
     },
     "execution_count": 92,
     "metadata": {},
     "output_type": "execute_result"
    }
   ],
   "source": [
    "#cleaned away over 30 columns\n",
    "ames_ic.head()"
   ]
  },
  {
   "cell_type": "code",
   "execution_count": 95,
   "metadata": {},
   "outputs": [],
   "source": [
    "#save df to csv\n",
    "ames_ic.to_csv('../datasets/ames_ic.csv')"
   ]
  },
  {
   "cell_type": "code",
   "execution_count": null,
   "metadata": {},
   "outputs": [],
   "source": []
  }
 ],
 "metadata": {
  "kernelspec": {
   "display_name": "Python 3",
   "language": "python",
   "name": "python3"
  },
  "language_info": {
   "codemirror_mode": {
    "name": "ipython",
    "version": 3
   },
   "file_extension": ".py",
   "mimetype": "text/x-python",
   "name": "python",
   "nbconvert_exporter": "python",
   "pygments_lexer": "ipython3",
   "version": "3.8.3"
  }
 },
 "nbformat": 4,
 "nbformat_minor": 4
}
