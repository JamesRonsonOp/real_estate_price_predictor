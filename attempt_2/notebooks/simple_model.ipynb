{
 "cells": [
  {
   "cell_type": "code",
   "execution_count": 553,
   "metadata": {},
   "outputs": [],
   "source": [
    "import pandas as pd\n",
    "import numpy as np\n",
    "import seaborn as sns\n",
    "import matplotlib.pyplot as plt\n",
    "import missingno as msno\n",
    "from sklearn.preprocessing import PolynomialFeatures, PowerTransformer\n",
    "from sklearn.model_selection import train_test_split, cross_val_score, cross_val_predict\n",
    "from sklearn.preprocessing import StandardScaler\n",
    "from sklearn.linear_model import LinearRegression, LassoCV, RidgeCV\n",
    "from sklearn.metrics import r2_score"
   ]
  },
  {
   "cell_type": "markdown",
   "metadata": {},
   "source": [
    "Import training set"
   ]
  },
  {
   "cell_type": "code",
   "execution_count": 554,
   "metadata": {},
   "outputs": [],
   "source": [
    "ames = pd.read_csv('/Users/jamesopacich/Documents/dsi/projects/project_2/starter_data/train.csv')"
   ]
  },
  {
   "cell_type": "markdown",
   "metadata": {},
   "source": [
    "Import test set"
   ]
  },
  {
   "cell_type": "code",
   "execution_count": 555,
   "metadata": {},
   "outputs": [],
   "source": [
    "test = pd.read_csv('/Users/jamesopacich/Documents/dsi/projects/project_2/starter_data/test.csv')"
   ]
  },
  {
   "cell_type": "code",
   "execution_count": 556,
   "metadata": {},
   "outputs": [
    {
     "data": {
      "text/html": [
       "<div>\n",
       "<style scoped>\n",
       "    .dataframe tbody tr th:only-of-type {\n",
       "        vertical-align: middle;\n",
       "    }\n",
       "\n",
       "    .dataframe tbody tr th {\n",
       "        vertical-align: top;\n",
       "    }\n",
       "\n",
       "    .dataframe thead th {\n",
       "        text-align: right;\n",
       "    }\n",
       "</style>\n",
       "<table border=\"1\" class=\"dataframe\">\n",
       "  <thead>\n",
       "    <tr style=\"text-align: right;\">\n",
       "      <th></th>\n",
       "      <th>Id</th>\n",
       "      <th>PID</th>\n",
       "      <th>MS SubClass</th>\n",
       "      <th>MS Zoning</th>\n",
       "      <th>Lot Frontage</th>\n",
       "      <th>Lot Area</th>\n",
       "      <th>Street</th>\n",
       "      <th>Alley</th>\n",
       "      <th>Lot Shape</th>\n",
       "      <th>Land Contour</th>\n",
       "      <th>...</th>\n",
       "      <th>Screen Porch</th>\n",
       "      <th>Pool Area</th>\n",
       "      <th>Pool QC</th>\n",
       "      <th>Fence</th>\n",
       "      <th>Misc Feature</th>\n",
       "      <th>Misc Val</th>\n",
       "      <th>Mo Sold</th>\n",
       "      <th>Yr Sold</th>\n",
       "      <th>Sale Type</th>\n",
       "      <th>SalePrice</th>\n",
       "    </tr>\n",
       "  </thead>\n",
       "  <tbody>\n",
       "    <tr>\n",
       "      <th>0</th>\n",
       "      <td>109</td>\n",
       "      <td>533352170</td>\n",
       "      <td>60</td>\n",
       "      <td>RL</td>\n",
       "      <td>NaN</td>\n",
       "      <td>13517</td>\n",
       "      <td>Pave</td>\n",
       "      <td>NaN</td>\n",
       "      <td>IR1</td>\n",
       "      <td>Lvl</td>\n",
       "      <td>...</td>\n",
       "      <td>0</td>\n",
       "      <td>0</td>\n",
       "      <td>NaN</td>\n",
       "      <td>NaN</td>\n",
       "      <td>NaN</td>\n",
       "      <td>0</td>\n",
       "      <td>3</td>\n",
       "      <td>2010</td>\n",
       "      <td>WD</td>\n",
       "      <td>130500</td>\n",
       "    </tr>\n",
       "    <tr>\n",
       "      <th>1</th>\n",
       "      <td>544</td>\n",
       "      <td>531379050</td>\n",
       "      <td>60</td>\n",
       "      <td>RL</td>\n",
       "      <td>43.0</td>\n",
       "      <td>11492</td>\n",
       "      <td>Pave</td>\n",
       "      <td>NaN</td>\n",
       "      <td>IR1</td>\n",
       "      <td>Lvl</td>\n",
       "      <td>...</td>\n",
       "      <td>0</td>\n",
       "      <td>0</td>\n",
       "      <td>NaN</td>\n",
       "      <td>NaN</td>\n",
       "      <td>NaN</td>\n",
       "      <td>0</td>\n",
       "      <td>4</td>\n",
       "      <td>2009</td>\n",
       "      <td>WD</td>\n",
       "      <td>220000</td>\n",
       "    </tr>\n",
       "    <tr>\n",
       "      <th>2</th>\n",
       "      <td>153</td>\n",
       "      <td>535304180</td>\n",
       "      <td>20</td>\n",
       "      <td>RL</td>\n",
       "      <td>68.0</td>\n",
       "      <td>7922</td>\n",
       "      <td>Pave</td>\n",
       "      <td>NaN</td>\n",
       "      <td>Reg</td>\n",
       "      <td>Lvl</td>\n",
       "      <td>...</td>\n",
       "      <td>0</td>\n",
       "      <td>0</td>\n",
       "      <td>NaN</td>\n",
       "      <td>NaN</td>\n",
       "      <td>NaN</td>\n",
       "      <td>0</td>\n",
       "      <td>1</td>\n",
       "      <td>2010</td>\n",
       "      <td>WD</td>\n",
       "      <td>109000</td>\n",
       "    </tr>\n",
       "    <tr>\n",
       "      <th>3</th>\n",
       "      <td>318</td>\n",
       "      <td>916386060</td>\n",
       "      <td>60</td>\n",
       "      <td>RL</td>\n",
       "      <td>73.0</td>\n",
       "      <td>9802</td>\n",
       "      <td>Pave</td>\n",
       "      <td>NaN</td>\n",
       "      <td>Reg</td>\n",
       "      <td>Lvl</td>\n",
       "      <td>...</td>\n",
       "      <td>0</td>\n",
       "      <td>0</td>\n",
       "      <td>NaN</td>\n",
       "      <td>NaN</td>\n",
       "      <td>NaN</td>\n",
       "      <td>0</td>\n",
       "      <td>4</td>\n",
       "      <td>2010</td>\n",
       "      <td>WD</td>\n",
       "      <td>174000</td>\n",
       "    </tr>\n",
       "    <tr>\n",
       "      <th>4</th>\n",
       "      <td>255</td>\n",
       "      <td>906425045</td>\n",
       "      <td>50</td>\n",
       "      <td>RL</td>\n",
       "      <td>82.0</td>\n",
       "      <td>14235</td>\n",
       "      <td>Pave</td>\n",
       "      <td>NaN</td>\n",
       "      <td>IR1</td>\n",
       "      <td>Lvl</td>\n",
       "      <td>...</td>\n",
       "      <td>0</td>\n",
       "      <td>0</td>\n",
       "      <td>NaN</td>\n",
       "      <td>NaN</td>\n",
       "      <td>NaN</td>\n",
       "      <td>0</td>\n",
       "      <td>3</td>\n",
       "      <td>2010</td>\n",
       "      <td>WD</td>\n",
       "      <td>138500</td>\n",
       "    </tr>\n",
       "  </tbody>\n",
       "</table>\n",
       "<p>5 rows × 81 columns</p>\n",
       "</div>"
      ],
      "text/plain": [
       "    Id        PID  MS SubClass MS Zoning  Lot Frontage  Lot Area Street Alley  \\\n",
       "0  109  533352170           60        RL           NaN     13517   Pave   NaN   \n",
       "1  544  531379050           60        RL          43.0     11492   Pave   NaN   \n",
       "2  153  535304180           20        RL          68.0      7922   Pave   NaN   \n",
       "3  318  916386060           60        RL          73.0      9802   Pave   NaN   \n",
       "4  255  906425045           50        RL          82.0     14235   Pave   NaN   \n",
       "\n",
       "  Lot Shape Land Contour  ... Screen Porch Pool Area Pool QC Fence  \\\n",
       "0       IR1          Lvl  ...            0         0     NaN   NaN   \n",
       "1       IR1          Lvl  ...            0         0     NaN   NaN   \n",
       "2       Reg          Lvl  ...            0         0     NaN   NaN   \n",
       "3       Reg          Lvl  ...            0         0     NaN   NaN   \n",
       "4       IR1          Lvl  ...            0         0     NaN   NaN   \n",
       "\n",
       "  Misc Feature Misc Val Mo Sold Yr Sold  Sale Type  SalePrice  \n",
       "0          NaN        0       3    2010        WD      130500  \n",
       "1          NaN        0       4    2009        WD      220000  \n",
       "2          NaN        0       1    2010        WD      109000  \n",
       "3          NaN        0       4    2010        WD      174000  \n",
       "4          NaN        0       3    2010        WD      138500  \n",
       "\n",
       "[5 rows x 81 columns]"
      ]
     },
     "execution_count": 556,
     "metadata": {},
     "output_type": "execute_result"
    }
   ],
   "source": [
    "ames.head()"
   ]
  },
  {
   "cell_type": "code",
   "execution_count": 557,
   "metadata": {},
   "outputs": [
    {
     "data": {
      "text/plain": [
       "(2051, 81)"
      ]
     },
     "execution_count": 557,
     "metadata": {},
     "output_type": "execute_result"
    }
   ],
   "source": [
    "ames.shape"
   ]
  },
  {
   "cell_type": "code",
   "execution_count": 558,
   "metadata": {},
   "outputs": [
    {
     "data": {
      "text/html": [
       "<div>\n",
       "<style scoped>\n",
       "    .dataframe tbody tr th:only-of-type {\n",
       "        vertical-align: middle;\n",
       "    }\n",
       "\n",
       "    .dataframe tbody tr th {\n",
       "        vertical-align: top;\n",
       "    }\n",
       "\n",
       "    .dataframe thead th {\n",
       "        text-align: right;\n",
       "    }\n",
       "</style>\n",
       "<table border=\"1\" class=\"dataframe\">\n",
       "  <thead>\n",
       "    <tr style=\"text-align: right;\">\n",
       "      <th></th>\n",
       "      <th>Id</th>\n",
       "      <th>PID</th>\n",
       "      <th>MS SubClass</th>\n",
       "      <th>MS Zoning</th>\n",
       "      <th>Lot Frontage</th>\n",
       "      <th>Lot Area</th>\n",
       "      <th>Street</th>\n",
       "      <th>Alley</th>\n",
       "      <th>Lot Shape</th>\n",
       "      <th>Land Contour</th>\n",
       "      <th>...</th>\n",
       "      <th>3Ssn Porch</th>\n",
       "      <th>Screen Porch</th>\n",
       "      <th>Pool Area</th>\n",
       "      <th>Pool QC</th>\n",
       "      <th>Fence</th>\n",
       "      <th>Misc Feature</th>\n",
       "      <th>Misc Val</th>\n",
       "      <th>Mo Sold</th>\n",
       "      <th>Yr Sold</th>\n",
       "      <th>Sale Type</th>\n",
       "    </tr>\n",
       "  </thead>\n",
       "  <tbody>\n",
       "    <tr>\n",
       "      <th>0</th>\n",
       "      <td>2658</td>\n",
       "      <td>902301120</td>\n",
       "      <td>190</td>\n",
       "      <td>RM</td>\n",
       "      <td>69.0</td>\n",
       "      <td>9142</td>\n",
       "      <td>Pave</td>\n",
       "      <td>Grvl</td>\n",
       "      <td>Reg</td>\n",
       "      <td>Lvl</td>\n",
       "      <td>...</td>\n",
       "      <td>0</td>\n",
       "      <td>0</td>\n",
       "      <td>0</td>\n",
       "      <td>NaN</td>\n",
       "      <td>NaN</td>\n",
       "      <td>NaN</td>\n",
       "      <td>0</td>\n",
       "      <td>4</td>\n",
       "      <td>2006</td>\n",
       "      <td>WD</td>\n",
       "    </tr>\n",
       "    <tr>\n",
       "      <th>1</th>\n",
       "      <td>2718</td>\n",
       "      <td>905108090</td>\n",
       "      <td>90</td>\n",
       "      <td>RL</td>\n",
       "      <td>NaN</td>\n",
       "      <td>9662</td>\n",
       "      <td>Pave</td>\n",
       "      <td>NaN</td>\n",
       "      <td>IR1</td>\n",
       "      <td>Lvl</td>\n",
       "      <td>...</td>\n",
       "      <td>0</td>\n",
       "      <td>0</td>\n",
       "      <td>0</td>\n",
       "      <td>NaN</td>\n",
       "      <td>NaN</td>\n",
       "      <td>NaN</td>\n",
       "      <td>0</td>\n",
       "      <td>8</td>\n",
       "      <td>2006</td>\n",
       "      <td>WD</td>\n",
       "    </tr>\n",
       "    <tr>\n",
       "      <th>2</th>\n",
       "      <td>2414</td>\n",
       "      <td>528218130</td>\n",
       "      <td>60</td>\n",
       "      <td>RL</td>\n",
       "      <td>58.0</td>\n",
       "      <td>17104</td>\n",
       "      <td>Pave</td>\n",
       "      <td>NaN</td>\n",
       "      <td>IR1</td>\n",
       "      <td>Lvl</td>\n",
       "      <td>...</td>\n",
       "      <td>0</td>\n",
       "      <td>0</td>\n",
       "      <td>0</td>\n",
       "      <td>NaN</td>\n",
       "      <td>NaN</td>\n",
       "      <td>NaN</td>\n",
       "      <td>0</td>\n",
       "      <td>9</td>\n",
       "      <td>2006</td>\n",
       "      <td>New</td>\n",
       "    </tr>\n",
       "    <tr>\n",
       "      <th>3</th>\n",
       "      <td>1989</td>\n",
       "      <td>902207150</td>\n",
       "      <td>30</td>\n",
       "      <td>RM</td>\n",
       "      <td>60.0</td>\n",
       "      <td>8520</td>\n",
       "      <td>Pave</td>\n",
       "      <td>NaN</td>\n",
       "      <td>Reg</td>\n",
       "      <td>Lvl</td>\n",
       "      <td>...</td>\n",
       "      <td>0</td>\n",
       "      <td>0</td>\n",
       "      <td>0</td>\n",
       "      <td>NaN</td>\n",
       "      <td>NaN</td>\n",
       "      <td>NaN</td>\n",
       "      <td>0</td>\n",
       "      <td>7</td>\n",
       "      <td>2007</td>\n",
       "      <td>WD</td>\n",
       "    </tr>\n",
       "    <tr>\n",
       "      <th>4</th>\n",
       "      <td>625</td>\n",
       "      <td>535105100</td>\n",
       "      <td>20</td>\n",
       "      <td>RL</td>\n",
       "      <td>NaN</td>\n",
       "      <td>9500</td>\n",
       "      <td>Pave</td>\n",
       "      <td>NaN</td>\n",
       "      <td>IR1</td>\n",
       "      <td>Lvl</td>\n",
       "      <td>...</td>\n",
       "      <td>0</td>\n",
       "      <td>185</td>\n",
       "      <td>0</td>\n",
       "      <td>NaN</td>\n",
       "      <td>NaN</td>\n",
       "      <td>NaN</td>\n",
       "      <td>0</td>\n",
       "      <td>7</td>\n",
       "      <td>2009</td>\n",
       "      <td>WD</td>\n",
       "    </tr>\n",
       "  </tbody>\n",
       "</table>\n",
       "<p>5 rows × 80 columns</p>\n",
       "</div>"
      ],
      "text/plain": [
       "     Id        PID  MS SubClass MS Zoning  Lot Frontage  Lot Area Street  \\\n",
       "0  2658  902301120          190        RM          69.0      9142   Pave   \n",
       "1  2718  905108090           90        RL           NaN      9662   Pave   \n",
       "2  2414  528218130           60        RL          58.0     17104   Pave   \n",
       "3  1989  902207150           30        RM          60.0      8520   Pave   \n",
       "4   625  535105100           20        RL           NaN      9500   Pave   \n",
       "\n",
       "  Alley Lot Shape Land Contour  ... 3Ssn Porch Screen Porch Pool Area Pool QC  \\\n",
       "0  Grvl       Reg          Lvl  ...          0            0         0     NaN   \n",
       "1   NaN       IR1          Lvl  ...          0            0         0     NaN   \n",
       "2   NaN       IR1          Lvl  ...          0            0         0     NaN   \n",
       "3   NaN       Reg          Lvl  ...          0            0         0     NaN   \n",
       "4   NaN       IR1          Lvl  ...          0          185         0     NaN   \n",
       "\n",
       "  Fence Misc Feature Misc Val Mo Sold  Yr Sold  Sale Type  \n",
       "0   NaN          NaN        0       4     2006        WD   \n",
       "1   NaN          NaN        0       8     2006        WD   \n",
       "2   NaN          NaN        0       9     2006        New  \n",
       "3   NaN          NaN        0       7     2007        WD   \n",
       "4   NaN          NaN        0       7     2009        WD   \n",
       "\n",
       "[5 rows x 80 columns]"
      ]
     },
     "execution_count": 558,
     "metadata": {},
     "output_type": "execute_result"
    }
   ],
   "source": [
    "test.head()"
   ]
  },
  {
   "cell_type": "code",
   "execution_count": 559,
   "metadata": {},
   "outputs": [
    {
     "data": {
      "text/plain": [
       "(878, 80)"
      ]
     },
     "execution_count": 559,
     "metadata": {},
     "output_type": "execute_result"
    }
   ],
   "source": [
    "test.shape"
   ]
  },
  {
   "cell_type": "markdown",
   "metadata": {},
   "source": [
    "##### Change column names to lower and _"
   ]
  },
  {
   "cell_type": "markdown",
   "metadata": {},
   "source": [
    "Training"
   ]
  },
  {
   "cell_type": "code",
   "execution_count": 560,
   "metadata": {},
   "outputs": [],
   "source": [
    "ames.columns = ames.columns.str.lower().str.replace(' ', '_')"
   ]
  },
  {
   "cell_type": "code",
   "execution_count": 561,
   "metadata": {},
   "outputs": [],
   "source": [
    "ames.columns;"
   ]
  },
  {
   "cell_type": "code",
   "execution_count": 562,
   "metadata": {},
   "outputs": [
    {
     "data": {
      "text/plain": [
       "81"
      ]
     },
     "execution_count": 562,
     "metadata": {},
     "output_type": "execute_result"
    }
   ],
   "source": [
    "len(ames.columns)"
   ]
  },
  {
   "cell_type": "markdown",
   "metadata": {},
   "source": [
    "Test"
   ]
  },
  {
   "cell_type": "code",
   "execution_count": 563,
   "metadata": {},
   "outputs": [],
   "source": [
    "test.columns = test.columns.str.lower().str.replace(' ', '_')"
   ]
  },
  {
   "cell_type": "code",
   "execution_count": 564,
   "metadata": {},
   "outputs": [],
   "source": [
    "test.columns;"
   ]
  },
  {
   "cell_type": "code",
   "execution_count": 565,
   "metadata": {},
   "outputs": [
    {
     "data": {
      "text/plain": [
       "80"
      ]
     },
     "execution_count": 565,
     "metadata": {},
     "output_type": "execute_result"
    }
   ],
   "source": [
    "len(test.columns)"
   ]
  },
  {
   "cell_type": "code",
   "execution_count": 566,
   "metadata": {},
   "outputs": [],
   "source": [
    "def mass_value(df):\n",
    "    # function that takes in a dataframe and returns value_counts for all columns. \n",
    "    value_list = []\n",
    "    for item in df.columns:\n",
    "        value_list.append(item.upper())\n",
    "        value_list.append(df[item].value_counts())\n",
    "    return value_list\n",
    "    "
   ]
  },
  {
   "cell_type": "code",
   "execution_count": 567,
   "metadata": {},
   "outputs": [],
   "source": [
    "def fill_na_mean(df):\n",
    "    #Cleans float and integer NaNs by replacing with mean\n",
    "    for item in df.columns:\n",
    "        if df[item].dtypes == float or df[item].dtypes == int:\n",
    "            df[item].fillna(df[item].mean(), inplace = True)"
   ]
  },
  {
   "cell_type": "code",
   "execution_count": 568,
   "metadata": {},
   "outputs": [],
   "source": [
    "def fill_na_string(df):\n",
    "    #Cleans string object NaNs by replacing with a string\n",
    "    for item in df.columns:\n",
    "        if df[item].dtypes == str or df[item].dtypes == object:\n",
    "            df[item].fillna('no value', inplace = True)"
   ]
  },
  {
   "cell_type": "code",
   "execution_count": 569,
   "metadata": {},
   "outputs": [],
   "source": [
    "def null_counter(series):\n",
    "    count = 0\n",
    "\n",
    "    for item in series.isnull():\n",
    "        if item == True:\n",
    "            count += 1\n",
    "    return f'{count} null values' "
   ]
  },
  {
   "cell_type": "markdown",
   "metadata": {},
   "source": [
    "### Engineer a Total Sf Feature"
   ]
  },
  {
   "cell_type": "code",
   "execution_count": 570,
   "metadata": {},
   "outputs": [],
   "source": [
    "ames['total_sf'] = ames['total_bsmt_sf'] + ames['1st_flr_sf'] + ames['2nd_flr_sf']"
   ]
  },
  {
   "cell_type": "code",
   "execution_count": 571,
   "metadata": {},
   "outputs": [],
   "source": [
    "test['total_sf'] = test['total_bsmt_sf'] + test['1st_flr_sf'] + test['2nd_flr_sf']"
   ]
  },
  {
   "cell_type": "markdown",
   "metadata": {},
   "source": [
    "### Engineer a Total Bath Feature"
   ]
  },
  {
   "cell_type": "code",
   "execution_count": 572,
   "metadata": {},
   "outputs": [],
   "source": [
    "ames['total_bath'] = ames['full_bath'] + (.5 * ames['half_bath'])"
   ]
  },
  {
   "cell_type": "code",
   "execution_count": 573,
   "metadata": {},
   "outputs": [],
   "source": [
    "test['total_bath'] = test['full_bath'] + (.5 * test['half_bath'])"
   ]
  },
  {
   "cell_type": "markdown",
   "metadata": {},
   "source": [
    "### Create Simple DF"
   ]
  },
  {
   "cell_type": "code",
   "execution_count": 574,
   "metadata": {},
   "outputs": [],
   "source": [
    "simple = ['bedroom_abvgr', 'year_remod/add'\n",
    "          , 'overall_cond', 'house_style', \n",
    "          'garage_cars', 'lot_area', \n",
    "          'neighborhood', 'bldg_type', 'total_sf', 'total_bath', 'saleprice']"
   ]
  },
  {
   "cell_type": "code",
   "execution_count": 575,
   "metadata": {},
   "outputs": [],
   "source": [
    "simple_test = ['bedroom_abvgr', 'year_remod/add'\n",
    "          , 'overall_cond', 'house_style', \n",
    "          'garage_cars', 'lot_area', \n",
    "          'neighborhood', 'bldg_type', 'total_sf', 'total_bath']"
   ]
  },
  {
   "cell_type": "code",
   "execution_count": 576,
   "metadata": {},
   "outputs": [],
   "source": [
    "simple_df = ames[simple]"
   ]
  },
  {
   "cell_type": "code",
   "execution_count": 577,
   "metadata": {},
   "outputs": [],
   "source": [
    "simple_test = test[simple_test]"
   ]
  },
  {
   "cell_type": "code",
   "execution_count": 578,
   "metadata": {},
   "outputs": [
    {
     "data": {
      "text/html": [
       "<div>\n",
       "<style scoped>\n",
       "    .dataframe tbody tr th:only-of-type {\n",
       "        vertical-align: middle;\n",
       "    }\n",
       "\n",
       "    .dataframe tbody tr th {\n",
       "        vertical-align: top;\n",
       "    }\n",
       "\n",
       "    .dataframe thead th {\n",
       "        text-align: right;\n",
       "    }\n",
       "</style>\n",
       "<table border=\"1\" class=\"dataframe\">\n",
       "  <thead>\n",
       "    <tr style=\"text-align: right;\">\n",
       "      <th></th>\n",
       "      <th>bedroom_abvgr</th>\n",
       "      <th>year_remod/add</th>\n",
       "      <th>overall_cond</th>\n",
       "      <th>house_style</th>\n",
       "      <th>garage_cars</th>\n",
       "      <th>lot_area</th>\n",
       "      <th>neighborhood</th>\n",
       "      <th>bldg_type</th>\n",
       "      <th>total_sf</th>\n",
       "      <th>total_bath</th>\n",
       "      <th>saleprice</th>\n",
       "    </tr>\n",
       "  </thead>\n",
       "  <tbody>\n",
       "    <tr>\n",
       "      <th>0</th>\n",
       "      <td>3</td>\n",
       "      <td>2005</td>\n",
       "      <td>8</td>\n",
       "      <td>2Story</td>\n",
       "      <td>2.0</td>\n",
       "      <td>13517</td>\n",
       "      <td>Sawyer</td>\n",
       "      <td>1Fam</td>\n",
       "      <td>2204.0</td>\n",
       "      <td>2.5</td>\n",
       "      <td>130500</td>\n",
       "    </tr>\n",
       "    <tr>\n",
       "      <th>1</th>\n",
       "      <td>4</td>\n",
       "      <td>1997</td>\n",
       "      <td>5</td>\n",
       "      <td>2Story</td>\n",
       "      <td>2.0</td>\n",
       "      <td>11492</td>\n",
       "      <td>SawyerW</td>\n",
       "      <td>1Fam</td>\n",
       "      <td>3035.0</td>\n",
       "      <td>2.5</td>\n",
       "      <td>220000</td>\n",
       "    </tr>\n",
       "    <tr>\n",
       "      <th>2</th>\n",
       "      <td>3</td>\n",
       "      <td>2007</td>\n",
       "      <td>7</td>\n",
       "      <td>1Story</td>\n",
       "      <td>1.0</td>\n",
       "      <td>7922</td>\n",
       "      <td>NAmes</td>\n",
       "      <td>1Fam</td>\n",
       "      <td>2114.0</td>\n",
       "      <td>1.0</td>\n",
       "      <td>109000</td>\n",
       "    </tr>\n",
       "    <tr>\n",
       "      <th>3</th>\n",
       "      <td>3</td>\n",
       "      <td>2007</td>\n",
       "      <td>5</td>\n",
       "      <td>2Story</td>\n",
       "      <td>2.0</td>\n",
       "      <td>9802</td>\n",
       "      <td>Timber</td>\n",
       "      <td>1Fam</td>\n",
       "      <td>1828.0</td>\n",
       "      <td>2.5</td>\n",
       "      <td>174000</td>\n",
       "    </tr>\n",
       "    <tr>\n",
       "      <th>4</th>\n",
       "      <td>3</td>\n",
       "      <td>1993</td>\n",
       "      <td>8</td>\n",
       "      <td>1.5Fin</td>\n",
       "      <td>2.0</td>\n",
       "      <td>14235</td>\n",
       "      <td>SawyerW</td>\n",
       "      <td>1Fam</td>\n",
       "      <td>2121.0</td>\n",
       "      <td>2.0</td>\n",
       "      <td>138500</td>\n",
       "    </tr>\n",
       "  </tbody>\n",
       "</table>\n",
       "</div>"
      ],
      "text/plain": [
       "   bedroom_abvgr  year_remod/add  overall_cond house_style  garage_cars  \\\n",
       "0              3            2005             8      2Story          2.0   \n",
       "1              4            1997             5      2Story          2.0   \n",
       "2              3            2007             7      1Story          1.0   \n",
       "3              3            2007             5      2Story          2.0   \n",
       "4              3            1993             8      1.5Fin          2.0   \n",
       "\n",
       "   lot_area neighborhood bldg_type  total_sf  total_bath  saleprice  \n",
       "0     13517       Sawyer      1Fam    2204.0         2.5     130500  \n",
       "1     11492      SawyerW      1Fam    3035.0         2.5     220000  \n",
       "2      7922        NAmes      1Fam    2114.0         1.0     109000  \n",
       "3      9802       Timber      1Fam    1828.0         2.5     174000  \n",
       "4     14235      SawyerW      1Fam    2121.0         2.0     138500  "
      ]
     },
     "execution_count": 578,
     "metadata": {},
     "output_type": "execute_result"
    }
   ],
   "source": [
    "simple_df.head()"
   ]
  },
  {
   "cell_type": "code",
   "execution_count": 579,
   "metadata": {},
   "outputs": [
    {
     "data": {
      "text/plain": [
       "bedroom_abvgr       int64\n",
       "year_remod/add      int64\n",
       "overall_cond        int64\n",
       "house_style        object\n",
       "garage_cars       float64\n",
       "lot_area            int64\n",
       "neighborhood       object\n",
       "bldg_type          object\n",
       "total_sf          float64\n",
       "total_bath        float64\n",
       "saleprice           int64\n",
       "dtype: object"
      ]
     },
     "execution_count": 579,
     "metadata": {},
     "output_type": "execute_result"
    }
   ],
   "source": [
    "simple_df.dtypes"
   ]
  },
  {
   "cell_type": "code",
   "execution_count": 580,
   "metadata": {},
   "outputs": [
    {
     "data": {
      "text/html": [
       "<div>\n",
       "<style scoped>\n",
       "    .dataframe tbody tr th:only-of-type {\n",
       "        vertical-align: middle;\n",
       "    }\n",
       "\n",
       "    .dataframe tbody tr th {\n",
       "        vertical-align: top;\n",
       "    }\n",
       "\n",
       "    .dataframe thead th {\n",
       "        text-align: right;\n",
       "    }\n",
       "</style>\n",
       "<table border=\"1\" class=\"dataframe\">\n",
       "  <thead>\n",
       "    <tr style=\"text-align: right;\">\n",
       "      <th></th>\n",
       "      <th>bedroom_abvgr</th>\n",
       "      <th>year_remod/add</th>\n",
       "      <th>overall_cond</th>\n",
       "      <th>house_style</th>\n",
       "      <th>garage_cars</th>\n",
       "      <th>lot_area</th>\n",
       "      <th>neighborhood</th>\n",
       "      <th>bldg_type</th>\n",
       "      <th>total_sf</th>\n",
       "      <th>total_bath</th>\n",
       "    </tr>\n",
       "  </thead>\n",
       "  <tbody>\n",
       "    <tr>\n",
       "      <th>0</th>\n",
       "      <td>4</td>\n",
       "      <td>1950</td>\n",
       "      <td>8</td>\n",
       "      <td>2Story</td>\n",
       "      <td>1</td>\n",
       "      <td>9142</td>\n",
       "      <td>OldTown</td>\n",
       "      <td>2fmCon</td>\n",
       "      <td>2948</td>\n",
       "      <td>2.0</td>\n",
       "    </tr>\n",
       "    <tr>\n",
       "      <th>1</th>\n",
       "      <td>6</td>\n",
       "      <td>1977</td>\n",
       "      <td>4</td>\n",
       "      <td>1Story</td>\n",
       "      <td>2</td>\n",
       "      <td>9662</td>\n",
       "      <td>Sawyer</td>\n",
       "      <td>Duplex</td>\n",
       "      <td>3934</td>\n",
       "      <td>2.0</td>\n",
       "    </tr>\n",
       "    <tr>\n",
       "      <th>2</th>\n",
       "      <td>3</td>\n",
       "      <td>2006</td>\n",
       "      <td>5</td>\n",
       "      <td>2Story</td>\n",
       "      <td>2</td>\n",
       "      <td>17104</td>\n",
       "      <td>Gilbert</td>\n",
       "      <td>1Fam</td>\n",
       "      <td>2150</td>\n",
       "      <td>2.5</td>\n",
       "    </tr>\n",
       "    <tr>\n",
       "      <th>3</th>\n",
       "      <td>2</td>\n",
       "      <td>2006</td>\n",
       "      <td>6</td>\n",
       "      <td>1Story</td>\n",
       "      <td>2</td>\n",
       "      <td>8520</td>\n",
       "      <td>OldTown</td>\n",
       "      <td>1Fam</td>\n",
       "      <td>1936</td>\n",
       "      <td>1.0</td>\n",
       "    </tr>\n",
       "    <tr>\n",
       "      <th>4</th>\n",
       "      <td>3</td>\n",
       "      <td>1963</td>\n",
       "      <td>5</td>\n",
       "      <td>1Story</td>\n",
       "      <td>2</td>\n",
       "      <td>9500</td>\n",
       "      <td>NAmes</td>\n",
       "      <td>1Fam</td>\n",
       "      <td>2788</td>\n",
       "      <td>1.5</td>\n",
       "    </tr>\n",
       "  </tbody>\n",
       "</table>\n",
       "</div>"
      ],
      "text/plain": [
       "   bedroom_abvgr  year_remod/add  overall_cond house_style  garage_cars  \\\n",
       "0              4            1950             8      2Story            1   \n",
       "1              6            1977             4      1Story            2   \n",
       "2              3            2006             5      2Story            2   \n",
       "3              2            2006             6      1Story            2   \n",
       "4              3            1963             5      1Story            2   \n",
       "\n",
       "   lot_area neighborhood bldg_type  total_sf  total_bath  \n",
       "0      9142      OldTown    2fmCon      2948         2.0  \n",
       "1      9662       Sawyer    Duplex      3934         2.0  \n",
       "2     17104      Gilbert      1Fam      2150         2.5  \n",
       "3      8520      OldTown      1Fam      1936         1.0  \n",
       "4      9500        NAmes      1Fam      2788         1.5  "
      ]
     },
     "execution_count": 580,
     "metadata": {},
     "output_type": "execute_result"
    }
   ],
   "source": [
    "simple_test.head()"
   ]
  },
  {
   "cell_type": "code",
   "execution_count": 581,
   "metadata": {},
   "outputs": [
    {
     "data": {
      "text/plain": [
       "bedroom_abvgr       int64\n",
       "year_remod/add      int64\n",
       "overall_cond        int64\n",
       "house_style        object\n",
       "garage_cars         int64\n",
       "lot_area            int64\n",
       "neighborhood       object\n",
       "bldg_type          object\n",
       "total_sf            int64\n",
       "total_bath        float64\n",
       "dtype: object"
      ]
     },
     "execution_count": 581,
     "metadata": {},
     "output_type": "execute_result"
    }
   ],
   "source": [
    "simple_test.dtypes"
   ]
  },
  {
   "cell_type": "code",
   "execution_count": 582,
   "metadata": {},
   "outputs": [
    {
     "data": {
      "text/plain": [
       "(2051, 11)"
      ]
     },
     "execution_count": 582,
     "metadata": {},
     "output_type": "execute_result"
    }
   ],
   "source": [
    "simple_df.shape"
   ]
  },
  {
   "cell_type": "code",
   "execution_count": 583,
   "metadata": {},
   "outputs": [
    {
     "data": {
      "text/plain": [
       "(878, 10)"
      ]
     },
     "execution_count": 583,
     "metadata": {},
     "output_type": "execute_result"
    }
   ],
   "source": [
    "simple_test.shape"
   ]
  },
  {
   "cell_type": "markdown",
   "metadata": {},
   "source": [
    "# Save DF's to CSV"
   ]
  },
  {
   "cell_type": "code",
   "execution_count": 584,
   "metadata": {},
   "outputs": [],
   "source": [
    "simple_df.to_csv('../datasets/simple.csv')"
   ]
  },
  {
   "cell_type": "code",
   "execution_count": 585,
   "metadata": {},
   "outputs": [],
   "source": [
    "simple_test.to_csv('../datasets/simple_test.csv')"
   ]
  },
  {
   "cell_type": "code",
   "execution_count": 586,
   "metadata": {},
   "outputs": [
    {
     "data": {
      "image/png": "[encoded data removed]",
      "text/plain": [
       "<Figure size 1728x720 with 3 Axes>"
      ]
     },
     "metadata": {
      "needs_background": "light"
     },
     "output_type": "display_data"
    }
   ],
   "source": [
    "msno.bar(simple_df);"
   ]
  },
  {
   "cell_type": "markdown",
   "metadata": {},
   "source": [
    "* [ ] Dummy house_style\n",
    "* [ ] Dummy neighborhood\n",
    "* [ ] Dummy bldg_type\n",
    "* [X] fill Na value in garage-cars and total_sf"
   ]
  },
  {
   "cell_type": "code",
   "execution_count": 587,
   "metadata": {},
   "outputs": [
    {
     "data": {
      "image/png": "[encoded data removed]",
      "text/plain": [
       "<Figure size 1728x720 with 3 Axes>"
      ]
     },
     "metadata": {
      "needs_background": "light"
     },
     "output_type": "display_data"
    }
   ],
   "source": [
    "msno.bar(simple_test);"
   ]
  },
  {
   "cell_type": "code",
   "execution_count": 588,
   "metadata": {},
   "outputs": [
    {
     "data": {
      "image/png": "[encoded data removed]",
      "text/plain": [
       "<Figure size 1728x720 with 3 Axes>"
      ]
     },
     "metadata": {
      "needs_background": "light"
     },
     "output_type": "display_data"
    }
   ],
   "source": [
    "msno.bar(simple_df);"
   ]
  },
  {
   "cell_type": "markdown",
   "metadata": {},
   "source": [
    "# DUMMIES"
   ]
  },
  {
   "cell_type": "markdown",
   "metadata": {},
   "source": [
    "Training"
   ]
  },
  {
   "cell_type": "code",
   "execution_count": 589,
   "metadata": {},
   "outputs": [],
   "source": [
    "simple_df = pd.get_dummies(simple_df, columns = ['house_style', 'neighborhood', 'bldg_type'], drop_first = True)"
   ]
  },
  {
   "cell_type": "code",
   "execution_count": 590,
   "metadata": {},
   "outputs": [
    {
     "data": {
      "text/html": [
       "<div>\n",
       "<style scoped>\n",
       "    .dataframe tbody tr th:only-of-type {\n",
       "        vertical-align: middle;\n",
       "    }\n",
       "\n",
       "    .dataframe tbody tr th {\n",
       "        vertical-align: top;\n",
       "    }\n",
       "\n",
       "    .dataframe thead th {\n",
       "        text-align: right;\n",
       "    }\n",
       "</style>\n",
       "<table border=\"1\" class=\"dataframe\">\n",
       "  <thead>\n",
       "    <tr style=\"text-align: right;\">\n",
       "      <th></th>\n",
       "      <th>bedroom_abvgr</th>\n",
       "      <th>year_remod/add</th>\n",
       "      <th>overall_cond</th>\n",
       "      <th>garage_cars</th>\n",
       "      <th>lot_area</th>\n",
       "      <th>total_sf</th>\n",
       "      <th>total_bath</th>\n",
       "      <th>saleprice</th>\n",
       "      <th>house_style_1.5Unf</th>\n",
       "      <th>house_style_1Story</th>\n",
       "      <th>...</th>\n",
       "      <th>neighborhood_Sawyer</th>\n",
       "      <th>neighborhood_SawyerW</th>\n",
       "      <th>neighborhood_Somerst</th>\n",
       "      <th>neighborhood_StoneBr</th>\n",
       "      <th>neighborhood_Timber</th>\n",
       "      <th>neighborhood_Veenker</th>\n",
       "      <th>bldg_type_2fmCon</th>\n",
       "      <th>bldg_type_Duplex</th>\n",
       "      <th>bldg_type_Twnhs</th>\n",
       "      <th>bldg_type_TwnhsE</th>\n",
       "    </tr>\n",
       "  </thead>\n",
       "  <tbody>\n",
       "    <tr>\n",
       "      <th>0</th>\n",
       "      <td>3</td>\n",
       "      <td>2005</td>\n",
       "      <td>8</td>\n",
       "      <td>2.0</td>\n",
       "      <td>13517</td>\n",
       "      <td>2204.0</td>\n",
       "      <td>2.5</td>\n",
       "      <td>130500</td>\n",
       "      <td>0</td>\n",
       "      <td>0</td>\n",
       "      <td>...</td>\n",
       "      <td>1</td>\n",
       "      <td>0</td>\n",
       "      <td>0</td>\n",
       "      <td>0</td>\n",
       "      <td>0</td>\n",
       "      <td>0</td>\n",
       "      <td>0</td>\n",
       "      <td>0</td>\n",
       "      <td>0</td>\n",
       "      <td>0</td>\n",
       "    </tr>\n",
       "    <tr>\n",
       "      <th>1</th>\n",
       "      <td>4</td>\n",
       "      <td>1997</td>\n",
       "      <td>5</td>\n",
       "      <td>2.0</td>\n",
       "      <td>11492</td>\n",
       "      <td>3035.0</td>\n",
       "      <td>2.5</td>\n",
       "      <td>220000</td>\n",
       "      <td>0</td>\n",
       "      <td>0</td>\n",
       "      <td>...</td>\n",
       "      <td>0</td>\n",
       "      <td>1</td>\n",
       "      <td>0</td>\n",
       "      <td>0</td>\n",
       "      <td>0</td>\n",
       "      <td>0</td>\n",
       "      <td>0</td>\n",
       "      <td>0</td>\n",
       "      <td>0</td>\n",
       "      <td>0</td>\n",
       "    </tr>\n",
       "    <tr>\n",
       "      <th>2</th>\n",
       "      <td>3</td>\n",
       "      <td>2007</td>\n",
       "      <td>7</td>\n",
       "      <td>1.0</td>\n",
       "      <td>7922</td>\n",
       "      <td>2114.0</td>\n",
       "      <td>1.0</td>\n",
       "      <td>109000</td>\n",
       "      <td>0</td>\n",
       "      <td>1</td>\n",
       "      <td>...</td>\n",
       "      <td>0</td>\n",
       "      <td>0</td>\n",
       "      <td>0</td>\n",
       "      <td>0</td>\n",
       "      <td>0</td>\n",
       "      <td>0</td>\n",
       "      <td>0</td>\n",
       "      <td>0</td>\n",
       "      <td>0</td>\n",
       "      <td>0</td>\n",
       "    </tr>\n",
       "    <tr>\n",
       "      <th>3</th>\n",
       "      <td>3</td>\n",
       "      <td>2007</td>\n",
       "      <td>5</td>\n",
       "      <td>2.0</td>\n",
       "      <td>9802</td>\n",
       "      <td>1828.0</td>\n",
       "      <td>2.5</td>\n",
       "      <td>174000</td>\n",
       "      <td>0</td>\n",
       "      <td>0</td>\n",
       "      <td>...</td>\n",
       "      <td>0</td>\n",
       "      <td>0</td>\n",
       "      <td>0</td>\n",
       "      <td>0</td>\n",
       "      <td>1</td>\n",
       "      <td>0</td>\n",
       "      <td>0</td>\n",
       "      <td>0</td>\n",
       "      <td>0</td>\n",
       "      <td>0</td>\n",
       "    </tr>\n",
       "    <tr>\n",
       "      <th>4</th>\n",
       "      <td>3</td>\n",
       "      <td>1993</td>\n",
       "      <td>8</td>\n",
       "      <td>2.0</td>\n",
       "      <td>14235</td>\n",
       "      <td>2121.0</td>\n",
       "      <td>2.0</td>\n",
       "      <td>138500</td>\n",
       "      <td>0</td>\n",
       "      <td>0</td>\n",
       "      <td>...</td>\n",
       "      <td>0</td>\n",
       "      <td>1</td>\n",
       "      <td>0</td>\n",
       "      <td>0</td>\n",
       "      <td>0</td>\n",
       "      <td>0</td>\n",
       "      <td>0</td>\n",
       "      <td>0</td>\n",
       "      <td>0</td>\n",
       "      <td>0</td>\n",
       "    </tr>\n",
       "  </tbody>\n",
       "</table>\n",
       "<p>5 rows × 46 columns</p>\n",
       "</div>"
      ],
      "text/plain": [
       "   bedroom_abvgr  year_remod/add  overall_cond  garage_cars  lot_area  \\\n",
       "0              3            2005             8          2.0     13517   \n",
       "1              4            1997             5          2.0     11492   \n",
       "2              3            2007             7          1.0      7922   \n",
       "3              3            2007             5          2.0      9802   \n",
       "4              3            1993             8          2.0     14235   \n",
       "\n",
       "   total_sf  total_bath  saleprice  house_style_1.5Unf  house_style_1Story  \\\n",
       "0    2204.0         2.5     130500                   0                   0   \n",
       "1    3035.0         2.5     220000                   0                   0   \n",
       "2    2114.0         1.0     109000                   0                   1   \n",
       "3    1828.0         2.5     174000                   0                   0   \n",
       "4    2121.0         2.0     138500                   0                   0   \n",
       "\n",
       "   ...  neighborhood_Sawyer  neighborhood_SawyerW  neighborhood_Somerst  \\\n",
       "0  ...                    1                     0                     0   \n",
       "1  ...                    0                     1                     0   \n",
       "2  ...                    0                     0                     0   \n",
       "3  ...                    0                     0                     0   \n",
       "4  ...                    0                     1                     0   \n",
       "\n",
       "   neighborhood_StoneBr  neighborhood_Timber  neighborhood_Veenker  \\\n",
       "0                     0                    0                     0   \n",
       "1                     0                    0                     0   \n",
       "2                     0                    0                     0   \n",
       "3                     0                    1                     0   \n",
       "4                     0                    0                     0   \n",
       "\n",
       "   bldg_type_2fmCon  bldg_type_Duplex  bldg_type_Twnhs  bldg_type_TwnhsE  \n",
       "0                 0                 0                0                 0  \n",
       "1                 0                 0                0                 0  \n",
       "2                 0                 0                0                 0  \n",
       "3                 0                 0                0                 0  \n",
       "4                 0                 0                0                 0  \n",
       "\n",
       "[5 rows x 46 columns]"
      ]
     },
     "execution_count": 590,
     "metadata": {},
     "output_type": "execute_result"
    }
   ],
   "source": [
    "simple_df.head()"
   ]
  },
  {
   "cell_type": "code",
   "execution_count": 591,
   "metadata": {
    "scrolled": false
   },
   "outputs": [
    {
     "data": {
      "text/plain": [
       "(2051, 46)"
      ]
     },
     "execution_count": 591,
     "metadata": {},
     "output_type": "execute_result"
    }
   ],
   "source": [
    "simple_df.shape"
   ]
  },
  {
   "cell_type": "markdown",
   "metadata": {},
   "source": [
    "Test"
   ]
  },
  {
   "cell_type": "code",
   "execution_count": 592,
   "metadata": {},
   "outputs": [],
   "source": [
    "simple_test = pd.get_dummies(simple_test, columns = ['house_style', 'neighborhood', 'bldg_type'], drop_first = True)"
   ]
  },
  {
   "cell_type": "code",
   "execution_count": 593,
   "metadata": {},
   "outputs": [
    {
     "data": {
      "text/html": [
       "<div>\n",
       "<style scoped>\n",
       "    .dataframe tbody tr th:only-of-type {\n",
       "        vertical-align: middle;\n",
       "    }\n",
       "\n",
       "    .dataframe tbody tr th {\n",
       "        vertical-align: top;\n",
       "    }\n",
       "\n",
       "    .dataframe thead th {\n",
       "        text-align: right;\n",
       "    }\n",
       "</style>\n",
       "<table border=\"1\" class=\"dataframe\">\n",
       "  <thead>\n",
       "    <tr style=\"text-align: right;\">\n",
       "      <th></th>\n",
       "      <th>bedroom_abvgr</th>\n",
       "      <th>year_remod/add</th>\n",
       "      <th>overall_cond</th>\n",
       "      <th>garage_cars</th>\n",
       "      <th>lot_area</th>\n",
       "      <th>total_sf</th>\n",
       "      <th>total_bath</th>\n",
       "      <th>house_style_1.5Unf</th>\n",
       "      <th>house_style_1Story</th>\n",
       "      <th>house_style_2.5Fin</th>\n",
       "      <th>...</th>\n",
       "      <th>neighborhood_Sawyer</th>\n",
       "      <th>neighborhood_SawyerW</th>\n",
       "      <th>neighborhood_Somerst</th>\n",
       "      <th>neighborhood_StoneBr</th>\n",
       "      <th>neighborhood_Timber</th>\n",
       "      <th>neighborhood_Veenker</th>\n",
       "      <th>bldg_type_2fmCon</th>\n",
       "      <th>bldg_type_Duplex</th>\n",
       "      <th>bldg_type_Twnhs</th>\n",
       "      <th>bldg_type_TwnhsE</th>\n",
       "    </tr>\n",
       "  </thead>\n",
       "  <tbody>\n",
       "    <tr>\n",
       "      <th>0</th>\n",
       "      <td>4</td>\n",
       "      <td>1950</td>\n",
       "      <td>8</td>\n",
       "      <td>1</td>\n",
       "      <td>9142</td>\n",
       "      <td>2948</td>\n",
       "      <td>2.0</td>\n",
       "      <td>0</td>\n",
       "      <td>0</td>\n",
       "      <td>0</td>\n",
       "      <td>...</td>\n",
       "      <td>0</td>\n",
       "      <td>0</td>\n",
       "      <td>0</td>\n",
       "      <td>0</td>\n",
       "      <td>0</td>\n",
       "      <td>0</td>\n",
       "      <td>1</td>\n",
       "      <td>0</td>\n",
       "      <td>0</td>\n",
       "      <td>0</td>\n",
       "    </tr>\n",
       "    <tr>\n",
       "      <th>1</th>\n",
       "      <td>6</td>\n",
       "      <td>1977</td>\n",
       "      <td>4</td>\n",
       "      <td>2</td>\n",
       "      <td>9662</td>\n",
       "      <td>3934</td>\n",
       "      <td>2.0</td>\n",
       "      <td>0</td>\n",
       "      <td>1</td>\n",
       "      <td>0</td>\n",
       "      <td>...</td>\n",
       "      <td>1</td>\n",
       "      <td>0</td>\n",
       "      <td>0</td>\n",
       "      <td>0</td>\n",
       "      <td>0</td>\n",
       "      <td>0</td>\n",
       "      <td>0</td>\n",
       "      <td>1</td>\n",
       "      <td>0</td>\n",
       "      <td>0</td>\n",
       "    </tr>\n",
       "    <tr>\n",
       "      <th>2</th>\n",
       "      <td>3</td>\n",
       "      <td>2006</td>\n",
       "      <td>5</td>\n",
       "      <td>2</td>\n",
       "      <td>17104</td>\n",
       "      <td>2150</td>\n",
       "      <td>2.5</td>\n",
       "      <td>0</td>\n",
       "      <td>0</td>\n",
       "      <td>0</td>\n",
       "      <td>...</td>\n",
       "      <td>0</td>\n",
       "      <td>0</td>\n",
       "      <td>0</td>\n",
       "      <td>0</td>\n",
       "      <td>0</td>\n",
       "      <td>0</td>\n",
       "      <td>0</td>\n",
       "      <td>0</td>\n",
       "      <td>0</td>\n",
       "      <td>0</td>\n",
       "    </tr>\n",
       "    <tr>\n",
       "      <th>3</th>\n",
       "      <td>2</td>\n",
       "      <td>2006</td>\n",
       "      <td>6</td>\n",
       "      <td>2</td>\n",
       "      <td>8520</td>\n",
       "      <td>1936</td>\n",
       "      <td>1.0</td>\n",
       "      <td>0</td>\n",
       "      <td>1</td>\n",
       "      <td>0</td>\n",
       "      <td>...</td>\n",
       "      <td>0</td>\n",
       "      <td>0</td>\n",
       "      <td>0</td>\n",
       "      <td>0</td>\n",
       "      <td>0</td>\n",
       "      <td>0</td>\n",
       "      <td>0</td>\n",
       "      <td>0</td>\n",
       "      <td>0</td>\n",
       "      <td>0</td>\n",
       "    </tr>\n",
       "    <tr>\n",
       "      <th>4</th>\n",
       "      <td>3</td>\n",
       "      <td>1963</td>\n",
       "      <td>5</td>\n",
       "      <td>2</td>\n",
       "      <td>9500</td>\n",
       "      <td>2788</td>\n",
       "      <td>1.5</td>\n",
       "      <td>0</td>\n",
       "      <td>1</td>\n",
       "      <td>0</td>\n",
       "      <td>...</td>\n",
       "      <td>0</td>\n",
       "      <td>0</td>\n",
       "      <td>0</td>\n",
       "      <td>0</td>\n",
       "      <td>0</td>\n",
       "      <td>0</td>\n",
       "      <td>0</td>\n",
       "      <td>0</td>\n",
       "      <td>0</td>\n",
       "      <td>0</td>\n",
       "    </tr>\n",
       "  </tbody>\n",
       "</table>\n",
       "<p>5 rows × 43 columns</p>\n",
       "</div>"
      ],
      "text/plain": [
       "   bedroom_abvgr  year_remod/add  overall_cond  garage_cars  lot_area  \\\n",
       "0              4            1950             8            1      9142   \n",
       "1              6            1977             4            2      9662   \n",
       "2              3            2006             5            2     17104   \n",
       "3              2            2006             6            2      8520   \n",
       "4              3            1963             5            2      9500   \n",
       "\n",
       "   total_sf  total_bath  house_style_1.5Unf  house_style_1Story  \\\n",
       "0      2948         2.0                   0                   0   \n",
       "1      3934         2.0                   0                   1   \n",
       "2      2150         2.5                   0                   0   \n",
       "3      1936         1.0                   0                   1   \n",
       "4      2788         1.5                   0                   1   \n",
       "\n",
       "   house_style_2.5Fin  ...  neighborhood_Sawyer  neighborhood_SawyerW  \\\n",
       "0                   0  ...                    0                     0   \n",
       "1                   0  ...                    1                     0   \n",
       "2                   0  ...                    0                     0   \n",
       "3                   0  ...                    0                     0   \n",
       "4                   0  ...                    0                     0   \n",
       "\n",
       "   neighborhood_Somerst  neighborhood_StoneBr  neighborhood_Timber  \\\n",
       "0                     0                     0                    0   \n",
       "1                     0                     0                    0   \n",
       "2                     0                     0                    0   \n",
       "3                     0                     0                    0   \n",
       "4                     0                     0                    0   \n",
       "\n",
       "   neighborhood_Veenker  bldg_type_2fmCon  bldg_type_Duplex  bldg_type_Twnhs  \\\n",
       "0                     0                 1                 0                0   \n",
       "1                     0                 0                 1                0   \n",
       "2                     0                 0                 0                0   \n",
       "3                     0                 0                 0                0   \n",
       "4                     0                 0                 0                0   \n",
       "\n",
       "   bldg_type_TwnhsE  \n",
       "0                 0  \n",
       "1                 0  \n",
       "2                 0  \n",
       "3                 0  \n",
       "4                 0  \n",
       "\n",
       "[5 rows x 43 columns]"
      ]
     },
     "execution_count": 593,
     "metadata": {},
     "output_type": "execute_result"
    }
   ],
   "source": [
    "simple_test.head()"
   ]
  },
  {
   "cell_type": "markdown",
   "metadata": {},
   "source": [
    "### Reshaping test and train df's to match"
   ]
  },
  {
   "cell_type": "code",
   "execution_count": 594,
   "metadata": {
    "scrolled": true
   },
   "outputs": [
    {
     "data": {
      "text/plain": [
       "(878, 43)"
      ]
     },
     "execution_count": 594,
     "metadata": {},
     "output_type": "execute_result"
    }
   ],
   "source": [
    "simple_test.shape"
   ]
  },
  {
   "cell_type": "code",
   "execution_count": 595,
   "metadata": {},
   "outputs": [],
   "source": [
    "for item in simple_df.columns:\n",
    "    if item not in simple_test.columns and item != 'saleprice':\n",
    "        simple_df.drop(columns = [item], inplace = True)"
   ]
  },
  {
   "cell_type": "code",
   "execution_count": 596,
   "metadata": {},
   "outputs": [
    {
     "data": {
      "text/plain": [
       "(2051, 44)"
      ]
     },
     "execution_count": 596,
     "metadata": {},
     "output_type": "execute_result"
    }
   ],
   "source": [
    "simple_df.shape"
   ]
  },
  {
   "cell_type": "markdown",
   "metadata": {},
   "source": [
    "### Save a copy of Simple Df with Dummies"
   ]
  },
  {
   "cell_type": "code",
   "execution_count": 597,
   "metadata": {},
   "outputs": [],
   "source": [
    "simple_df.to_csv('../datasets/simple_dummy.csv')"
   ]
  },
  {
   "cell_type": "code",
   "execution_count": 598,
   "metadata": {},
   "outputs": [],
   "source": [
    "simple_test.to_csv('../datasets/simple_test_dummy.csv')"
   ]
  },
  {
   "cell_type": "markdown",
   "metadata": {},
   "source": [
    "# Create X and Y"
   ]
  },
  {
   "cell_type": "code",
   "execution_count": 599,
   "metadata": {},
   "outputs": [],
   "source": [
    "features = simple_df.drop('saleprice', axis = 1)"
   ]
  },
  {
   "cell_type": "code",
   "execution_count": 600,
   "metadata": {},
   "outputs": [
    {
     "data": {
      "text/plain": [
       "(2051, 43)"
      ]
     },
     "execution_count": 600,
     "metadata": {},
     "output_type": "execute_result"
    }
   ],
   "source": [
    "features.shape"
   ]
  },
  {
   "cell_type": "code",
   "execution_count": 602,
   "metadata": {},
   "outputs": [
    {
     "data": {
      "text/plain": [
       "(878, 43)"
      ]
     },
     "execution_count": 602,
     "metadata": {},
     "output_type": "execute_result"
    }
   ],
   "source": [
    "simple_test.shape"
   ]
  },
  {
   "cell_type": "code",
   "execution_count": 610,
   "metadata": {},
   "outputs": [
    {
     "data": {
      "text/plain": [
       "['bedroom_abvgr',\n",
       " 'year_remod/add',\n",
       " 'overall_cond',\n",
       " 'garage_cars',\n",
       " 'lot_area',\n",
       " 'total_sf',\n",
       " 'total_bath',\n",
       " 'saleprice',\n",
       " 'house_style_1.5Unf',\n",
       " 'house_style_1Story',\n",
       " 'house_style_2.5Fin',\n",
       " 'house_style_2.5Unf',\n",
       " 'house_style_2Story',\n",
       " 'house_style_SFoyer',\n",
       " 'house_style_SLvl',\n",
       " 'neighborhood_Blueste',\n",
       " 'neighborhood_BrDale',\n",
       " 'neighborhood_BrkSide',\n",
       " 'neighborhood_ClearCr',\n",
       " 'neighborhood_CollgCr',\n",
       " 'neighborhood_Crawfor',\n",
       " 'neighborhood_Edwards',\n",
       " 'neighborhood_Gilbert',\n",
       " 'neighborhood_Greens',\n",
       " 'neighborhood_IDOTRR',\n",
       " 'neighborhood_MeadowV',\n",
       " 'neighborhood_Mitchel',\n",
       " 'neighborhood_NAmes',\n",
       " 'neighborhood_NPkVill',\n",
       " 'neighborhood_NWAmes',\n",
       " 'neighborhood_NoRidge',\n",
       " 'neighborhood_NridgHt',\n",
       " 'neighborhood_OldTown',\n",
       " 'neighborhood_SWISU',\n",
       " 'neighborhood_Sawyer',\n",
       " 'neighborhood_SawyerW',\n",
       " 'neighborhood_Somerst',\n",
       " 'neighborhood_StoneBr',\n",
       " 'neighborhood_Timber',\n",
       " 'neighborhood_Veenker',\n",
       " 'bldg_type_2fmCon',\n",
       " 'bldg_type_Duplex',\n",
       " 'bldg_type_Twnhs',\n",
       " 'bldg_type_TwnhsE']"
      ]
     },
     "execution_count": 610,
     "metadata": {},
     "output_type": "execute_result"
    }
   ],
   "source": [
    "list(simple_df.columns)"
   ]
  },
  {
   "cell_type": "code",
   "execution_count": 615,
   "metadata": {},
   "outputs": [
    {
     "data": {
      "text/plain": [
       "['bedroom_abvgr',\n",
       " 'year_remod/add',\n",
       " 'overall_cond',\n",
       " 'garage_cars',\n",
       " 'lot_area',\n",
       " 'total_sf',\n",
       " 'total_bath',\n",
       " 'house_style_1.5Unf',\n",
       " 'house_style_1Story',\n",
       " 'house_style_2.5Fin',\n",
       " 'house_style_2.5Unf',\n",
       " 'house_style_2Story',\n",
       " 'house_style_SFoyer',\n",
       " 'house_style_SLvl',\n",
       " 'neighborhood_Blueste',\n",
       " 'neighborhood_BrDale',\n",
       " 'neighborhood_BrkSide',\n",
       " 'neighborhood_ClearCr',\n",
       " 'neighborhood_CollgCr',\n",
       " 'neighborhood_Crawfor',\n",
       " 'neighborhood_Edwards',\n",
       " 'neighborhood_Gilbert',\n",
       " 'neighborhood_Greens',\n",
       " 'neighborhood_IDOTRR',\n",
       " 'neighborhood_MeadowV',\n",
       " 'neighborhood_Mitchel',\n",
       " 'neighborhood_NAmes',\n",
       " 'neighborhood_NPkVill',\n",
       " 'neighborhood_NWAmes',\n",
       " 'neighborhood_NoRidge',\n",
       " 'neighborhood_NridgHt',\n",
       " 'neighborhood_OldTown',\n",
       " 'neighborhood_SWISU',\n",
       " 'neighborhood_Sawyer',\n",
       " 'neighborhood_SawyerW',\n",
       " 'neighborhood_Somerst',\n",
       " 'neighborhood_StoneBr',\n",
       " 'neighborhood_Timber',\n",
       " 'neighborhood_Veenker',\n",
       " 'bldg_type_2fmCon',\n",
       " 'bldg_type_Duplex',\n",
       " 'bldg_type_Twnhs',\n",
       " 'bldg_type_TwnhsE']"
      ]
     },
     "execution_count": 615,
     "metadata": {},
     "output_type": "execute_result"
    }
   ],
   "source": [
    "list(simple_test.columns)"
   ]
  },
  {
   "cell_type": "code",
   "execution_count": 621,
   "metadata": {},
   "outputs": [],
   "source": [
    "X = features\n",
    "y = simple_df['saleprice']\n",
    "\n",
    "X_test = simple_test"
   ]
  },
  {
   "cell_type": "markdown",
   "metadata": {},
   "source": [
    "# Train/Test Split"
   ]
  },
  {
   "cell_type": "code",
   "execution_count": 623,
   "metadata": {},
   "outputs": [],
   "source": [
    "# Create train/test splits\n",
    "X_train, X_test, y_train, y_test = train_test_split( X_overfit, \n",
    "         y, \n",
    "         random_state = 42 )"
   ]
  },
  {
   "cell_type": "markdown",
   "metadata": {},
   "source": [
    "Scale Data"
   ]
  },
  {
   "cell_type": "code",
   "execution_count": 625,
   "metadata": {},
   "outputs": [],
   "source": [
    "#Relabeling scaled data as \"Z\" is common. \n",
    "\n",
    "sc = StandardScaler()\n",
    "Z_train = sc.fit_transform(X_train)\n",
    "Z_test = sc.transform(X_test)"
   ]
  },
  {
   "cell_type": "markdown",
   "metadata": {},
   "source": [
    "Instantiate Linear Regression, Lasso and Ridge Models"
   ]
  },
  {
   "cell_type": "code",
   "execution_count": 626,
   "metadata": {},
   "outputs": [],
   "source": [
    "# Instantiate Linear Regresion\n",
    "lr = LinearRegression()"
   ]
  },
  {
   "cell_type": "code",
   "execution_count": 627,
   "metadata": {},
   "outputs": [],
   "source": [
    "#Instantitate Ridge Model\n",
    "ridge = RidgeCV()"
   ]
  },
  {
   "cell_type": "markdown",
   "metadata": {},
   "source": [
    "Cross Validation"
   ]
  },
  {
   "cell_type": "code",
   "execution_count": 628,
   "metadata": {},
   "outputs": [
    {
     "data": {
      "text/plain": [
       "-3.2977046770183947e+25"
      ]
     },
     "execution_count": 628,
     "metadata": {},
     "output_type": "execute_result"
    }
   ],
   "source": [
    "lr_scores = cross_val_score(lr, Z_train, y_train, cv=3)\n",
    "lr_scores.mean()"
   ]
  },
  {
   "cell_type": "code",
   "execution_count": 629,
   "metadata": {},
   "outputs": [
    {
     "data": {
      "text/plain": [
       "0.7955319175160085"
      ]
     },
     "execution_count": 629,
     "metadata": {},
     "output_type": "execute_result"
    }
   ],
   "source": [
    "ridge.scores = cross_val_score(ridge, Z_train, y_train, cv=3)\n",
    "ridge.scores.mean()"
   ]
  },
  {
   "cell_type": "code",
   "execution_count": 633,
   "metadata": {},
   "outputs": [
    {
     "data": {
      "text/plain": [
       "RidgeCV(alphas=array([ 0.1,  1. , 10. ]))"
      ]
     },
     "execution_count": 633,
     "metadata": {},
     "output_type": "execute_result"
    }
   ],
   "source": [
    "ridge.fit(X_train, y_train)"
   ]
  },
  {
   "cell_type": "code",
   "execution_count": 634,
   "metadata": {},
   "outputs": [],
   "source": [
    "test_predict = ridge.predict(Z_test)"
   ]
  },
  {
   "cell_type": "code",
   "execution_count": 635,
   "metadata": {},
   "outputs": [
    {
     "data": {
      "text/plain": [
       "array([-8.10864942e+08, -8.10781806e+08, -8.10873081e+08, -8.10946333e+08,\n",
       "       -8.10834287e+08, -8.09883884e+08, -8.10897790e+08, -8.10630805e+08,\n",
       "       -8.10719881e+08, -8.10565318e+08, -8.10527025e+08, -8.11099280e+08,\n",
       "       -8.11965084e+08, -8.10637359e+08, -8.10715859e+08, -8.10990829e+08,\n",
       "       -8.10869226e+08, -8.10813289e+08, -8.10829768e+08, -8.11024945e+08,\n",
       "       -8.10805237e+08, -8.11196331e+08, -8.10858766e+08, -8.10664881e+08,\n",
       "       -8.10634418e+08, -8.09984352e+08, -8.10779794e+08, -8.10658214e+08,\n",
       "       -8.10554613e+08, -8.10779494e+08, -8.10868189e+08, -8.10706765e+08,\n",
       "       -8.10685634e+08, -8.10845586e+08, -8.10830996e+08, -8.10515237e+08,\n",
       "       -8.11449993e+08, -8.10824515e+08, -8.10021619e+08, -8.10675296e+08,\n",
       "       -8.11107920e+08, -8.10744433e+08, -8.10539031e+08, -8.10804869e+08,\n",
       "       -8.10770074e+08, -8.10697427e+08, -8.10753947e+08, -8.11015607e+08,\n",
       "       -8.10870331e+08, -8.10702515e+08, -8.11219540e+08, -8.10793531e+08,\n",
       "       -8.10802085e+08, -8.11028513e+08, -8.10741497e+08, -8.10544034e+08,\n",
       "       -8.10827266e+08, -8.10813310e+08, -8.10806155e+08, -8.10743797e+08,\n",
       "       -8.10833791e+08, -8.10927474e+08, -8.10706390e+08, -8.11094315e+08,\n",
       "       -8.11135743e+08, -8.10739309e+08, -8.10825012e+08, -8.10679796e+08,\n",
       "       -8.10505015e+08, -8.10821523e+08, -8.10833255e+08, -8.10902047e+08,\n",
       "       -8.11885363e+08, -8.10764455e+08, -8.10590789e+08, -8.11491367e+08,\n",
       "       -8.11513454e+08, -8.10791648e+08, -8.10546894e+08, -8.10903675e+08,\n",
       "       -8.10925594e+08, -8.10732568e+08, -8.10048787e+08, -8.10794637e+08,\n",
       "       -8.10793787e+08, -8.10610256e+08, -8.10712519e+08, -8.10824419e+08,\n",
       "       -8.10615238e+08, -8.10809390e+08, -8.10749057e+08, -8.10660980e+08,\n",
       "       -8.10721781e+08, -8.10753301e+08, -8.10994372e+08, -8.10859050e+08,\n",
       "       -8.10663040e+08, -8.10659591e+08, -8.10740421e+08, -8.10684658e+08,\n",
       "       -8.10828983e+08, -8.10842413e+08, -8.10776371e+08, -8.10993047e+08,\n",
       "       -8.10833957e+08, -8.10762464e+08, -8.10656355e+08, -8.10709320e+08,\n",
       "       -8.10699886e+08, -8.10758982e+08, -8.10717190e+08, -8.10764511e+08,\n",
       "       -8.10830687e+08, -8.10542984e+08, -8.10676135e+08, -8.10878377e+08,\n",
       "       -8.10806566e+08, -8.10693735e+08, -8.10746028e+08, -8.10745151e+08,\n",
       "       -8.10814968e+08, -8.10756710e+08, -8.10855122e+08, -8.10896099e+08,\n",
       "       -8.10819664e+08, -8.10679450e+08, -8.10969089e+08, -8.11093166e+08,\n",
       "       -8.10812172e+08, -8.10672815e+08, -8.10699720e+08, -8.10691114e+08,\n",
       "       -8.11106107e+08, -8.10933101e+08, -8.10620419e+08, -8.10846085e+08,\n",
       "       -8.10554232e+08, -8.10815126e+08, -8.11048870e+08, -8.10754418e+08,\n",
       "       -8.10927474e+08, -8.10648554e+08, -8.10755883e+08, -8.10581766e+08,\n",
       "       -8.10818849e+08, -8.10704209e+08, -8.10834919e+08, -8.10723515e+08,\n",
       "       -8.10677610e+08, -8.10736324e+08, -8.10948204e+08, -8.10681136e+08,\n",
       "       -8.10714099e+08, -8.11131582e+08, -8.10656924e+08, -8.10806766e+08,\n",
       "       -8.11096092e+08, -8.10910844e+08, -8.10946939e+08, -8.10833871e+08,\n",
       "       -8.10678925e+08, -8.10837051e+08, -8.10774552e+08, -8.10817912e+08,\n",
       "       -8.10652288e+08, -8.10822778e+08, -8.10791422e+08, -8.10771878e+08,\n",
       "       -8.11136890e+08, -8.10364409e+08, -8.10665491e+08, -8.10620871e+08,\n",
       "       -8.10808932e+08, -8.10832792e+08, -8.10982414e+08, -8.10677812e+08,\n",
       "       -8.10521711e+08, -8.10667638e+08, -8.10725589e+08, -8.10650332e+08,\n",
       "       -8.10608963e+08, -8.10723266e+08, -8.10816226e+08, -8.10802934e+08,\n",
       "       -8.10507550e+08, -8.11054973e+08, -8.10688352e+08, -8.11519059e+08,\n",
       "       -8.10689299e+08, -8.10633956e+08, -8.10865391e+08, -8.10737188e+08,\n",
       "       -8.10738176e+08, -8.10867618e+08, -8.10688762e+08, -8.10833896e+08,\n",
       "       -8.10789392e+08, -8.10632623e+08, -8.10827664e+08, -8.10775294e+08,\n",
       "       -8.10726903e+08, -8.10680568e+08, -8.10811235e+08, -8.10691445e+08,\n",
       "       -8.10739404e+08, -8.10691915e+08, -8.11042130e+08, -8.10667324e+08,\n",
       "       -8.10743173e+08, -8.10800473e+08, -8.10646680e+08, -8.10828451e+08,\n",
       "       -8.10531919e+08, -8.10711568e+08, -8.10438163e+08, -8.10831574e+08,\n",
       "       -8.10678392e+08, -8.10688153e+08, -8.10832928e+08, -8.10617921e+08,\n",
       "       -8.10650458e+08, -8.10780009e+08, -8.10796247e+08, -8.10806653e+08,\n",
       "       -8.10675073e+08, -8.10834899e+08, -8.10836500e+08, -8.10752653e+08,\n",
       "       -8.10659581e+08, -8.10763478e+08, -8.11014770e+08, -8.10736521e+08,\n",
       "       -8.10791575e+08, -8.10740833e+08, -8.10757862e+08, -8.10735746e+08,\n",
       "       -8.10687631e+08, -8.10617426e+08, -8.10751222e+08, -8.10728547e+08,\n",
       "       -8.11092890e+08, -8.10697622e+08, -8.10781100e+08, -8.10710997e+08,\n",
       "       -8.10656616e+08, -8.10759112e+08, -8.10594929e+08, -8.10718518e+08,\n",
       "       -8.10792442e+08, -8.10823405e+08, -8.10586533e+08, -8.10677110e+08,\n",
       "       -8.11023921e+08, -8.10810350e+08, -8.10742846e+08, -8.10896006e+08,\n",
       "       -8.10692068e+08, -8.10589925e+08, -8.10916426e+08, -8.10835847e+08,\n",
       "       -8.11018935e+08, -8.10498154e+08, -8.10748194e+08, -8.10632037e+08,\n",
       "       -8.10705123e+08, -8.11050468e+08, -8.10861134e+08, -8.10782878e+08,\n",
       "       -8.10752358e+08, -8.11147021e+08, -8.10834481e+08, -8.10783150e+08,\n",
       "       -8.10470223e+08, -8.10826602e+08, -8.10789910e+08, -8.10884804e+08,\n",
       "       -8.10867756e+08, -8.10994832e+08, -8.10857300e+08, -8.10468329e+08,\n",
       "       -8.10708460e+08, -8.10691093e+08, -8.10827974e+08, -8.11009919e+08,\n",
       "       -8.10603120e+08, -8.11665866e+08, -8.10677845e+08, -8.10699576e+08,\n",
       "       -8.10584987e+08, -8.10595829e+08, -8.10728547e+08, -8.10640746e+08,\n",
       "       -8.10685588e+08, -8.10973492e+08, -8.10776677e+08, -8.10844006e+08,\n",
       "       -8.10722647e+08, -8.10783728e+08, -8.10805034e+08, -8.10834425e+08,\n",
       "       -8.10700593e+08, -8.11195384e+08, -8.10834770e+08, -8.10703595e+08,\n",
       "       -8.10716228e+08, -8.10807105e+08, -8.10824064e+08, -8.10763958e+08,\n",
       "       -8.11477621e+08, -8.10801729e+08, -8.10316912e+08, -8.10532223e+08,\n",
       "       -8.10867969e+08, -8.10775878e+08, -8.10777623e+08, -8.10856040e+08,\n",
       "       -8.10777167e+08, -8.10595516e+08, -8.11560541e+08, -8.11143644e+08,\n",
       "       -8.10944744e+08, -8.10741860e+08, -8.10741136e+08, -8.10735986e+08,\n",
       "       -8.10495062e+08, -8.10749243e+08, -8.10711683e+08, -8.10805087e+08,\n",
       "       -8.11138172e+08, -8.10928303e+08, -8.10304073e+08, -8.10495311e+08,\n",
       "       -8.10833299e+08, -8.10745308e+08, -8.10967039e+08, -8.10737188e+08,\n",
       "       -8.10872726e+08, -8.10717188e+08, -8.10856059e+08, -8.10860571e+08,\n",
       "       -8.10821174e+08, -8.10685309e+08, -8.10680662e+08, -8.10525851e+08,\n",
       "       -8.10602379e+08, -8.10867969e+08, -8.10760368e+08, -8.10817410e+08,\n",
       "       -8.10713311e+08, -8.10395071e+08, -8.10784140e+08, -8.10315693e+08,\n",
       "       -8.10651253e+08, -8.10522284e+08, -8.11011975e+08, -8.10825913e+08,\n",
       "       -8.10883638e+08, -8.10883704e+08, -8.10807240e+08, -8.10819889e+08,\n",
       "       -8.10894557e+08, -8.10827788e+08, -8.10757168e+08, -8.10676003e+08,\n",
       "       -8.10913234e+08, -8.10835136e+08, -8.10977763e+08, -8.11092375e+08,\n",
       "       -8.10678076e+08, -8.10905104e+08, -8.10455204e+08, -8.10713536e+08,\n",
       "       -8.11558877e+08, -8.10344552e+08, -8.10662802e+08, -8.10546095e+08,\n",
       "       -8.10637689e+08, -8.10805066e+08, -8.10826007e+08, -8.10735569e+08,\n",
       "       -8.10501750e+08, -8.10745073e+08, -8.11138384e+08, -8.10760377e+08,\n",
       "       -8.10772895e+08, -8.10617725e+08, -8.10479590e+08, -8.10820357e+08,\n",
       "       -8.10680712e+08, -8.10772587e+08, -8.10729945e+08, -8.11043226e+08,\n",
       "       -8.10951318e+08, -8.10724776e+08, -8.11123287e+08, -8.10858874e+08,\n",
       "       -8.10858749e+08, -8.10839663e+08, -8.11097561e+08, -8.10644791e+08,\n",
       "       -8.10749689e+08, -8.10684015e+08, -8.10803350e+08, -8.10495443e+08,\n",
       "       -8.10577909e+08, -8.10834456e+08, -8.10450944e+08, -8.10690191e+08,\n",
       "       -8.10905102e+08, -8.11031134e+08, -8.11029460e+08, -8.11194669e+08,\n",
       "       -8.10903922e+08, -8.10927800e+08, -8.10551354e+08, -8.11450907e+08,\n",
       "       -8.10713116e+08, -8.10500170e+08, -8.11047569e+08, -8.10734980e+08,\n",
       "       -8.10859624e+08, -8.10831184e+08, -8.10662634e+08, -8.10806120e+08,\n",
       "       -8.10650255e+08, -8.10666130e+08, -8.10638459e+08, -8.10661697e+08,\n",
       "       -8.10858035e+08, -8.10830788e+08, -8.10903344e+08, -8.10549524e+08,\n",
       "       -8.10682838e+08, -8.10833941e+08, -8.10703336e+08, -8.10596539e+08,\n",
       "       -8.10519645e+08, -8.11035481e+08, -8.10837822e+08, -8.10742835e+08,\n",
       "       -8.10268513e+08, -8.10893596e+08, -8.10709194e+08, -8.10771925e+08,\n",
       "       -8.10830410e+08, -8.10359474e+08, -8.10812739e+08, -8.10819494e+08,\n",
       "       -8.10831953e+08, -8.10869084e+08, -8.10488778e+08, -8.10637938e+08,\n",
       "       -8.10853736e+08, -8.10819505e+08, -8.10696971e+08, -8.10703178e+08,\n",
       "       -8.10867734e+08, -8.10718019e+08, -8.10901926e+08, -8.10648795e+08,\n",
       "       -8.11943539e+08, -8.10943540e+08, -8.10756314e+08, -8.11097569e+08,\n",
       "       -8.10529824e+08, -8.10673320e+08, -8.10779719e+08, -8.10739646e+08,\n",
       "       -8.10691291e+08, -8.11023535e+08, -8.11193013e+08, -8.10608083e+08,\n",
       "       -8.10667913e+08, -8.10836652e+08, -8.10649724e+08, -8.10831657e+08,\n",
       "       -8.11162474e+08, -8.10728367e+08, -8.10699019e+08, -8.10813204e+08,\n",
       "       -8.11019398e+08, -8.10585284e+08, -8.10935578e+08, -8.10701188e+08,\n",
       "       -8.10801460e+08, -8.10868548e+08, -8.10953026e+08, -8.10839343e+08,\n",
       "       -8.10808679e+08, -8.10848151e+08, -8.10724091e+08, -8.10677529e+08,\n",
       "       -8.11199561e+08, -8.10717934e+08, -8.10635868e+08, -8.10589486e+08,\n",
       "       -8.10544929e+08, -8.10988285e+08, -8.10832928e+08, -8.11479588e+08,\n",
       "       -8.10639220e+08, -8.10697797e+08, -8.10825998e+08, -8.10708543e+08,\n",
       "       -8.10773426e+08, -8.10829422e+08, -8.10871882e+08, -8.10624707e+08,\n",
       "       -8.10484752e+08, -8.10605792e+08, -8.10636570e+08, -8.10385671e+08,\n",
       "       -8.11136711e+08])"
      ]
     },
     "execution_count": 635,
     "metadata": {},
     "output_type": "execute_result"
    }
   ],
   "source": [
    "test_predict"
   ]
  },
  {
   "cell_type": "code",
   "execution_count": null,
   "metadata": {},
   "outputs": [],
   "source": []
  }
 ],
 "metadata": {
  "kernelspec": {
   "display_name": "Python 3",
   "language": "python",
   "name": "python3"
  },
  "language_info": {
   "codemirror_mode": {
    "name": "ipython",
    "version": 3
   },
   "file_extension": ".py",
   "mimetype": "text/x-python",
   "name": "python",
   "nbconvert_exporter": "python",
   "pygments_lexer": "ipython3",
   "version": "3.8.3"
  }
 },
 "nbformat": 4,
 "nbformat_minor": 4
}
